{
 "cells": [
  {
   "cell_type": "markdown",
   "metadata": {
    "slideshow": {
     "slide_type": "slide"
    }
   },
   "source": [
    "\n",
    "\n",
    "\n",
    "# ECO 701: Microeconomic Theory, Fall 2017\n",
    "\n",
    "## Jonathan Conning"
   ]
  },
  {
   "cell_type": "markdown",
   "metadata": {
    "slideshow": {
     "slide_type": "slide"
    }
   },
   "source": [
    "**Office Hours: HW1504A\n",
    "After class, Tue, Wed 11-12pm and by appt.**\n",
    "\n",
    "jconning@hunter.cuny.edu\n",
    "\n",
    "**Teaching Assistant:** Chuxin Liu"
   ]
  },
  {
   "cell_type": "markdown",
   "metadata": {
    "collapsed": true,
    "slideshow": {
     "slide_type": "slide"
    }
   },
   "source": [
    "## Textbook\n",
    "**Nicholson & Snyder, *Microeconomic Theory: Basic Principles and Extensions*.**   11th edition (10th or 12th acceptable).\n",
    "<img src=\"https://images-na.ssl-images-amazon.com/images/I/41pxoVIgGaL._SX398_BO1,204,203,200_.jpg\" alt=\"Drawing\" style=\"width: 300px;\"/>"
   ]
  },
  {
   "cell_type": "markdown",
   "metadata": {
    "slideshow": {
     "slide_type": "slide"
    }
   },
   "source": [
    "### Jupyter notebook materials\n",
    "  - These lecture slides, problem sets and other handouts prepared as Jupyter notebooks "
   ]
  },
  {
   "cell_type": "markdown",
   "metadata": {
    "slideshow": {
     "slide_type": "fragment"
    }
   },
   "source": [
    "  - Cells use markdown for text and math and python (or other language) code for interactive simulations and visualizations."
   ]
  },
  {
   "cell_type": "markdown",
   "metadata": {
    "slideshow": {
     "slide_type": "subslide"
    }
   },
   "source": [
    "  - Notebooks can be rendered in different formats. Depending on how you access, you may be viewing:\n",
    "     - Interactive notebook (.ipynb) that can be viewed an modified on jupyter server on own computer or cloud. Interactive widgets work.\n",
    "     - Static HTML or PDF rendering. Cannot edit and interactive widgets do not work or display.\n",
    "     - Slideshow from notebook displays only pre-selected cells. May be static or interactive (alt-r)"
   ]
  },
  {
   "cell_type": "markdown",
   "metadata": {
    "slideshow": {
     "slide_type": "subslide"
    }
   },
   "source": [
    "  - Promising but still evolving technology, so this is an experiment ! \n",
    "    - Please suggest ways to improve content and user experience."
   ]
  },
  {
   "cell_type": "markdown",
   "metadata": {
    "slideshow": {
     "slide_type": "subslide"
    }
   },
   "source": [
    "### The Eco 701 notebook library\n",
    "  - class notebooks stored in a library on Microsoft's Azure Notebooks server, a free cloud server: [notebooks.azure.com/jhconning/libraries/eco701](https://notebooks.azure.com/jhconning/libraries/eco701)  \n",
    "    - Follow link create account/login to view notebooks/slideshows. \n",
    "    - 'Clone' library to your own account if you wish to interact/modify notebooks or download to own machine if you have local  jupyter notebooks and python installation.\n",
    "\n",
    "- [Eco 701 repository] on github also has content and will be used for issue tracking (i.e.your post corrections/suggestions welcomed here)."
   ]
  },
  {
   "cell_type": "markdown",
   "metadata": {
    "slideshow": {
     "slide_type": "fragment"
    }
   },
   "source": [
    "  - You are encouraged but not required to use Jupyter notebooks interactively.\n",
    "  - Many good intros for learning to use jupyter and python including [on Azure](https://notebooks.azure.com/Microsoft/libraries/samples/html/Introduction%20to%20Python.ipynb) and at the [Quantecon project](https://lectures.quantecon.org/py/)"
   ]
  },
  {
   "cell_type": "markdown",
   "metadata": {
    "slideshow": {
     "slide_type": "subslide"
    }
   },
   "source": [
    "- ### Blackboard or google classroom \n",
    "     - for communications and grades"
   ]
  },
  {
   "cell_type": "markdown",
   "metadata": {
    "slideshow": {
     "slide_type": "slide"
    }
   },
   "source": [
    "# Course Grading\n",
    "  - ## 25% Problem sets/participation\t \n",
    "  - ## 45% higher of midterm or final\n",
    "  - ## 30% lower of midterm or final\n",
    "      - **Final:** TBA \n",
    "      - **Midterm:** TBA "
   ]
  },
  {
   "cell_type": "markdown",
   "metadata": {
    "slideshow": {
     "slide_type": "fragment"
    }
   },
   "source": [
    "### Problem sets\n",
    " - Usually 4 in the semester. ~ 2 weeks to complete\n",
    " - Can work in groups but you must write up your own answers."
   ]
  },
  {
   "cell_type": "markdown",
   "metadata": {
    "slideshow": {
     "slide_type": "fragment"
    }
   },
   "source": [
    "There are just 12 lecture sessions (excluding midterm), so problem sets and outside reading are important."
   ]
  },
  {
   "cell_type": "markdown",
   "metadata": {
    "slideshow": {
     "slide_type": "slide"
    }
   },
   "source": [
    "# What are the questions?"
   ]
  },
  {
   "cell_type": "markdown",
   "metadata": {
    "slideshow": {
     "slide_type": "slide"
    }
   },
   "source": [
    "## How do individuals and societies allocate resources? \n",
    "## What are the alternatives?\n"
   ]
  },
  {
   "cell_type": "markdown",
   "metadata": {
    "slideshow": {
     "slide_type": "fragment"
    }
   },
   "source": [
    " - Far more than the study of demand and supply choices in ‘markets’  \n",
    " - how do agents (individuals, households, firms, groups) choose to associate and contract and the rules of the game they play by. \n",
    "   - strategies, contracts, organizations, property rights, institutions and policy. Supply and demand decisions.\n",
    "   - Judging outcomes: Conflict or cooperation?  Efficient, equitable, just?"
   ]
  },
  {
   "cell_type": "markdown",
   "metadata": {
    "slideshow": {
     "slide_type": "slide"
    }
   },
   "source": [
    "## Methods and Assumptions\n",
    " - Methodological individualism  and instrumental rationality\n",
    " - Optimization subject to constraints and marginal analysis\n",
    " - Feedback, interactions and equilibrium\n",
    " - *Ceteribus paribus* and 'what-if' comparative statics\n",
    " - Modern challenges to behavioral and other assumptions\n",
    " - Theory and Evidence"
   ]
  },
  {
   "cell_type": "markdown",
   "metadata": {
    "slideshow": {
     "slide_type": "slide"
    }
   },
   "source": [
    "## What is neo-classical economics ... and why bother with it?\n",
    "\n",
    "Paul Krugman ([8/28/12](https://krugman.blogs.nytimes.com/2012/08/28/neo-fights-slightly-wonkish-and-vague/?mcubz=0&_r=0)):\n",
    "\n",
    ">... maximization-with-equilibrium. We imagine an economy consisting of rational, self-interested players, and suppose that economic outcomes reflect a situation in which each player is doing the best he, she, or it can given the actions of all the other players. If nobody has market power, this comes down to the textbook picture of perfectly competitive markets with all the marginal whatevers equal."
   ]
  },
  {
   "cell_type": "markdown",
   "metadata": {
    "slideshow": {
     "slide_type": "subslide"
    }
   },
   "source": [
    ">... Some economists really really believe that life is like this — and they have a significant impact on our discourse. \n",
    "\n",
    "> But the rest of us are well aware that this is nothing but a metaphor! [we take]... the maximization-and-equilibrium world as a starting point or baseline, which is then modified — but not too much — in the direction of realism.\n"
   ]
  },
  {
   "cell_type": "markdown",
   "metadata": {
    "slideshow": {
     "slide_type": "slide"
    }
   },
   "source": [
    "## Mathematical Preliminaries"
   ]
  },
  {
   "cell_type": "markdown",
   "metadata": {
    "slideshow": {
     "slide_type": "slide"
    }
   },
   "source": [
    "### (brief note on Jupyter notebooks)\n",
    "\n",
    "Jupyter notebooks are made up of cells that are either markdown cells or code cells.  A Jupyter slideshow is typically created by marking many code cells to be 'skipped' in order to not clutter the presentation. \n",
    "\n",
    "I'd typically hide a code cell like the following, but will reveal it here to illustrate how we are importing additional python libraries to extend the standard python library.  matplotlib and numpy are for plotting and matrix algebra. "
   ]
  },
  {
   "cell_type": "code",
   "execution_count": 1,
   "metadata": {
    "slideshow": {
     "slide_type": "-"
    }
   },
   "outputs": [],
   "source": [
    "import numpy as np\n",
    "import matplotlib.pyplot as plt\n",
    "import seaborn as sns\n",
    "%matplotlib inline"
   ]
  },
  {
   "cell_type": "markdown",
   "metadata": {
    "slideshow": {
     "slide_type": "slide"
    }
   },
   "source": [
    "## Calculus for Optimization"
   ]
  },
  {
   "cell_type": "markdown",
   "metadata": {
    "slideshow": {
     "slide_type": "fragment"
    }
   },
   "source": [
    "Cost function: $$C(q) = F + q^2$$\n",
    "\n",
    "Profit function: \n",
    "\\begin{align}\n",
    " \\Pi(q) & = P \\cdot q - C(q)  \\\\\n",
    "        &= P\\cdot q - A - q^2 \n",
    "\\end{align}\n"
   ]
  },
  {
   "cell_type": "markdown",
   "metadata": {
    "slideshow": {
     "slide_type": "fragment"
    }
   },
   "source": [
    "First-order necessary condition: $\\frac{d\\Pi}{dq} = P - 2q = 0$\n",
    "\n",
    "Solve for $q$:  $q^* =\\frac{P}{2} $\n",
    "\n",
    "Profit maximizing output level is independent of fixed cost $F$ "
   ]
  },
  {
   "cell_type": "code",
   "execution_count": 2,
   "metadata": {
    "slideshow": {
     "slide_type": "skip"
    }
   },
   "outputs": [],
   "source": [
    "F = 10\n",
    "P = 10\n",
    "\n",
    "def C(q, F=F):\n",
    "    return F + q**2\n",
    "\n",
    "def profit(q, P=P, F=F):\n",
    "    return P*q - C(q, F)\n",
    "\n",
    "def opt(P, F):\n",
    "    return P/2, profit(P/2, P, F)\n",
    "\n",
    "q = np.linspace(0,10,20)"
   ]
  },
  {
   "cell_type": "code",
   "execution_count": 3,
   "metadata": {
    "slideshow": {
     "slide_type": "slide"
    }
   },
   "outputs": [
    {
     "data": {
      "image/png": "[encoded data removed]",
      "text/plain": [
       "<Figure size 864x360 with 1 Axes>"
      ]
     },
     "metadata": {},
     "output_type": "display_data"
    }
   ],
   "source": [
    "qe, pre = opt(P,F)\n",
    "\n",
    "plt.figure(figsize=(12,5))\n",
    "plt.plot(q, profit(q))\n",
    "plt.scatter(qe,pre)\n",
    "plt.plot([qe,qe],[0,pre],linestyle=':')\n",
    "plt.gca().spines['bottom'].set_position('zero')\n",
    "plt.gca().spines['right'].set_visible(False)\n",
    "plt.gca().spines['top'].set_visible(False)\n",
    "plt.xlabel(r'$q - output$');"
   ]
  },
  {
   "cell_type": "markdown",
   "metadata": {
    "slideshow": {
     "slide_type": "slide"
    }
   },
   "source": [
    "### Next Lecture: [Constrained Optimization](01_Constrained_Optimization.ipynb)"
   ]
  }
 ],
 "metadata": {
  "hide_input": false,
  "kernelspec": {
   "display_name": "Python 3",
   "language": "python",
   "name": "python3"
  },
  "language_info": {
   "codemirror_mode": {
    "name": "ipython",
    "version": 3
   },
   "file_extension": ".py",
   "mimetype": "text/x-python",
   "name": "python",
   "nbconvert_exporter": "python",
   "pygments_lexer": "ipython3",
   "version": "3.6.6"
  },
  "toc": {
   "colors": {
    "hover_highlight": "#DAA520",
    "navigate_num": "#000000",
    "navigate_text": "#333333",
    "running_highlight": "#FF0000",
    "selected_highlight": "#FFD700",
    "sidebar_border": "#EEEEEE",
    "wrapper_background": "#FFFFFF"
   },
   "moveMenuLeft": true,
   "nav_menu": {
    "height": "119px",
    "width": "252px"
   },
   "navigate_menu": true,
   "number_sections": false,
   "sideBar": true,
   "threshold": 4,
   "toc_cell": false,
   "toc_section_display": "block",
   "toc_window_display": false,
   "widenNotebook": false
  },
  "varInspector": {
   "cols": {
    "lenName": 16,
    "lenType": 16,
    "lenVar": 40
   },
   "kernels_config": {
    "python": {
     "delete_cmd_postfix": "",
     "delete_cmd_prefix": "del ",
     "library": "var_list.py",
     "varRefreshCmd": "print(var_dic_list())"
    },
    "r": {
     "delete_cmd_postfix": ") ",
     "delete_cmd_prefix": "rm(",
     "library": "var_list.r",
     "varRefreshCmd": "cat(var_dic_list()) "
    }
   },
   "types_to_exclude": [
    "module",
    "function",
    "builtin_function_or_method",
    "instance",
    "_Feature"
   ],
   "window_display": false
  }
 },
 "nbformat": 4,
 "nbformat_minor": 2
}
