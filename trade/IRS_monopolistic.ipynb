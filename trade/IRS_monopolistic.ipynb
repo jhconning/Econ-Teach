{
 "cells": [
  {
   "cell_type": "markdown",
   "metadata": {
    "slideshow": {
     "slide_type": "slide"
    }
   },
   "source": [
    "# Increasing returns, Monopolistic Competition \n",
    "# and International Trade"
   ]
  },
  {
   "cell_type": "markdown",
   "metadata": {
    "slideshow": {
     "slide_type": "subslide"
    }
   },
   "source": [
    "The following is a simplified presentation and simulation of models of Increasing Returns to Scale, monopolistic competition and Trade.\n",
    "- Krugman (1979) article by the same name in the *Journal of International Economics* \n",
    "    - but simplified similar to Krugman, Obstfeld, Melitz textbook, for graph analysis.\n",
    "    - linear demand setup from Salop, S. (1979)  “Monopolistic Competition with Outside Goods,” *Bell Journal of Economics*\n"
   ]
  },
  {
   "cell_type": "markdown",
   "metadata": {
    "slideshow": {
     "slide_type": "skip"
    }
   },
   "source": [
    "This is a jupyter notebook with executable python code for the graphs and simulations. If you want to execute and interact with the content below please first go to the [Code Section](#Code-Section) below, execute the code there and then return."
   ]
  },
  {
   "cell_type": "markdown",
   "metadata": {
    "slideshow": {
     "slide_type": "slide"
    }
   },
   "source": [
    "### Monopolistic Competition Preliminaries\n",
    "\n",
    "Consider a demand curve of the form:\n",
    "\n",
    "$$\n",
    "q_i = A - b \\cdot P_i\n",
    "$$"
   ]
  },
  {
   "cell_type": "markdown",
   "metadata": {
    "slideshow": {
     "slide_type": "fragment"
    }
   },
   "source": [
    "It's associated inverse demand function will be:\n",
    "$$\n",
    "P(q_i) = \\frac{A}{b} - \\frac{1}{b} \\cdot q_i\n",
    "$$"
   ]
  },
  {
   "cell_type": "markdown",
   "metadata": {
    "slideshow": {
     "slide_type": "slide"
    }
   },
   "source": [
    "Total Revenue $\\mathit{TR}(q_i) = P(q_i) \\cdot q_i$ can be defined and differentiated to find\n",
    "\n",
    "$$\n",
    "\\mathit{MR}(q_i) = \\frac{A}{b} - \\frac{2}{b} \\cdot q_i =  P - \\frac{1}{b} \\cdot q_i\n",
    "$$\n",
    " "
   ]
  },
  {
   "cell_type": "markdown",
   "metadata": {
    "slideshow": {
     "slide_type": "fragment"
    }
   },
   "source": [
    "Rearranging, this gives us an expression for the gap \n",
    "\n",
    "$$\n",
    "P(q_i) - \\mathit{MR}(q_i) = \\frac{q_i}{b}\n",
    "$$"
   ]
  },
  {
   "cell_type": "markdown",
   "metadata": {
    "slideshow": {
     "slide_type": "fragment"
    }
   },
   "source": [
    "This is also the firm's **markup over marginal cost** $P-\\mathit{MC}$  (since $\\mathit{MR=MC}$).  \n",
    "\n",
    "Note the larger is $b$ the more firm sales fall for a given price rise (i.e. the more elastic is demand)."
   ]
  },
  {
   "cell_type": "markdown",
   "metadata": {
    "slideshow": {
     "slide_type": "slide"
    }
   },
   "source": [
    "### Firm Technology and Costs\n",
    "\n",
    "Each firm has exclusive right to produce a unique product (protected by patent or copyright) but competitors can enter the market to supply similar goods. There is a relatively high fixed cost of establishing a production plant and then a simple constant marginal cost:\n",
    "\n",
    "\n",
    "$$\n",
    "TC(q_i) = F + c \\cdot q_i\n",
    "$$"
   ]
  },
  {
   "cell_type": "markdown",
   "metadata": {
    "slideshow": {
     "slide_type": "fragment"
    }
   },
   "source": [
    "So $\\mathit{MC}(q_i) = c$ and average cost $\\mathit{AC}(q_i)$ is:\n",
    "\n",
    "$$\n",
    "AC(q_i) = \\frac{F}{q_i} + c\n",
    "$$"
   ]
  },
  {
   "cell_type": "markdown",
   "metadata": {
    "slideshow": {
     "slide_type": "slide"
    }
   },
   "source": [
    "### Monopolistic Competition \n",
    "\n",
    "Consumers have demand for variety.  Assume symmetric demand for each good.  Demand for firm $i$'s good is:\n",
    "\n"
   ]
  },
  {
   "cell_type": "markdown",
   "metadata": {
    "slideshow": {
     "slide_type": "fragment"
    }
   },
   "source": [
    "\n",
    "$$\n",
    "q_i = S \\cdot \\left [\\frac{1}{n} -b \\cdot (P_i- \\bar P)     \\right ]\n",
    "$$"
   ]
  },
  {
   "cell_type": "markdown",
   "metadata": {
    "slideshow": {
     "slide_type": "fragment"
    }
   },
   "source": [
    "Here $S$ is total output in the industry.  If firm sets product price $P_i$ equal to price of other similar products $P$ then firm will produce $q_i = \\frac{S}{n}$ of total output.  If it tries to raise $P_i>P$ it loses some but not all market share."
   ]
  },
  {
   "cell_type": "markdown",
   "metadata": {
    "slideshow": {
     "slide_type": "fragment"
    }
   },
   "source": [
    "In a symmetric equilibrium $P_i = \\bar P$ AND $q_i = q = \\frac{S}{n}$ or $S = n \\cdot q$ and we can write:\n",
    "\n",
    "$$\n",
    "q_i = \\left [\\frac{S}{n} + b\\bar P \\right ] - S b P\n",
    "$$"
   ]
  },
  {
   "cell_type": "markdown",
   "metadata": {
    "slideshow": {
     "slide_type": "slide"
    }
   },
   "source": [
    "### The `cc` curve\n",
    "\n",
    "Average cost AC rises with the number of firms $n$, because more firms in the same market means lower production runs and higher average fixed costs."
   ]
  },
  {
   "cell_type": "markdown",
   "metadata": {
    "slideshow": {
     "slide_type": "fragment"
    }
   },
   "source": [
    "Substituing $q = \\frac{S}{n}$ into $AC = \\frac{F}{q} + c$ gives:\n",
    "\n",
    "$$\n",
    "AC = \\frac{nF}{S} + c\n",
    "$$\n",
    "\n",
    "Average cost rises with the number of firms $n$ because each firm produces less $\\frac{S}{n}$ and so each firm is spreading their fixed costs over "
   ]
  },
  {
   "cell_type": "markdown",
   "metadata": {
    "slideshow": {
     "slide_type": "slide"
    }
   },
   "source": [
    "### The `pp` curve\n",
    "Price falls with the number of firms $n$ because increased competition reduces markups.\n",
    "\n",
    "In a symmetric equilibrium firm demand could be written\n",
    "$$\n",
    "q_i = \\left [\\frac{S}{n} + b\\bar P \\right ] - S b P  \\\\\n",
    "q_i = A^\\prime - b^\\prime P \n",
    "$$\n",
    "\n",
    "where $b^\\prime = S\\cdot b$"
   ]
  },
  {
   "cell_type": "markdown",
   "metadata": {
    "slideshow": {
     "slide_type": "slide"
    }
   },
   "source": [
    "Recall that with a demand curve of form $q_i = A^\\prime - b^\\prime \\cdot P$ we found a markup\n",
    "\n",
    "$$\n",
    "P = c + \\frac{q}{b^\\prime} \n",
    "$$\n",
    "\n",
    "Substituting using $b^\\prime = S\\cdot b$, and $q=\\frac{S}{n}$ we get:\n",
    "\n",
    "$$\n",
    "P = c + \\frac{1}{b \\cdot n}\n",
    "$$\n"
   ]
  },
  {
   "cell_type": "code",
   "execution_count": 19,
   "metadata": {
    "slideshow": {
     "slide_type": "slide"
    }
   },
   "outputs": [
    {
     "name": "stdout",
     "output_type": "stream",
     "text": [
      "n = 100, P= 40, 40.0, 10000.0\n"
     ]
    },
    {
     "data": {
      "image/png": "[encoded data removed]",
      "text/plain": [
       "<Figure size 720x432 with 1 Axes>"
      ]
     },
     "metadata": {
      "needs_background": "light"
     },
     "output_type": "display_data"
    }
   ],
   "source": [
    "mkt_eq()"
   ]
  },
  {
   "cell_type": "code",
   "execution_count": 21,
   "metadata": {
    "slideshow": {
     "slide_type": "slide"
    }
   },
   "outputs": [
    {
     "data": {
      "application/vnd.jupyter.widget-view+json": {
       "model_id": "59e74fa9dfea4ecdba1eb3c1d6520368",
       "version_major": 2,
       "version_minor": 0
      },
      "text/plain": [
       "interactive(children=(IntSlider(value=1000000, description='S', max=2000000, min=100000, step=100000), Output(…"
      ]
     },
     "metadata": {},
     "output_type": "display_data"
    },
    {
     "data": {
      "text/plain": [
       "<function __main__.mkt_eq(S=1000000, F=100000, c=30)>"
      ]
     },
     "execution_count": 21,
     "metadata": {},
     "output_type": "execute_result"
    }
   ],
   "source": [
    "interact(mkt_eq, S=(100*1000, 2000*1000,100*1000), F=fixed(F), c=fixed(c) )"
   ]
  },
  {
   "cell_type": "markdown",
   "metadata": {
    "slideshow": {
     "slide_type": "slide"
    }
   },
   "source": [
    "end."
   ]
  },
  {
   "cell_type": "markdown",
   "metadata": {
    "slideshow": {
     "slide_type": "skip"
    }
   },
   "source": [
    "## Code Section"
   ]
  },
  {
   "cell_type": "code",
   "execution_count": 1,
   "metadata": {},
   "outputs": [],
   "source": [
    "import numpy as np\n",
    "import matplotlib.pyplot as plt\n",
    "from ipywidgets import interact, fixed\n",
    "import seaborn as sns\n"
   ]
  },
  {
   "cell_type": "code",
   "execution_count": 3,
   "metadata": {},
   "outputs": [],
   "source": [
    "plt.style.use('seaborn-colorblind')\n",
    "plt.rcParams[\"figure.figsize\"] = [6,6]\n",
    "plt.rcParams[\"axes.spines.right\"] = False\n",
    "plt.rcParams[\"axes.spines.top\"] = False\n",
    "plt.rcParams[\"font.size\"] = 18\n",
    "plt.rcParams['figure.figsize'] = (10, 6)\n",
    "plt.rcParams['axes.grid']=False"
   ]
  },
  {
   "cell_type": "code",
   "execution_count": 4,
   "metadata": {},
   "outputs": [],
   "source": [
    "A = 1\n",
    "b = 1/1000\n",
    "F = 100*1000\n",
    "c = 30\n",
    "S = 1*1000*1000\n",
    "qmax = 100\n",
    "nmax = 50\n",
    "q = np.arange(1,qmax)\n",
    "n = np.arange(1,nmax)"
   ]
  },
  {
   "cell_type": "code",
   "execution_count": 5,
   "metadata": {},
   "outputs": [
    {
     "data": {
      "text/plain": [
       "1000.0"
      ]
     },
     "execution_count": 5,
     "metadata": {},
     "output_type": "execute_result"
    }
   ],
   "source": [
    "A/b"
   ]
  },
  {
   "cell_type": "code",
   "execution_count": 6,
   "metadata": {},
   "outputs": [
    {
     "data": {
      "text/plain": [
       "100.0"
      ]
     },
     "execution_count": 6,
     "metadata": {},
     "output_type": "execute_result"
    }
   ],
   "source": [
    "F/(S*b)"
   ]
  },
  {
   "cell_type": "code",
   "execution_count": 7,
   "metadata": {},
   "outputs": [
    {
     "data": {
      "text/plain": [
       "(100.0, 40.0, 40.0, 10000.0)"
      ]
     },
     "execution_count": 7,
     "metadata": {},
     "output_type": "execute_result"
    }
   ],
   "source": [
    "ne = np.sqrt(S/(b*F))\n",
    "Pe = c + np.sqrt(F/(S*b))\n",
    "AC = c + ne*F/S\n",
    "ne, Pe, AC, S/ne"
   ]
  },
  {
   "cell_type": "code",
   "execution_count": 8,
   "metadata": {},
   "outputs": [],
   "source": [
    "def p(q, A=A, b = b):\n",
    "    return A/b - (1/b) * q"
   ]
  },
  {
   "cell_type": "code",
   "execution_count": 9,
   "metadata": {},
   "outputs": [],
   "source": [
    "def mr(q, A=A, b = b):\n",
    "    return A/b - (2/b) * q"
   ]
  },
  {
   "cell_type": "code",
   "execution_count": 10,
   "metadata": {},
   "outputs": [],
   "source": [
    "def AC(q, F=F, c = c):\n",
    "    return F/q + c"
   ]
  },
  {
   "cell_type": "code",
   "execution_count": 11,
   "metadata": {},
   "outputs": [],
   "source": [
    "def mc(q, c = c):\n",
    "    return c*np.ones(len(q))"
   ]
  },
  {
   "cell_type": "code",
   "execution_count": 12,
   "metadata": {},
   "outputs": [],
   "source": [
    "def cc(n, S=S, F=F, c = c):\n",
    "    return n*F/S + c"
   ]
  },
  {
   "cell_type": "code",
   "execution_count": 13,
   "metadata": {},
   "outputs": [],
   "source": [
    "def pp(n, b=b,  c = c):\n",
    "    return c + 1/(b*n)"
   ]
  },
  {
   "cell_type": "code",
   "execution_count": 14,
   "metadata": {},
   "outputs": [],
   "source": [
    "def firm(F=F, c=c):\n",
    "    plt.xlim(0,qmax)\n",
    "    plt.ylim(0,125)\n",
    "    plt.plot(q, p(q))\n",
    "    plt.plot(q, mr(q))\n",
    "    plt.plot(q, mc(q))\n",
    "    plt.plot(q, AC(q, F=F, c=c));\n",
    "    plt.gca().set_aspect('equal');"
   ]
  },
  {
   "cell_type": "markdown",
   "metadata": {},
   "source": [
    "Firm monopolistic choice (figure not finished)"
   ]
  },
  {
   "cell_type": "code",
   "execution_count": 22,
   "metadata": {},
   "outputs": [
    {
     "data": {
      "image/png": "[encoded data removed]",
      "text/plain": [
       "<Figure size 720x432 with 1 Axes>"
      ]
     },
     "metadata": {
      "needs_background": "light"
     },
     "output_type": "display_data"
    }
   ],
   "source": [
    "firm(F,c)"
   ]
  },
  {
   "cell_type": "code",
   "execution_count": 23,
   "metadata": {},
   "outputs": [],
   "source": [
    "def mkt_eq(S = S, F=F, c=c):\n",
    "    n = np.arange(1,200)\n",
    "    ne = np.sqrt(S/(b*F))\n",
    "    Pe = c + np.sqrt(F/(S*b))\n",
    "    AC = c + ne*F/S\n",
    "    print(f\"n = {ne:2.0f}, P={Pe:3.0f}, {AC}, {S/ne}\")\n",
    "    plt.xlim(0,150)\n",
    "    plt.ylim(0,125)\n",
    "    plt.xlabel('n')\n",
    "    plt.ylabel('P, AC')\n",
    "    plt.plot(n, cc(n, S=S, F=F, c = c))\n",
    "    plt.plot(n, pp(n, b=b,  c = c))\n",
    "    plt.scatter(ne,Pe);"
   ]
  },
  {
   "cell_type": "code",
   "execution_count": 24,
   "metadata": {},
   "outputs": [
    {
     "name": "stdout",
     "output_type": "stream",
     "text": [
      "n = 100, P= 40, 40.0, 10000.0\n"
     ]
    },
    {
     "data": {
      "image/png": "[encoded data removed]",
      "text/plain": [
       "<Figure size 720x432 with 1 Axes>"
      ]
     },
     "metadata": {
      "needs_background": "light"
     },
     "output_type": "display_data"
    }
   ],
   "source": [
    "mkt_eq()"
   ]
  },
  {
   "cell_type": "code",
   "execution_count": null,
   "metadata": {},
   "outputs": [],
   "source": []
  }
 ],
 "metadata": {
  "celltoolbar": "Slideshow",
  "kernelspec": {
   "display_name": "Python 3",
   "language": "python",
   "name": "python3"
  },
  "language_info": {
   "codemirror_mode": {
    "name": "ipython",
    "version": 3
   },
   "file_extension": ".py",
   "mimetype": "text/x-python",
   "name": "python",
   "nbconvert_exporter": "python",
   "pygments_lexer": "ipython3",
   "version": "3.6.7"
  }
 },
 "nbformat": 4,
 "nbformat_minor": 2
}
