{
 "cells": [
  {
   "cell_type": "markdown",
   "metadata": {
    "slideshow": {
     "slide_type": "slide"
    }
   },
   "source": [
    "# The Hecksher-Ohlin-Samuelson (HOS) Model\n",
    "\n",
    "Math derivations and visualization"
   ]
  },
  {
   "cell_type": "markdown",
   "metadata": {
    "slideshow": {
     "slide_type": "skip"
    }
   },
   "source": [
    "The code for the python functions in this notebook can be found in [hos.py](hos.py)."
   ]
  },
  {
   "cell_type": "code",
   "execution_count": 1,
   "metadata": {},
   "outputs": [],
   "source": [
    "from hos import *"
   ]
  },
  {
   "cell_type": "markdown",
   "metadata": {
    "slideshow": {
     "slide_type": "slide"
    }
   },
   "source": [
    "### Technology and Endowments\n",
    "Two sectors A and M (e.g. Aeronatutics and light-manufacturing). Linear homogenous (CRS) production functions. \n",
    "\n",
    "$$\n",
    "Q_a = F(K_a, L_a) \\\\ Q_m = G(K_m, L_m)\n",
    "$$"
   ]
  },
  {
   "cell_type": "markdown",
   "metadata": {
    "slideshow": {
     "slide_type": "fragment"
    }
   },
   "source": [
    "Capital and labor are mobile across sectors.\n",
    "$$\n",
    "L_a + L_m = \\bar L\n",
    "$$\n",
    "\n",
    "$$\n",
    "K_a + K_m = \\bar K\n",
    "$$"
   ]
  },
  {
   "cell_type": "markdown",
   "metadata": {
    "slideshow": {
     "slide_type": "slide"
    }
   },
   "source": [
    "### Cobb-Douglas for visualizations\n",
    "\n",
    "$$\n",
    "F(K_a, L_a)= K_a^{\\alpha} \\cdot  L_a^{1-\\alpha}\n",
    "$$\n",
    "\n",
    "$$\n",
    "G(K_m, L_m)=K_m^{\\beta} \\cdot  L_m^{1-\\beta}\n",
    "$$"
   ]
  },
  {
   "cell_type": "markdown",
   "metadata": {
    "slideshow": {
     "slide_type": "slide"
    }
   },
   "source": [
    "FOC for cost-minimization (or profit maximization) in the A industry imply:\n",
    "\n",
    "$$\n",
    "\\frac{F_L}{F_K} = \\frac{1-\\alpha}{\\alpha} \\frac{K_a}{L_a} = \\frac{w}{r}\n",
    "$$"
   ]
  },
  {
   "cell_type": "markdown",
   "metadata": {
    "slideshow": {
     "slide_type": "slide"
    }
   },
   "source": [
    "Firms take market relative factor prices $\\frac{w}{r}$ and choose the **optimal capital-labor intensity in the A industry** to be:\n",
    "\n",
    "$$\n",
    "\\frac{K_a}{L_a} = \\frac{\\alpha}{1-\\alpha}  \\frac{w}{r}\n",
    "$$"
   ]
  },
  {
   "cell_type": "markdown",
   "metadata": {
    "slideshow": {
     "slide_type": "fragment"
    }
   },
   "source": [
    "and **optimal capital intensity in M industry** to be:\n",
    "\n",
    "$$\n",
    "\\frac{K_m}{L_m} = \\frac{\\beta}{1-\\beta}  \\frac{w}{r}\n",
    "$$"
   ]
  },
  {
   "cell_type": "markdown",
   "metadata": {
    "slideshow": {
     "slide_type": "slide"
    }
   },
   "source": [
    "Capital intensity is rising with the market wage-rental ratio $w/r$ in each sector. (i.e. firms adopt more capital-intensive methods the higher are wages relative to rents."
   ]
  },
  {
   "cell_type": "markdown",
   "metadata": {
    "slideshow": {
     "slide_type": "slide"
    }
   },
   "source": [
    "### A visualized example"
   ]
  },
  {
   "cell_type": "markdown",
   "metadata": {
    "slideshow": {
     "slide_type": "fragment"
    }
   },
   "source": [
    "Assume the A industry is more capital-intensive: $\\alpha > \\beta$  "
   ]
  },
  {
   "cell_type": "markdown",
   "metadata": {
    "slideshow": {
     "slide_type": "fragment"
    }
   },
   "source": [
    "Example: $\\alpha=0.75, \\beta=0.25$"
   ]
  },
  {
   "cell_type": "markdown",
   "metadata": {
    "slideshow": {
     "slide_type": "fragment"
    }
   },
   "source": [
    "At any given $\\frac{w}{r}$ ratio, the A sector is more capital intensive. \n",
    "For example at $\\frac{w}{r}=1$: \n",
    "\n",
    "$$\n",
    "3=\\frac{K_a}{L_a}  \\gt \\frac{K_m}{L_m} = \\frac{1}{3}\n",
    "$$"
   ]
  },
  {
   "cell_type": "markdown",
   "metadata": {
    "slideshow": {
     "slide_type": "slide"
    }
   },
   "source": [
    "#### Optimal capital-intensities in each sector\n",
    "\n",
    "**The Lerner Diagram** Given the relative price of manufactured goods $p=\\frac{p_a}{p_m}$, this Lerner isoquant diagram shows the necessary relationship that must hold in a competitive economy between relative product prices, relative factor prices $\\frac{w}{r}$ and optimal production techniques in each sector. \n",
    "\n",
    "In this example agricultural production is more capital-intensive then manufacturing production (at any given wage-rental ratio $\\frac{w}{r}$) agriculture employs more capital per unit labor $\\frac{K}{L}$ (as indicated by the slope of the dashed  rays from the origin.\n",
    "\n",
    "Since the relative price is $1$ the cost minimizing way to produce, say, 30 units of agricultural goods must equal the minimum cost way of producing 30 units of manufactured goods (since P=MC in both sectors and they trade 1 for 1).   "
   ]
  },
  {
   "cell_type": "code",
   "execution_count": 2,
   "metadata": {
    "slideshow": {
     "slide_type": "fragment"
    }
   },
   "outputs": [
    {
     "name": "stdout",
     "output_type": "stream",
     "text": [
      "w/r = 1.00, KLa = 3.00, KLm = 0.33\n"
     ]
    },
    {
     "data": {
      "image/png": "[encoded data removed]",
      "text/plain": [
       "<Figure size 432x288 with 1 Axes>"
      ]
     },
     "metadata": {
      "needs_background": "light"
     },
     "output_type": "display_data"
    }
   ],
   "source": [
    "lerner(p=1);"
   ]
  },
  {
   "cell_type": "markdown",
   "metadata": {
    "slideshow": {
     "slide_type": "slide"
    }
   },
   "source": [
    "## The Closed Economy and the Open Economy"
   ]
  },
  {
   "cell_type": "markdown",
   "metadata": {
    "slideshow": {
     "slide_type": "fragment"
    }
   },
   "source": [
    "In a closed economy product prices and factor prices are determined endogenously. If we assume homothetic preferences then graphically the market equilibrium product prices are found where a community indifference curve is tangent to the production possibility frontier.  We could solve this as a planner's problem: $\\max  U(C_A, C_M)$ s.t. $C_A=F(K_A,L_A)$ and $C_M=G(\\bar K - K_A, \\bar L - L_A)$   "
   ]
  },
  {
   "cell_type": "markdown",
   "metadata": {
    "slideshow": {
     "slide_type": "slide"
    }
   },
   "source": [
    "With a relative capital-labor endowment of $\\frac{\\bar K}{\\bar L}=6$ the equilibrium $w/r$ would depend on the relative production (and consumption) of agriculture or manufacturing.  If most production/consumption is manufacturing then the relative wage would be high. According to the diagram below the $w/r$ would lie somewhere between ~2.5 and 9 depending on the relative demand for manufactured goods."
   ]
  },
  {
   "cell_type": "markdown",
   "metadata": {
    "slideshow": {
     "slide_type": "slide"
    }
   },
   "source": [
    "In the open economy, relative product prices are determined on the world market.  The planning problem is separable: we can think of a planner first maximizing the value of domestic output at world prices:\n",
    "\n",
    "$$\n",
    "Y = \\max_{K_A, L_A} P_A F(K_A, L_A) + P_M G(\\bar K - K_A, \\bar L - L_A)\n",
    "$$\n",
    "\n",
    "and then maximizing \n",
    "\n",
    "$$\n",
    "\\max_{C_A, C_M} U(C_A,C_M) \\\\\n",
    " P_A C_A + P_M C_M \\le Y\n",
    " $$\n",
    "\n",
    "We can use the Lerner diagram to see how product prices determine factor prices."
   ]
  },
  {
   "cell_type": "markdown",
   "metadata": {
    "slideshow": {
     "slide_type": "slide"
    }
   },
   "source": [
    "### The Lerner Diagram\n",
    "\n",
    "This diagram draws representative isoquants for each sector. \n",
    "\n",
    "If the market is competitive then price is marginal cost equals average cost in each sector.  Hence if the relative price is $p=\\frac{p_m}{p_a}$ then 1 unit of manufacturing should cost as much to make as $p$ units of agricultural goods and the relative wage $w/r$ will have to adjust for that to be true."
   ]
  },
  {
   "cell_type": "markdown",
   "metadata": {
    "slideshow": {
     "slide_type": "slide"
    }
   },
   "source": [
    "### Stolper Samuelson Line\n",
    "\n",
    "\n",
    "The total cost function in the agricultural sector is:\n",
    "\n",
    "$$\n",
    "C_a(w,r, Q_a) = r \\cdot K_a + w \\cdot L_a\n",
    "$$\n",
    "\n",
    "In the Cobb-Douglas constant expenditure case we can write\n",
    "\n",
    "$$\n",
    "r \\cdot K_a = \\alpha \\cdot C_a(w,r,Q_a)\n",
    "$$ \n",
    "\n",
    "and \n",
    "\n",
    "$$\n",
    "w \\cdot L_a = (1-\\alpha) \\cdot C_a(w,r,Q_a)\n",
    "$$"
   ]
  },
  {
   "cell_type": "markdown",
   "metadata": {
    "slideshow": {
     "slide_type": "slide"
    }
   },
   "source": [
    "If we substitute for $K_a$ and $L_a$ using these last two expressions into the production function $Q_a = K_a^\\alpha L_a^{1-\\alpha}$ and re-arrange, we can derive an expression for the cost function:\n",
    "\n",
    "$$\n",
    "C_a(w,r,Q_a) = Z_a \\cdot Q_a \\cdot r^\\alpha w^{1-\\alpha}\n",
    "$$\n",
    "\n",
    "where $Z_a =\\alpha^\\alpha \\cdot (1-\\alpha)^{1-\\alpha}$\n",
    "\n",
    "By similar reasoning \n",
    "\n",
    "$$\n",
    "C_m(w,r,Q_a) = Z_m \\cdot Q_m \\cdot r^\\beta w^{1-\\beta}\n",
    "$$\n",
    "\n",
    "with  $Z_m =\\beta^\\beta \\cdot (1-\\beta)^{1-\\beta}$"
   ]
  },
  {
   "cell_type": "markdown",
   "metadata": {
    "slideshow": {
     "slide_type": "slide"
    }
   },
   "source": [
    "Let $p=\\frac{p_m}{p_A}$.  Perfect competition and free entry means zero so that product prices are given by unit costs \n",
    "\n",
    "$$\n",
    "p_m = \\frac{C_m}{Q_m},  p_a = \\frac{C_a}{Q_a}\n",
    "$$  \n",
    "\n",
    "Then using the expressions for the cost function above we can arrive at the **Stolper-Samuelson line**:"
   ]
  },
  {
   "cell_type": "markdown",
   "metadata": {
    "slideshow": {
     "slide_type": "slide"
    }
   },
   "source": [
    "$$\n",
    "p = \\frac{Z_m}{Z_a}\\left ( \\frac{w}{r} \\right ) ^{\\alpha-\\beta}\n",
    "$$"
   ]
  },
  {
   "cell_type": "markdown",
   "metadata": {
    "slideshow": {
     "slide_type": "fragment"
    }
   },
   "source": [
    "Or, inverting, we get a Stolper Samuelson Line:"
   ]
  },
  {
   "cell_type": "markdown",
   "metadata": {
    "slideshow": {
     "slide_type": "fragment"
    }
   },
   "source": [
    "$$\n",
    "\\frac{w}{r} = \\left ( p \\frac{Z_a}{Z_m} \\right ) ^\\frac{1}{\\alpha-\\beta}\n",
    "$$"
   ]
  },
  {
   "cell_type": "markdown",
   "metadata": {
    "slideshow": {
     "slide_type": "slide"
    }
   },
   "source": [
    "This tells us the equlibrium relative wage-rental rate consistent with product prices $p$.  Note this relationship depends only on the technology parameters, so if technologies are the same between nations then the Stolper-Samuelson line will be the same as well.  "
   ]
  },
  {
   "cell_type": "code",
   "execution_count": 3,
   "metadata": {
    "slideshow": {
     "slide_type": "slide"
    }
   },
   "outputs": [
    {
     "data": {
      "application/vnd.jupyter.widget-view+json": {
       "model_id": "83a374feb5964b1fbeba64d4eb579123",
       "version_major": 2,
       "version_minor": 0
      },
      "text/plain": [
       "interactive(children=(FloatSlider(value=1.0, description='p', max=1.5, min=0.5), Output()), _dom_classes=('wid…"
      ]
     },
     "metadata": {},
     "output_type": "display_data"
    }
   ],
   "source": [
    "interact(lerner, p= (0.5,1.5,0.1));"
   ]
  },
  {
   "cell_type": "markdown",
   "metadata": {
    "slideshow": {
     "slide_type": "skip"
    }
   },
   "source": [
    "If, as we've assumed, agriculture is more capital intensive, then an increase in the relative price of agricultural goods will lead to an increase in the demand for capital relative to labor and hence a *fall* in the wage-rental ratio."
   ]
  },
  {
   "cell_type": "markdown",
   "metadata": {
    "slideshow": {
     "slide_type": "slide"
    }
   },
   "source": [
    "### The Stolper Samuelson Line\n",
    "\n",
    "The Lerner Diagram points to a relation between relative product prices and relative factor prices, determined by the technologies and competition.  It's not hard to derive this relationship in closed form for the Cobb-Douglas case."
   ]
  },
  {
   "cell_type": "code",
   "execution_count": 4,
   "metadata": {
    "slideshow": {
     "slide_type": "slide"
    }
   },
   "outputs": [
    {
     "name": "stdout",
     "output_type": "stream",
     "text": [
      "1.5 2.25\n"
     ]
    },
    {
     "data": {
      "image/png": "[encoded data removed]",
      "text/plain": [
       "<Figure size 432x288 with 1 Axes>"
      ]
     },
     "metadata": {
      "needs_background": "light"
     },
     "output_type": "display_data"
    }
   ],
   "source": [
    "ssplot(1.5)"
   ]
  },
  {
   "cell_type": "markdown",
   "metadata": {
    "slideshow": {
     "slide_type": "slide"
    }
   },
   "source": [
    "### World prices to factor prices\n",
    "\n",
    "When a small country opens to trade its prices become world prices.  An increase in the relative price of the labor-intensive M good leads to the following sequence of causal effects:\n",
    "\n",
    "$$ p \\uparrow \\rightarrow \\frac{w}{r} \\uparrow \\rightarrow  \\frac{K_a}{L_a} \\uparrow, \\frac{K_m}{L_m} \\uparrow$$"
   ]
  },
  {
   "cell_type": "markdown",
   "metadata": {
    "slideshow": {
     "slide_type": "slide"
    }
   },
   "source": [
    "## The HOS and Rybczynski Theorems"
   ]
  },
  {
   "cell_type": "markdown",
   "metadata": {
    "slideshow": {
     "slide_type": "subslide"
    }
   },
   "source": [
    "#### The Economy's Edgeworth Box"
   ]
  },
  {
   "cell_type": "markdown",
   "metadata": {
    "slideshow": {
     "slide_type": "skip"
    }
   },
   "source": [
    "The Edgeworth box diagram helps us understand the HOS Theorem and Rybczynski Theorems.  \n",
    "\n",
    "First note how at any given relative price $p=\\frac{p_m}{p_a}$ the economy adjusts to absorb available capital and labor (as the relative price of manufacturing $p$ rises the economy expands the production of the M good and contracts the production of the A good.\n",
    "\n",
    "Now note what happens when, at constant prices $p$, we add or subtract labor endowment $\\bar L$. The diagram illustrates the **Rybczynski Theorem:** An increase in labor endowment leads to a more than proportionate increase in the production of the more labor intensive M good and a contraction of the production of the relatively capital intensive A good."
   ]
  },
  {
   "cell_type": "code",
   "execution_count": 5,
   "metadata": {
    "slideshow": {
     "slide_type": "slide"
    }
   },
   "outputs": [
    {
     "data": {
      "application/vnd.jupyter.widget-view+json": {
       "model_id": "80bccfa30ae847faa3edad0ae1e8ac3e",
       "version_major": 2,
       "version_minor": 0
      },
      "text/plain": [
       "interactive(children=(FloatSlider(value=0.69, description='p', max=0.9, min=0.5, step=0.01), IntSlider(value=1…"
      ]
     },
     "metadata": {},
     "output_type": "display_data"
    }
   ],
   "source": [
    "interact(edgeworth, p=(0.5,0.9,0.01), Kbar=fixed(100), Lbar=(80,120,1));"
   ]
  },
  {
   "cell_type": "markdown",
   "metadata": {},
   "source": [
    "### The Closed economy"
   ]
  },
  {
   "cell_type": "markdown",
   "metadata": {},
   "source": [
    "The market equilibrium can be solved as the problem of maximizing the representative consumer's utility subject to production and hence consumption being on the PPF: \n",
    "\n",
    "$$\n",
    "\\max_{K_a, L_a} U(F(K_a, L_a), G(\\bar K - Ka, \\bar L - La))\n",
    "$$"
   ]
  },
  {
   "cell_type": "markdown",
   "metadata": {},
   "source": [
    "We could solve for this analytically but let's here illustrate the brute force numerical optimization method:"
   ]
  },
  {
   "cell_type": "markdown",
   "metadata": {},
   "source": [
    "## The production possibility\n",
    "\n",
    "Efficiency in allocation requires that the RTS be equalized in both sectors.  This plus the resource constraints gives us an equation that relates $K_a$ to $L_a$ \n",
    "\n",
    "$$\n",
    "\\frac{1-\\alpha}{\\alpha} \\frac{K_a}{L_a} = \\frac{1-\\beta}{\\beta} \\frac{\\bar K - K_a}{\\bar L - L_a} \n",
    "$$"
   ]
  },
  {
   "cell_type": "markdown",
   "metadata": {},
   "source": [
    "\n",
    "$$\n",
    "\\frac{K_a}{L_a} =  \\Delta  \\frac{\\bar K - K_a}{\\bar L - L_a} \n",
    "$$\n",
    "\n",
    "where $\\Delta =  \\frac{\\alpha}{1-\\alpha}  \\frac{1-\\beta}{\\beta}$"
   ]
  },
  {
   "cell_type": "markdown",
   "metadata": {},
   "source": [
    "\n",
    "$$\n",
    "K_a \\bar L +(\\Delta - 1) K_a L_a =  \\Delta  L_a  \\bar K  \n",
    "$$"
   ]
  },
  {
   "cell_type": "markdown",
   "metadata": {},
   "source": [
    "$$\n",
    "K_a ( \\bar L +(\\Delta - 1)  L_a) =  \\Delta  L_a  \\bar K  \n",
    "$$"
   ]
  },
  {
   "cell_type": "markdown",
   "metadata": {},
   "source": [
    "$$\n",
    "K_a  = \\frac{\\Delta  L_a  \\bar K}{( \\bar L +(\\Delta - 1)  L_a)}\n",
    "$$"
   ]
  },
  {
   "cell_type": "markdown",
   "metadata": {},
   "source": [
    "We can now vary $L_a$ from 0 to $\\bar L$ and use the expression above to trace out the efficiency locus in an Edgeworth box, and with that also trace out the PPF"
   ]
  },
  {
   "cell_type": "code",
   "execution_count": 6,
   "metadata": {},
   "outputs": [],
   "source": [
    "def closed_plot(alpha=alpha, beta=beta):\n",
    "    Qa, Qm = PPF(ll, alpha, beta)\n",
    "    Qae, Qme = num_opt(alpha, beta)\n",
    "    print(Qae, Qme)\n",
    "    plt.plot(Qm, Qa)\n",
    "    plt.plot(ll, indif(ll, theta, U(Qae,Qme)) )\n",
    "    plt.ylim(0,110)\n",
    "    plt.scatter(Qme, Qae);"
   ]
  },
  {
   "cell_type": "code",
   "execution_count": 7,
   "metadata": {},
   "outputs": [
    {
     "data": {
      "application/vnd.jupyter.widget-view+json": {
       "model_id": "b12e3f1b99a341cf9c840d86a6bc852d",
       "version_major": 2,
       "version_minor": 0
      },
      "text/plain": [
       "interactive(children=(FloatSlider(value=0.75, description='alpha', max=0.9, min=0.5, step=0.01), FloatSlider(v…"
      ]
     },
     "metadata": {},
     "output_type": "display_data"
    }
   ],
   "source": [
    "interact(closed_plot, alpha=(0.5,0.9,0.01), beta=(0.1, 0.5,0.01));"
   ]
  },
  {
   "cell_type": "markdown",
   "metadata": {},
   "source": [
    "#### The Edgeworth Box"
   ]
  },
  {
   "cell_type": "markdown",
   "metadata": {},
   "source": [
    "We've shown how product prices determine relative factor prices and this in turn determines factor intensity in each sector.\n",
    "\n",
    "$$ p \\rightarrow \\frac{w}{r} \\rightarrow  \\frac{K_a}{L_a} , \\frac{K_m}{L_m} $$\n",
    "\n",
    "We also know the economy's endowments of $\\bar K$ and $\\bar L$.  Since in equilibrium total capital demand must equal available supply and total labor demand equal total labor supply, we can establish equilibrium allocations.\n",
    "\n",
    "From above optimal capital intensity in the A sector (determined by $p$) is  $k_a = \\frac{K_A}{L_A}$ and optimal capital intensity in the M sector is $k_m = \\frac{\\bar K-K_A}{\\bar L - L_A}$\n",
    "\n",
    "Capital market equilibrium can then be written:\n",
    "\n",
    "$$\n",
    "K_A + K_M = \\bar K   \n",
    "$$\n",
    "\n",
    "$$\n",
    "k_a \\cdot L_A + k_m \\cdot (\\bar L - L_A) = \\bar K\n",
    "$$"
   ]
  },
  {
   "cell_type": "markdown",
   "metadata": {},
   "source": [
    "Solving for $L_A$:\n",
    "\n",
    "\n",
    "$$\n",
    " L_A =  \\frac{\\bar K - k_m \\bar L}{k_a-k_m}\n",
    "$$\n"
   ]
  },
  {
   "cell_type": "code",
   "execution_count": 8,
   "metadata": {},
   "outputs": [
    {
     "data": {
      "image/png": "[encoded data removed]",
      "text/plain": [
       "<Figure size 432x288 with 1 Axes>"
      ]
     },
     "metadata": {
      "needs_background": "light"
     },
     "output_type": "display_data"
    }
   ],
   "source": [
    "edgeworth(.8, Lbar=100)"
   ]
  },
  {
   "cell_type": "code",
   "execution_count": 9,
   "metadata": {},
   "outputs": [
    {
     "data": {
      "application/vnd.jupyter.widget-view+json": {
       "model_id": "82851cd3514546ab88d9587c96d0441d",
       "version_major": 2,
       "version_minor": 0
      },
      "text/plain": [
       "interactive(children=(FloatSlider(value=0.69, description='p', max=0.9, min=0.5, step=0.01), IntSlider(value=1…"
      ]
     },
     "metadata": {},
     "output_type": "display_data"
    }
   ],
   "source": [
    "interact(edgeworth, p=(0.5,0.9,0.01), Lbar=(80,120,1), Kbar=fixed(100));"
   ]
  }
 ],
 "metadata": {
  "hide_input": false,
  "kernelspec": {
   "display_name": "Python 3",
   "language": "python",
   "name": "python3"
  },
  "language_info": {
   "codemirror_mode": {
    "name": "ipython",
    "version": 3
   },
   "file_extension": ".py",
   "mimetype": "text/x-python",
   "name": "python",
   "nbconvert_exporter": "python",
   "pygments_lexer": "ipython3",
   "version": "3.7.3"
  },
  "varInspector": {
   "cols": {
    "lenName": 16,
    "lenType": 16,
    "lenVar": 40
   },
   "kernels_config": {
    "python": {
     "delete_cmd_postfix": "",
     "delete_cmd_prefix": "del ",
     "library": "var_list.py",
     "varRefreshCmd": "print(var_dic_list())"
    },
    "r": {
     "delete_cmd_postfix": ") ",
     "delete_cmd_prefix": "rm(",
     "library": "var_list.r",
     "varRefreshCmd": "cat(var_dic_list()) "
    }
   },
   "types_to_exclude": [
    "module",
    "function",
    "builtin_function_or_method",
    "instance",
    "_Feature"
   ],
   "window_display": false
  }
 },
 "nbformat": 4,
 "nbformat_minor": 1
}
