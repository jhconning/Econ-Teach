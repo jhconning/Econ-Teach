{
 "cells": [
  {
   "cell_type": "markdown",
   "metadata": {},
   "source": [
    "# The Competitive Firm supply decision"
   ]
  },
  {
   "cell_type": "code",
   "execution_count": 140,
   "metadata": {},
   "outputs": [],
   "source": [
    "import matplotlib.pyplot as plt\n",
    "from ipywidgets import interact, fixed\n",
    "import numpy as np"
   ]
  },
  {
   "cell_type": "code",
   "execution_count": 151,
   "metadata": {},
   "outputs": [],
   "source": [
    "F = 10\n",
    "b = 0.0125\n",
    "c = 2.5\n",
    "P = 40\n",
    "ac= False"
   ]
  },
  {
   "cell_type": "code",
   "execution_count": 152,
   "metadata": {},
   "outputs": [],
   "source": [
    "def TC(Q, F=F, b=b, c=c):\n",
    "    return F +  b * Q**c\n",
    "    \n",
    "def MC(Q, F=F, b=b, c=c):\n",
    "    return  c*b * Q**(c-1)\n",
    "\n",
    "def AC(Q, F=F, b=b, c=c):\n",
    "    return TC(Q, F=F, b=b, c=c)/Q\n",
    "\n",
    "Q = np.arange(1,100)"
   ]
  },
  {
   "cell_type": "code",
   "execution_count": 164,
   "metadata": {},
   "outputs": [],
   "source": [
    "def TCplot(F=F, b=b, c=c):\n",
    "    plt.plot(Q, TC(Q,F=F, b=b, c=c), linewidth=3)\n",
    "    plt.text(60, min(TC(55,F=F, b=b, c=c), 95), \"TC(Q)\")\n",
    "    plt.xlim(0,100)\n",
    "    plt.ylim(0,100)\n",
    "    plt.xlabel(\"Q -- output\")\n",
    "    plt.ylabel(\"TC(Q) -- Total Cost\")\n",
    "    #plt.vlines(P, ymin=0, ymax=TC(P, F=F, b=b, c=c), linestyle=\"dashed\")\n",
    "    #plt.hlines(TC(40, F=F, b=b, c=c), xmin=0, xmax=40, linestyle=\"dashed\")\n",
    "    #plt.scatter(40,TC(40, F=F, b=b, c=c));"
   ]
  },
  {
   "cell_type": "code",
   "execution_count": 165,
   "metadata": {},
   "outputs": [
    {
     "data": {
      "image/png": "[encoded data removed]",
      "text/plain": [
       "<Figure size 432x288 with 1 Axes>"
      ]
     },
     "metadata": {
      "needs_background": "light"
     },
     "output_type": "display_data"
    }
   ],
   "source": [
    "TCplot()"
   ]
  },
  {
   "cell_type": "code",
   "execution_count": 166,
   "metadata": {},
   "outputs": [
    {
     "data": {
      "application/vnd.jupyter.widget-view+json": {
       "model_id": "db11088166dc4158be826d20bf93da0e",
       "version_major": 2,
       "version_minor": 0
      },
      "text/plain": [
       "interactive(children=(IntSlider(value=10, description='F', max=30, min=-10), FloatSlider(value=0.0125, descrip…"
      ]
     },
     "metadata": {},
     "output_type": "display_data"
    }
   ],
   "source": [
    "interact(TCplot, b=(0, 0.3,0.001), c=(1.5,2.5,0.1));"
   ]
  },
  {
   "cell_type": "code",
   "execution_count": 185,
   "metadata": {},
   "outputs": [],
   "source": [
    "def MCplot(F=F, b=b, c=c, ac=False):\n",
    "    qmin = (F/(b*(c-1)) )**(1/c)\n",
    "    pmin = MC(qmin,F=F, b=b, c=c)\n",
    "    Q2 = np.arange(qmin,100)\n",
    "\n",
    "    plt.plot(Q2, MC(Q2,F=F, b=b, c=c), linewidth=3)\n",
    "    plt.plot(Q, MC(Q,F=F, b=b, c=c), linewidth=4, linestyle=\":\")\n",
    "    plt.text(75, min(MC(70, F=F, b=b, c=c),2 ), \"MC(Q)\")\n",
    "    plt.xlim(0,100)\n",
    "    plt.ylim(0,2)\n",
    "    plt.xlabel(\"Q -- output\")\n",
    "    plt.ylabel(\"MC(Q) -- Marginal Cost\")\n",
    "    #plt.vlines(40, ymin=0, ymax=MC(40), linestyle=\"dashed\")\n",
    "    #plt.hlines(MC(40,F=F, b=b, c=c), xmin=0, xmax=40, linestyle=\"dashed\")\n",
    "    #plt.scatter(40,MC(40,F=F, b=b, c=c))\n",
    "    plt.hlines(pmin, xmin=0, xmax=qmin, linestyle=\"dashed\")\n",
    "\n",
    "    plt.scatter(qmin,pmin)\n",
    "    if ac:\n",
    "        plt.plot(Q, AC(Q,F=F, b=b, c=c), linewidth=3)"
   ]
  },
  {
   "cell_type": "code",
   "execution_count": 186,
   "metadata": {
    "scrolled": false
   },
   "outputs": [
    {
     "data": {
      "image/png": "[encoded data removed]",
      "text/plain": [
       "<Figure size 432x288 with 1 Axes>"
      ]
     },
     "metadata": {
      "needs_background": "light"
     },
     "output_type": "display_data"
    }
   ],
   "source": [
    "MCplot()"
   ]
  },
  {
   "cell_type": "code",
   "execution_count": 187,
   "metadata": {},
   "outputs": [
    {
     "data": {
      "application/vnd.jupyter.widget-view+json": {
       "model_id": "6a2898a79d2e466d9d5889975857d981",
       "version_major": 2,
       "version_minor": 0
      },
      "text/plain": [
       "interactive(children=(IntSlider(value=10, description='F', max=20), FloatSlider(value=0.0125, description='b',…"
      ]
     },
     "metadata": {},
     "output_type": "display_data"
    }
   ],
   "source": [
    "interact(MCplot, F=(0,20,1), b=(0, 0.1, 0.001), c=(1.5,2.5,0.1));"
   ]
  },
  {
   "cell_type": "code",
   "execution_count": 149,
   "metadata": {},
   "outputs": [],
   "source": [
    "def twopane(F=F, b=b, c=c, ac=ac):\n",
    "    f1 = plt.figure(1, figsize =(12,6))\n",
    "    plt.subplot(121)\n",
    "    TCplot(F=F, b=b, c=c)\n",
    "    plt.subplot(122)\n",
    "    MCplot(F=F, b=b, c=c, ac=ac)"
   ]
  },
  {
   "cell_type": "code",
   "execution_count": 150,
   "metadata": {},
   "outputs": [
    {
     "data": {
      "application/vnd.jupyter.widget-view+json": {
       "model_id": "20066eb451d9473782dc05d29b19b3a0",
       "version_major": 2,
       "version_minor": 0
      },
      "text/plain": [
       "interactive(children=(IntSlider(value=10, description='F', max=20), FloatSlider(value=0.0125, description='b',…"
      ]
     },
     "metadata": {},
     "output_type": "display_data"
    }
   ],
   "source": [
    "interact(twopane, F=(0,20,1), b=(0, 0.1, 0.001), c=(1.5,2.5,0.1));"
   ]
  },
  {
   "cell_type": "code",
   "execution_count": null,
   "metadata": {},
   "outputs": [],
   "source": []
  },
  {
   "cell_type": "code",
   "execution_count": null,
   "metadata": {},
   "outputs": [],
   "source": []
  }
 ],
 "metadata": {
  "kernelspec": {
   "display_name": "Python 3",
   "language": "python",
   "name": "python3"
  },
  "language_info": {
   "codemirror_mode": {
    "name": "ipython",
    "version": 3
   },
   "file_extension": ".py",
   "mimetype": "text/x-python",
   "name": "python",
   "nbconvert_exporter": "python",
   "pygments_lexer": "ipython3",
   "version": "3.7.3"
  },
  "varInspector": {
   "cols": {
    "lenName": 16,
    "lenType": 16,
    "lenVar": 40
   },
   "kernels_config": {
    "python": {
     "delete_cmd_postfix": "",
     "delete_cmd_prefix": "del ",
     "library": "var_list.py",
     "varRefreshCmd": "print(var_dic_list())"
    },
    "r": {
     "delete_cmd_postfix": ") ",
     "delete_cmd_prefix": "rm(",
     "library": "var_list.r",
     "varRefreshCmd": "cat(var_dic_list()) "
    }
   },
   "types_to_exclude": [
    "module",
    "function",
    "builtin_function_or_method",
    "instance",
    "_Feature"
   ],
   "window_display": false
  }
 },
 "nbformat": 4,
 "nbformat_minor": 2
}
