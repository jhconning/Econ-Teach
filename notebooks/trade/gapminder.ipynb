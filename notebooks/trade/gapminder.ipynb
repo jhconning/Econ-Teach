{
 "cells": [
  {
   "cell_type": "markdown",
   "metadata": {},
   "source": [
    "## Gapminder"
   ]
  },
  {
   "cell_type": "code",
   "execution_count": 1,
   "metadata": {},
   "outputs": [
    {
     "data": {
      "text/plain": [
       "RendererRegistry.enable('notebook')"
      ]
     },
     "execution_count": 1,
     "metadata": {},
     "output_type": "execute_result"
    }
   ],
   "source": [
    "import altair as alt\n",
    "from vega_datasets import data\n",
    "from ipywidgets import interact, fixed\n",
    "import pandas as pd\n",
    "alt.renderers.enable('notebook')"
   ]
  },
  {
   "cell_type": "code",
   "execution_count": 2,
   "metadata": {},
   "outputs": [
    {
     "data": {
      "text/html": [
       "<div>\n",
       "<style scoped>\n",
       "    .dataframe tbody tr th:only-of-type {\n",
       "        vertical-align: middle;\n",
       "    }\n",
       "\n",
       "    .dataframe tbody tr th {\n",
       "        vertical-align: top;\n",
       "    }\n",
       "\n",
       "    .dataframe thead th {\n",
       "        text-align: right;\n",
       "    }\n",
       "</style>\n",
       "<table border=\"1\" class=\"dataframe\">\n",
       "  <thead>\n",
       "    <tr style=\"text-align: right;\">\n",
       "      <th></th>\n",
       "      <th>_comment</th>\n",
       "      <th>country</th>\n",
       "      <th>fertility</th>\n",
       "      <th>life_expect</th>\n",
       "      <th>n_fertility</th>\n",
       "      <th>n_life_expect</th>\n",
       "      <th>p_fertility</th>\n",
       "      <th>p_life_expect</th>\n",
       "      <th>year</th>\n",
       "    </tr>\n",
       "  </thead>\n",
       "  <tbody>\n",
       "    <tr>\n",
       "      <th>0</th>\n",
       "      <td>Data courtesy of Gapminder.org</td>\n",
       "      <td>Afghanistan</td>\n",
       "      <td>7.7</td>\n",
       "      <td>30.332</td>\n",
       "      <td>7.7</td>\n",
       "      <td>31.997</td>\n",
       "      <td>NaN</td>\n",
       "      <td>NaN</td>\n",
       "      <td>1955</td>\n",
       "    </tr>\n",
       "    <tr>\n",
       "      <th>1</th>\n",
       "      <td>NaN</td>\n",
       "      <td>Afghanistan</td>\n",
       "      <td>7.7</td>\n",
       "      <td>31.997</td>\n",
       "      <td>7.7</td>\n",
       "      <td>34.020</td>\n",
       "      <td>7.7</td>\n",
       "      <td>30.332</td>\n",
       "      <td>1960</td>\n",
       "    </tr>\n",
       "    <tr>\n",
       "      <th>2</th>\n",
       "      <td>NaN</td>\n",
       "      <td>Afghanistan</td>\n",
       "      <td>7.7</td>\n",
       "      <td>34.020</td>\n",
       "      <td>7.7</td>\n",
       "      <td>36.088</td>\n",
       "      <td>7.7</td>\n",
       "      <td>31.997</td>\n",
       "      <td>1965</td>\n",
       "    </tr>\n",
       "    <tr>\n",
       "      <th>3</th>\n",
       "      <td>NaN</td>\n",
       "      <td>Afghanistan</td>\n",
       "      <td>7.7</td>\n",
       "      <td>36.088</td>\n",
       "      <td>7.7</td>\n",
       "      <td>38.438</td>\n",
       "      <td>7.7</td>\n",
       "      <td>34.020</td>\n",
       "      <td>1970</td>\n",
       "    </tr>\n",
       "    <tr>\n",
       "      <th>4</th>\n",
       "      <td>NaN</td>\n",
       "      <td>Afghanistan</td>\n",
       "      <td>7.7</td>\n",
       "      <td>38.438</td>\n",
       "      <td>7.8</td>\n",
       "      <td>39.854</td>\n",
       "      <td>7.7</td>\n",
       "      <td>36.088</td>\n",
       "      <td>1975</td>\n",
       "    </tr>\n",
       "  </tbody>\n",
       "</table>\n",
       "</div>"
      ],
      "text/plain": [
       "                         _comment      country  fertility  life_expect  \\\n",
       "0  Data courtesy of Gapminder.org  Afghanistan        7.7       30.332   \n",
       "1                             NaN  Afghanistan        7.7       31.997   \n",
       "2                             NaN  Afghanistan        7.7       34.020   \n",
       "3                             NaN  Afghanistan        7.7       36.088   \n",
       "4                             NaN  Afghanistan        7.7       38.438   \n",
       "\n",
       "   n_fertility  n_life_expect  p_fertility  p_life_expect  year  \n",
       "0          7.7         31.997          NaN            NaN  1955  \n",
       "1          7.7         34.020          7.7         30.332  1960  \n",
       "2          7.7         36.088          7.7         31.997  1965  \n",
       "3          7.7         38.438          7.7         34.020  1970  \n",
       "4          7.8         39.854          7.7         36.088  1975  "
      ]
     },
     "execution_count": 2,
     "metadata": {},
     "output_type": "execute_result"
    }
   ],
   "source": [
    "df = data.countries()\n",
    "df.head()"
   ]
  },
  {
   "cell_type": "code",
   "execution_count": 3,
   "metadata": {},
   "outputs": [
    {
     "data": {
      "application/javascript": [
       "const spec = {\"config\": {\"view\": {\"width\": 400, \"height\": 300}, \"mark\": {\"tooltip\": null}}, \"data\": {\"url\": \"https://vega.github.io/vega-datasets/data/gapminder-health-income.csv\"}, \"mark\": \"circle\", \"encoding\": {\"size\": {\"type\": \"quantitative\", \"field\": \"population\"}, \"x\": {\"type\": \"quantitative\", \"field\": \"income\", \"scale\": {\"type\": \"log\"}}, \"y\": {\"type\": \"quantitative\", \"field\": \"health\", \"scale\": {\"zero\": false}}}, \"$schema\": \"https://vega.github.io/schema/vega-lite/v3.4.0.json\"};\n",
       "const opt = {};\n",
       "const type = \"vega-lite\";\n",
       "const id = \"a4cf118b-8113-420a-bb91-84a6e12c1a3a\";\n",
       "\n",
       "const output_area = this;\n",
       "\n",
       "require([\"nbextensions/jupyter-vega/index\"], function(vega) {\n",
       "  const target = document.createElement(\"div\");\n",
       "  target.id = id;\n",
       "  target.className = \"vega-embed\";\n",
       "\n",
       "  const style = document.createElement(\"style\");\n",
       "  style.textContent = [\n",
       "    \".vega-embed .error p {\",\n",
       "    \"  color: firebrick;\",\n",
       "    \"  font-size: 14px;\",\n",
       "    \"}\",\n",
       "  ].join(\"\\\\n\");\n",
       "\n",
       "  // element is a jQuery wrapped DOM element inside the output area\n",
       "  // see http://ipython.readthedocs.io/en/stable/api/generated/\\\n",
       "  // IPython.display.html#IPython.display.Javascript.__init__\n",
       "  element[0].appendChild(target);\n",
       "  element[0].appendChild(style);\n",
       "\n",
       "  vega.render(\"#\" + id, spec, type, opt, output_area);\n",
       "}, function (err) {\n",
       "  if (err.requireType !== \"scripterror\") {\n",
       "    throw(err);\n",
       "  }\n",
       "});\n"
      ],
      "text/plain": [
       "<vega.vegalite.VegaLite at 0x20b97464dd8>"
      ]
     },
     "metadata": {
      "jupyter-vega": "#a4cf118b-8113-420a-bb91-84a6e12c1a3a"
     },
     "output_type": "display_data"
    },
    {
     "data": {
      "text/plain": []
     },
     "execution_count": 3,
     "metadata": {},
     "output_type": "execute_result"
    },
    {
     "data": {
      "image/png": "[encoded data removed]"
     },
     "metadata": {
      "jupyter-vega": "#a4cf118b-8113-420a-bb91-84a6e12c1a3a"
     },
     "output_type": "display_data"
    }
   ],
   "source": [
    "source = data.gapminder_health_income.url\n",
    "\n",
    "alt.Chart(source).mark_circle().encode(\n",
    "    alt.X('income:Q', scale=alt.Scale(type='log')),\n",
    "    alt.Y('health:Q', scale=alt.Scale(zero=False)),\n",
    "    size='population:Q'\n",
    ")"
   ]
  }
 ],
 "metadata": {
  "kernelspec": {
   "display_name": "Python 3",
   "language": "python",
   "name": "python3"
  },
  "language_info": {
   "codemirror_mode": {
    "name": "ipython",
    "version": 3
   },
   "file_extension": ".py",
   "mimetype": "text/x-python",
   "name": "python",
   "nbconvert_exporter": "python",
   "pygments_lexer": "ipython3",
   "version": "3.7.3"
  }
 },
 "nbformat": 4,
 "nbformat_minor": 2
}
