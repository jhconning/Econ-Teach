{
 "cells": [
  {
   "cell_type": "markdown",
   "metadata": {
    "slideshow": {
     "slide_type": "slide"
    }
   },
   "source": [
    "### Eco 100 diagrams"
   ]
  },
  {
   "cell_type": "markdown",
   "metadata": {
    "slideshow": {
     "slide_type": "subslide"
    }
   },
   "source": [
    "## Linear Demand and Supply Diagram\n",
    "\n",
    "This is a jupyter notebook to generate a simple interactive supply and demand diagram using python and `ipywidgets` (interactive HTML widgets) to provide sliders and animations."
   ]
  },
  {
   "cell_type": "markdown",
   "metadata": {
    "slideshow": {
     "slide_type": "fragment"
    }
   },
   "source": [
    "To run this notebook first run the code cells in the [code Section](#Code-Section) below and then return to run the cells below."
   ]
  },
  {
   "cell_type": "markdown",
   "metadata": {
    "slideshow": {
     "slide_type": "skip"
    }
   },
   "source": [
    "---"
   ]
  },
  {
   "cell_type": "markdown",
   "metadata": {
    "slideshow": {
     "slide_type": "slide"
    }
   },
   "source": [
    "Move the sliders to shift Supply or Demand in or out:"
   ]
  },
  {
   "cell_type": "code",
   "execution_count": 5,
   "metadata": {
    "slideshow": {
     "slide_type": "slide"
    }
   },
   "outputs": [
    {
     "data": {
      "application/vnd.jupyter.widget-view+json": {
       "model_id": "b0fed2be59324512ac1df6ff60a1a261",
       "version_major": 2,
       "version_minor": 0
      },
      "text/plain": [
       "interactive(children=(IntSlider(value=200, description='A', max=500, min=200, step=10), IntSlider(value=0, des…"
      ]
     },
     "metadata": {},
     "output_type": "display_data"
    }
   ],
   "source": [
    "interact(mkt, A=(200,500,10),b=fixed(1),F=(0,300,10),c=fixed(1));"
   ]
  },
  {
   "cell_type": "markdown",
   "metadata": {
    "slideshow": {
     "slide_type": "skip"
    }
   },
   "source": [
    "---"
   ]
  },
  {
   "cell_type": "markdown",
   "metadata": {
    "slideshow": {
     "slide_type": "skip"
    }
   },
   "source": [
    "## Code Section\n",
    "We've put the code down here to keep the presentation uncluttered. Run the cells below first and then return to cells above where these functions are called."
   ]
  },
  {
   "cell_type": "code",
   "execution_count": 1,
   "metadata": {
    "slideshow": {
     "slide_type": "skip"
    }
   },
   "outputs": [],
   "source": [
    "import numpy as np\n",
    "import matplotlib.pyplot as plt\n",
    "import seaborn as sns\n",
    "from ipywidgets import interact, fixed"
   ]
  },
  {
   "cell_type": "markdown",
   "metadata": {
    "slideshow": {
     "slide_type": "skip"
    }
   },
   "source": [
    "The following is just styling for the graph"
   ]
  },
  {
   "cell_type": "code",
   "execution_count": 2,
   "metadata": {
    "slideshow": {
     "slide_type": "skip"
    }
   },
   "outputs": [],
   "source": [
    "plt.style.use('bmh')\n",
    "plt.rcParams[\"figure.figsize\"] = [7,7]\n",
    "plt.rcParams[\"axes.spines.right\"] = False\n",
    "plt.rcParams[\"axes.spines.top\"] = False\n",
    "plt.rcParams[\"font.size\"] = 18"
   ]
  },
  {
   "cell_type": "markdown",
   "metadata": {
    "slideshow": {
     "slide_type": "skip"
    }
   },
   "source": [
    "Now let's define simple linear (inverse) demand and supply functions:"
   ]
  },
  {
   "cell_type": "code",
   "execution_count": 3,
   "metadata": {
    "slideshow": {
     "slide_type": "skip"
    }
   },
   "outputs": [],
   "source": [
    "def PD(Q, A, b):\n",
    "    return np.array(A - b * Q)\n",
    "\n",
    "def PS(Q, F, c):\n",
    "    return np.array(F + c * Q)"
   ]
  },
  {
   "cell_type": "code",
   "execution_count": 4,
   "metadata": {
    "slideshow": {
     "slide_type": "skip"
    }
   },
   "outputs": [],
   "source": [
    "def mkt(A=200, b=1, F=0, c=1):\n",
    "    '''Draw supply and demand diagram and calculate market equilibrium price and quantity'''\n",
    "    xmax = ymax = 500\n",
    "    xclip = 400\n",
    "    Q = np.arange(xmax)\n",
    "    \n",
    "    # for aesthetic reasons we clip demand curve line to end above the x-axis by plotting over shorter Q_ \n",
    "    d_end = np.round((A-50)/b)\n",
    "    Q_ = np.arange(0, d_end)\n",
    "    s_end = (xmax - F)/c    # to keep S label inside box\n",
    "    \n",
    "    plt.figure(figsize=(7.7,7.5))\n",
    "    plt.xlim(0,xmax)\n",
    "    plt.ylim(0, ymax)\n",
    "    plt.xlabel('Q - Quantity')\n",
    "    plt.ylabel('P - Price')\n",
    "    \n",
    "    plt.plot(Q_,PD(Q_,A,b))\n",
    "    plt.text(d_end, PD(d_end, A,b)-4, 'D', fontsize = 18)\n",
    "    plt.plot(Q,PS(Q,F,c))\n",
    "    plt.text(s_end, PS(s_end, F,c)-20, 'S', fontsize = 18)\n",
    "    \n",
    "    # market equilibrium\n",
    "    Qe = (A-F)/(c+b)\n",
    "    Pe = PD(Qe, A, b)\n",
    "    CS = (1/2)*(A-Pe)*Qe\n",
    "    plt.scatter(Qe, Pe)\n",
    "    plt.plot([0, Qe, Qe],[Pe, Pe, 0], ':')\n",
    "\n",
    "    msg1 = f'$P^e$ = {Pe:2.1f}'\n",
    "    msg2 = f'$Q^e$ = {Qe:2.1f}'\n",
    "    msg3 = f'$CS$ = {CS:2.0f}'\n",
    "    plt.text(400, 275,msg1, fontsize=15)\n",
    "    plt.text(400, 250,msg2, fontsize=15);\n",
    "    "
   ]
  },
  {
   "cell_type": "markdown",
   "metadata": {
    "slideshow": {
     "slide_type": "slide"
    }
   },
   "source": [
    "#### Notes: the simple math behind the diagram"
   ]
  },
  {
   "cell_type": "markdown",
   "metadata": {
    "slideshow": {
     "slide_type": "slide"
    }
   },
   "source": [
    "A demand curve tells us the quantity $Q$ that will be demanded of a good at any given price. This suggests a relationship of the form $Q(P)$, i.e. $Q$ as a function of $P$. \n",
    "\n",
    "However, by historical convention economists have almost always drawn demand curves with quantity $Q$ on the horizontal axis and price $P$ on the vertical axis. For some this might suggest we are plotting a function of the form $P(Q)$.  This is an 'inverse' demand function (the maximum price at which quantity Q will be demanded).       "
   ]
  },
  {
   "cell_type": "markdown",
   "metadata": {
    "slideshow": {
     "slide_type": "slide"
    }
   },
   "source": [
    "In the diagram we use a linear (inverse) **demand curve** of the form:\n",
    "\n",
    "$$P^D(Q) = A + b \\cdot Q$$\n",
    "\n",
    "this of course corresponds to a Demand curve of the form $Q^D(P) = \\frac{A}{b} - \\frac{1}{b}P$"
   ]
  },
  {
   "cell_type": "markdown",
   "metadata": {
    "slideshow": {
     "slide_type": "slide"
    }
   },
   "source": [
    "The (inverse) **supply curve** curve is of the form:\n",
    "\n",
    "$$P^S(Q) = F + c \\cdot Q$$\n",
    "\n",
    "As will be seen later in the course the market supply curve is a marginal cost curve."
   ]
  },
  {
   "cell_type": "markdown",
   "metadata": {
    "slideshow": {
     "slide_type": "slide"
    }
   },
   "source": [
    "The market equilibrium price $P^e$ can be found where supply meets demand.  \n",
    "\n",
    "$$P^S(Q) = P^e = P^D(Q)$$\n",
    "\n",
    "With the linear demand and supply system above we can easily solve for the market equilibrium quantity $Q^e$\n",
    "\n",
    "$$A+ b \\cdot Q^e  = F + c \\cdot Q^e$$\n",
    "\n",
    "which leads to:\n",
    "\n",
    "$$Q^e = \\frac{A-F}{c+b}$$"
   ]
  },
  {
   "cell_type": "markdown",
   "metadata": {
    "slideshow": {
     "slide_type": "fragment"
    }
   },
   "source": [
    "And the market equilibrium price $P^e$ is then easuily found from either $P^D(Q^e)$ or $P^S(Q^e)$ "
   ]
  }
 ],
 "metadata": {
  "kernelspec": {
   "display_name": "Python 3",
   "language": "python",
   "name": "python3"
  },
  "language_info": {
   "codemirror_mode": {
    "name": "ipython",
    "version": 3
   },
   "file_extension": ".py",
   "mimetype": "text/x-python",
   "name": "python",
   "nbconvert_exporter": "python",
   "pygments_lexer": "ipython3",
   "version": "3.7.1"
  }
 },
 "nbformat": 4,
 "nbformat_minor": 2
}
