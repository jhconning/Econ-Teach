{
 "cells": [
  {
   "cell_type": "code",
   "execution_count": 1,
   "metadata": {},
   "outputs": [
    {
     "data": {
      "application/vnd.jupyter.widget-view+json": {
       "model_id": "c160ea4deb7f415681b1de4c8a794d96",
       "version_major": 2,
       "version_minor": 0
      },
      "text/plain": [
       "Sheet(cells=(Cell(choice=[], column_end=0, column_start=0, row_end=5, row_start=0, squeeze_row=False, type='nu…"
      ]
     },
     "metadata": {},
     "output_type": "display_data"
    }
   ],
   "source": [
    "import numpy as np\n",
    "import pandas as pd\n",
    "from ipysheet import from_dataframe, to_dataframe\n",
    "\n",
    "dates = pd.date_range('20130101', periods=6)\n",
    "df = pd.DataFrame(np.random.randn(6, 26), index=dates, columns=list(chr(ord('A') + i) for i in range(26)))\n",
    "\n",
    "sheet = from_dataframe(df)\n",
    "sheet"
   ]
  },
  {
   "cell_type": "code",
   "execution_count": 2,
   "metadata": {},
   "outputs": [
    {
     "data": {
      "application/vnd.jupyter.widget-view+json": {
       "model_id": "b83d4cab3dfa47908bee5598fdec9d09",
       "version_major": 2,
       "version_minor": 0
      },
      "text/plain": [
       "Sheet(cells=(Cell(choice=[], column_end=0, column_start=0, row_start=0, squeeze_row=False, type='numeric', val…"
      ]
     },
     "metadata": {},
     "output_type": "display_data"
    }
   ],
   "source": [
    "df2 = pd.DataFrame({'A': 1.,\n",
    "                    'B': pd.Timestamp('20130102'),\n",
    "                    'C': pd.Series(1, index=list(range(4)), dtype='float32'),\n",
    "                    'D': np.array([False, True, False, False], dtype='bool'),\n",
    "                    'E': pd.Categorical([\"test\", \"train\", \"test\", \"train\"]),\n",
    "                    'F': 'foo'})\n",
    "\n",
    "df2.loc[[0, 2], ['B']] = np.nan\n",
    "\n",
    "sheet2 = from_dataframe(df2)\n",
    "sheet2"
   ]
  },
  {
   "cell_type": "code",
   "execution_count": 3,
   "metadata": {},
   "outputs": [
    {
     "data": {
      "text/html": [
       "<div>\n",
       "<style scoped>\n",
       "    .dataframe tbody tr th:only-of-type {\n",
       "        vertical-align: middle;\n",
       "    }\n",
       "\n",
       "    .dataframe tbody tr th {\n",
       "        vertical-align: top;\n",
       "    }\n",
       "\n",
       "    .dataframe thead th {\n",
       "        text-align: right;\n",
       "    }\n",
       "</style>\n",
       "<table border=\"1\" class=\"dataframe\">\n",
       "  <thead>\n",
       "    <tr style=\"text-align: right;\">\n",
       "      <th></th>\n",
       "      <th>A</th>\n",
       "      <th>B</th>\n",
       "      <th>C</th>\n",
       "      <th>D</th>\n",
       "      <th>E</th>\n",
       "      <th>F</th>\n",
       "    </tr>\n",
       "  </thead>\n",
       "  <tbody>\n",
       "    <tr>\n",
       "      <th>0</th>\n",
       "      <td>1.0</td>\n",
       "      <td>NaT</td>\n",
       "      <td>1.0</td>\n",
       "      <td>False</td>\n",
       "      <td>test</td>\n",
       "      <td>foo</td>\n",
       "    </tr>\n",
       "    <tr>\n",
       "      <th>1</th>\n",
       "      <td>1.0</td>\n",
       "      <td>2013-01-02</td>\n",
       "      <td>1.0</td>\n",
       "      <td>True</td>\n",
       "      <td>train</td>\n",
       "      <td>foo</td>\n",
       "    </tr>\n",
       "    <tr>\n",
       "      <th>2</th>\n",
       "      <td>1.0</td>\n",
       "      <td>NaT</td>\n",
       "      <td>1.0</td>\n",
       "      <td>False</td>\n",
       "      <td>test</td>\n",
       "      <td>foo</td>\n",
       "    </tr>\n",
       "    <tr>\n",
       "      <th>3</th>\n",
       "      <td>1.0</td>\n",
       "      <td>2013-01-02</td>\n",
       "      <td>1.0</td>\n",
       "      <td>False</td>\n",
       "      <td>train</td>\n",
       "      <td>foo</td>\n",
       "    </tr>\n",
       "  </tbody>\n",
       "</table>\n",
       "</div>"
      ],
      "text/plain": [
       "     A          B    C      D      E    F\n",
       "0  1.0        NaT  1.0  False   test  foo\n",
       "1  1.0 2013-01-02  1.0   True  train  foo\n",
       "2  1.0        NaT  1.0  False   test  foo\n",
       "3  1.0 2013-01-02  1.0  False  train  foo"
      ]
     },
     "execution_count": 3,
     "metadata": {},
     "output_type": "execute_result"
    }
   ],
   "source": [
    "df3 = to_dataframe(sheet2)\n",
    "df3"
   ]
  },
  {
   "cell_type": "code",
   "execution_count": 4,
   "metadata": {},
   "outputs": [
    {
     "data": {
      "application/vnd.jupyter.widget-view+json": {
       "model_id": "be2bb1f87a1c457c87b72be9f542d4cc",
       "version_major": 2,
       "version_minor": 0
      },
      "text/plain": [
       "Sheet(cells=(Cell(choice=[], column_end=0, column_start=0, row_end=5, row_start=0, squeeze_row=False, type='nu…"
      ]
     },
     "metadata": {},
     "output_type": "display_data"
    }
   ],
   "source": [
    "from_dataframe(df)"
   ]
  },
  {
   "cell_type": "code",
   "execution_count": 5,
   "metadata": {},
   "outputs": [
    {
     "data": {
      "application/vnd.jupyter.widget-view+json": {
       "model_id": "b83d4cab3dfa47908bee5598fdec9d09",
       "version_major": 2,
       "version_minor": 0
      },
      "text/plain": [
       "Sheet(cells=(Cell(choice=[], column_end=0, column_start=0, row_start=0, squeeze_row=False, type='numeric', val…"
      ]
     },
     "metadata": {},
     "output_type": "display_data"
    }
   ],
   "source": [
    "sheet2"
   ]
  },
  {
   "cell_type": "code",
   "execution_count": 6,
   "metadata": {},
   "outputs": [
    {
     "data": {
      "application/vnd.jupyter.widget-view+json": {
       "model_id": "b83d4cab3dfa47908bee5598fdec9d09",
       "version_major": 2,
       "version_minor": 0
      },
      "text/plain": [
       "Sheet(cells=(Cell(choice=[], column_end=0, column_start=0, row_start=0, squeeze_row=False, type='numeric', val…"
      ]
     },
     "metadata": {},
     "output_type": "display_data"
    }
   ],
   "source": [
    "sheet2"
   ]
  },
  {
   "cell_type": "code",
   "execution_count": null,
   "metadata": {},
   "outputs": [],
   "source": []
  },
  {
   "cell_type": "code",
   "execution_count": null,
   "metadata": {},
   "outputs": [],
   "source": []
  }
 ],
 "metadata": {
  "kernelspec": {
   "display_name": "Python 3",
   "language": "python",
   "name": "python3"
  },
  "language_info": {
   "codemirror_mode": {
    "name": "ipython",
    "version": 3
   },
   "file_extension": ".py",
   "mimetype": "text/x-python",
   "name": "python",
   "nbconvert_exporter": "python",
   "pygments_lexer": "ipython3",
   "version": "3.7.3"
  },
  "varInspector": {
   "cols": {
    "lenName": 16,
    "lenType": 16,
    "lenVar": 40
   },
   "kernels_config": {
    "python": {
     "delete_cmd_postfix": "",
     "delete_cmd_prefix": "del ",
     "library": "var_list.py",
     "varRefreshCmd": "print(var_dic_list())"
    },
    "r": {
     "delete_cmd_postfix": ") ",
     "delete_cmd_prefix": "rm(",
     "library": "var_list.r",
     "varRefreshCmd": "cat(var_dic_list()) "
    }
   },
   "types_to_exclude": [
    "module",
    "function",
    "builtin_function_or_method",
    "instance",
    "_Feature"
   ],
   "window_display": false
  },
  "widgets": {
   "application/vnd.jupyter.widget-state+json": {
    "state": {
     "007286d66b0a4eb88d1ebf19b781a2c1": {
      "model_module": "ipysheet",
      "model_module_version": "~0.4.2",
      "model_name": "CellRangeModel",
      "state": {
       "_view_module": null,
       "_view_module_version": "",
       "choice": [],
       "column_end": 18,
       "column_start": 18,
       "row_end": 5,
       "row_start": 0,
       "squeeze_row": false,
       "type": "numeric",
       "value": [
        -0.34912118129934694,
        1.1884207088776675,
        0.2022485342659444,
        0.26730860030849757,
        1.4643428363163427,
        -0.4713586601369465
       ]
      }
     },
     "021eaec7b1554080b75dbe509e27fa83": {
      "model_module": "ipysheet",
      "model_module_version": "~0.4.2",
      "model_name": "CellRangeModel",
      "state": {
       "_view_module": null,
       "_view_module_version": "",
       "choice": [],
       "column_end": 0,
       "column_start": 0,
       "row_end": 3,
       "row_start": 0,
       "squeeze_row": false,
       "type": "numeric",
       "value": [
        1,
        1,
        1,
        1
       ]
      }
     },
     "0353cbbd47a84359b63447ba5518d84e": {
      "model_module": "ipysheet",
      "model_module_version": "~0.4.2",
      "model_name": "CellRangeModel",
      "state": {
       "_view_module": null,
       "_view_module_version": "",
       "choice": [],
       "column_end": 22,
       "column_start": 22,
       "row_end": 5,
       "row_start": 0,
       "squeeze_row": false,
       "type": "numeric",
       "value": [
        -1.2332013101938244,
        -0.34328839911971754,
        1.1160484037558422,
        -0.8341987368460573,
        -0.17197207466448078,
        -0.7231365195850605
       ]
      }
     },
     "0a2348bbac2e4796b08f8ea3933f384b": {
      "model_module": "@jupyter-widgets/base",
      "model_module_version": "1.1.0",
      "model_name": "LayoutModel",
      "state": {
       "height": "auto",
       "width": "auto"
      }
     },
     "0ac27b97ba5e4f81a34df4ac03509e77": {
      "model_module": "ipysheet",
      "model_module_version": "~0.4.2",
      "model_name": "CellRangeModel",
      "state": {
       "_view_module": null,
       "_view_module_version": "",
       "choice": [],
       "column_end": 5,
       "column_start": 5,
       "row_end": 5,
       "row_start": 0,
       "squeeze_row": false,
       "type": "numeric",
       "value": [
        -0.6319164535906919,
        -1.0061279207759661,
        0.37273924248546453,
        -0.6267782996809699,
        0.6116462958269135,
        0.5436532957626888
       ]
      }
     },
     "0b4bf0ea0492401d9c501c2292f9c170": {
      "model_module": "ipysheet",
      "model_module_version": "~0.4.2",
      "model_name": "CellRangeModel",
      "state": {
       "_view_module": null,
       "_view_module_version": "",
       "choice": [],
       "column_end": 14,
       "column_start": 14,
       "row_end": 5,
       "row_start": 0,
       "squeeze_row": false,
       "type": "numeric",
       "value": [
        -0.27633870320327225,
        -0.1374237378109037,
        -0.5025531389125099,
        -0.00838091554549104,
        -0.2606861395383972,
        -1.2458011385327765
       ]
      }
     },
     "0ebd8e55d0324d4aafd1e2c6d179a870": {
      "model_module": "ipysheet",
      "model_module_version": "~0.4.2",
      "model_name": "CellRangeModel",
      "state": {
       "_view_module": null,
       "_view_module_version": "",
       "choice": [],
       "column_end": 16,
       "column_start": 16,
       "row_end": 5,
       "row_start": 0,
       "squeeze_row": false,
       "type": "numeric",
       "value": [
        -1.743071400254118,
        -0.4903167570050068,
        -0.23700791508377755,
        -0.9055211908068379,
        0.39208412559658523,
        0.99469590563572
       ]
      }
     },
     "0efc0f557b15400994ef4865629db26d": {
      "model_module": "ipysheet",
      "model_module_version": "~0.4.2",
      "model_name": "CellRangeModel",
      "state": {
       "_view_module": null,
       "_view_module_version": "",
       "choice": [],
       "column_end": 22,
       "column_start": 22,
       "row_end": 5,
       "row_start": 0,
       "squeeze_row": false,
       "type": "numeric",
       "value": [
        -1.2332013101938244,
        -0.34328839911971754,
        1.1160484037558422,
        -0.8341987368460573,
        -0.17197207466448078,
        -0.7231365195850605
       ]
      }
     },
     "118d0623e73b49429af0bda8a6b65ec2": {
      "model_module": "ipysheet",
      "model_module_version": "~0.4.2",
      "model_name": "CellRangeModel",
      "state": {
       "_view_module": null,
       "_view_module_version": "",
       "choice": [],
       "column_end": 0,
       "column_start": 0,
       "row_end": 5,
       "row_start": 0,
       "squeeze_row": false,
       "type": "numeric",
       "value": [
        1.037443849834425,
        -0.09943542497088641,
        -0.47456216181286853,
        0.8880617143952891,
        0.13268761534172774,
        -1.1126103685731388
       ]
      }
     },
     "13963ccb100b476bac122e08ddc4e8b9": {
      "model_module": "ipysheet",
      "model_module_version": "~0.4.2",
      "model_name": "CellRangeModel",
      "state": {
       "_view_module": null,
       "_view_module_version": "",
       "choice": [],
       "column_end": 11,
       "column_start": 11,
       "row_end": 5,
       "row_start": 0,
       "squeeze_row": false,
       "type": "numeric",
       "value": [
        -0.5046461726491802,
        -1.1151639611206392,
        0.557737236111906,
        -2.046402507035132,
        -0.9621973282171492,
        1.4072565206972556
       ]
      }
     },
     "1541654cf2894aa4ae8b1a5a05a1eb11": {
      "model_module": "ipysheet",
      "model_module_version": "~0.4.2",
      "model_name": "CellRangeModel",
      "state": {
       "_view_module": null,
       "_view_module_version": "",
       "choice": [],
       "column_end": 21,
       "column_start": 21,
       "row_end": 5,
       "row_start": 0,
       "squeeze_row": false,
       "type": "numeric",
       "value": [
        -0.574353220543595,
        0.6072004014676954,
        0.3860721675864088,
        -0.3514014570070766,
        0.16880339172403006,
        0.3533294945927543
       ]
      }
     },
     "173b2f5b21a04ae89ab70eaea9498037": {
      "model_module": "ipysheet",
      "model_module_version": "~0.4.2",
      "model_name": "CellRangeModel",
      "state": {
       "_view_module": null,
       "_view_module_version": "",
       "choice": [],
       "column_end": 24,
       "column_start": 24,
       "row_end": 5,
       "row_start": 0,
       "squeeze_row": false,
       "type": "numeric",
       "value": [
        -2.1340694328418905,
        0.16106686450391794,
        0.35071666020557635,
        2.224048808053425,
        0.5840081900074104,
        1.5573343189302293
       ]
      }
     },
     "1b80525a72ff4362a15b8779349d94ec": {
      "model_module": "ipysheet",
      "model_module_version": "~0.4.2",
      "model_name": "CellRangeModel",
      "state": {
       "_view_module": null,
       "_view_module_version": "",
       "choice": [],
       "column_end": 3,
       "column_start": 3,
       "numeric_format": null,
       "row_end": 3,
       "row_start": 0,
       "squeeze_row": false,
       "type": "checkbox",
       "value": [
        false,
        true,
        false,
        false
       ]
      }
     },
     "1d8d0ceded00484aab0eff61ccd8d9b2": {
      "model_module": "ipysheet",
      "model_module_version": "~0.4.2",
      "model_name": "CellRangeModel",
      "state": {
       "_view_module": null,
       "_view_module_version": "",
       "choice": [],
       "column_end": 19,
       "column_start": 19,
       "row_end": 5,
       "row_start": 0,
       "squeeze_row": false,
       "type": "numeric",
       "value": [
        1.5721952923407425,
        0.6392306649097803,
        0.9043640527578714,
        -0.7646888257723343,
        1.5903142855055228,
        0.8648093942420242
       ]
      }
     },
     "1d95f527c6164d10b32cf5cf541e30c6": {
      "model_module": "ipysheet",
      "model_module_version": "~0.4.2",
      "model_name": "CellRangeModel",
      "state": {
       "_view_module": null,
       "_view_module_version": "",
       "choice": [],
       "column_end": 6,
       "column_start": 6,
       "row_end": 5,
       "row_start": 0,
       "squeeze_row": false,
       "type": "numeric",
       "value": [
        0.706128506380819,
        0.8761556255600187,
        1.466138725172238,
        -0.1704670251514239,
        1.4437047905836726,
        -1.9811798504168099
       ]
      }
     },
     "2d4d9da85db44c2a9f66b7138b03431d": {
      "model_module": "ipysheet",
      "model_module_version": "~0.4.2",
      "model_name": "CellRangeModel",
      "state": {
       "_view_module": null,
       "_view_module_version": "",
       "choice": [],
       "column_end": 2,
       "column_start": 2,
       "row_end": 5,
       "row_start": 0,
       "squeeze_row": false,
       "type": "numeric",
       "value": [
        2.592715454915295,
        0.662162108351587,
        0.3162482836706971,
        0.3917590019572815,
        1.2597720869116018,
        -0.00027042817260794884
       ]
      }
     },
     "30ef6d1704bc406fa7d125d8a83b4ea4": {
      "model_module": "ipysheet",
      "model_module_version": "~0.4.2",
      "model_name": "CellRangeModel",
      "state": {
       "_view_module": null,
       "_view_module_version": "",
       "choice": [],
       "column_end": 4,
       "column_start": 4,
       "row_end": 5,
       "row_start": 0,
       "squeeze_row": false,
       "type": "numeric",
       "value": [
        -0.820086028720435,
        0.26091692093017044,
        0.009611028735319735,
        0.776257534992019,
        0.6293526087069895,
        -0.11672698469186901
       ]
      }
     },
     "319f05f68e3745f0939d7388c8c841fa": {
      "model_module": "ipysheet",
      "model_module_version": "~0.4.2",
      "model_name": "CellRangeModel",
      "state": {
       "_view_module": null,
       "_view_module_version": "",
       "choice": [],
       "column_end": 9,
       "column_start": 9,
       "row_end": 5,
       "row_start": 0,
       "squeeze_row": false,
       "type": "numeric",
       "value": [
        -0.443293701261646,
        0.7238926559333196,
        0.22808448794779504,
        0.7468577694776295,
        1.3066395543666829,
        -1.338404816398597
       ]
      }
     },
     "338baeef968d4b519967964805864ca7": {
      "model_module": "ipysheet",
      "model_module_version": "~0.4.2",
      "model_name": "CellRangeModel",
      "state": {
       "_view_module": null,
       "_view_module_version": "",
       "choice": [],
       "row_end": 5,
       "row_start": 0,
       "squeeze_row": false,
       "type": "numeric",
       "value": [
        1.5966033890015634,
        -1.2666267758112362,
        0.37759133320795807,
        0.1274371744483374,
        -1.4860789331271786,
        0.6972911927102011
       ]
      }
     },
     "3bc2d2d887ac4abfbfd82ccfa99211a2": {
      "model_module": "ipysheet",
      "model_module_version": "~0.4.2",
      "model_name": "CellRangeModel",
      "state": {
       "_view_module": null,
       "_view_module_version": "",
       "choice": [],
       "column_end": 23,
       "column_start": 23,
       "row_end": 5,
       "row_start": 0,
       "squeeze_row": false,
       "type": "numeric",
       "value": [
        1.041305717038459,
        -0.4100771968829954,
        0.21922604778084892,
        -0.5136029929299497,
        -0.5336557680612088,
        -0.8861271066295451
       ]
      }
     },
     "3e36238fcd414f61a4103b89795c99fb": {
      "model_module": "ipysheet",
      "model_module_version": "~0.4.2",
      "model_name": "CellRangeModel",
      "state": {
       "_view_module": null,
       "_view_module_version": "",
       "choice": [],
       "column_end": 21,
       "column_start": 21,
       "row_end": 5,
       "row_start": 0,
       "squeeze_row": false,
       "type": "numeric",
       "value": [
        -0.574353220543595,
        0.6072004014676954,
        0.3860721675864088,
        -0.3514014570070766,
        0.16880339172403006,
        0.3533294945927543
       ]
      }
     },
     "3f5df03e4f6f4305b4f7b0d7e1713f4b": {
      "model_module": "ipysheet",
      "model_module_version": "~0.4.2",
      "model_name": "CellRangeModel",
      "state": {
       "_view_module": null,
       "_view_module_version": "",
       "choice": [],
       "column_end": 5,
       "column_start": 5,
       "numeric_format": null,
       "row_end": 3,
       "row_start": 0,
       "squeeze_row": false,
       "type": "text",
       "value": [
        "foo",
        "hi",
        "foo",
        "foo"
       ]
      }
     },
     "421361d327a44e6a9ab6c78e83073f16": {
      "model_module": "ipysheet",
      "model_module_version": "~0.4.2",
      "model_name": "CellRangeModel",
      "state": {
       "_view_module": null,
       "_view_module_version": "",
       "choice": [],
       "column_end": 9,
       "column_start": 9,
       "row_end": 5,
       "row_start": 0,
       "squeeze_row": false,
       "type": "numeric",
       "value": [
        -0.443293701261646,
        0.7238926559333196,
        0.22808448794779504,
        0.7468577694776295,
        1.3066395543666829,
        -1.338404816398597
       ]
      }
     },
     "42c5478176da4915941387c367706c55": {
      "model_module": "ipysheet",
      "model_module_version": "~0.4.2",
      "model_name": "CellRangeModel",
      "state": {
       "_view_module": null,
       "_view_module_version": "",
       "choice": [],
       "column_end": 8,
       "column_start": 8,
       "row_end": 5,
       "row_start": 0,
       "squeeze_row": false,
       "type": "numeric",
       "value": [
        -0.1510512175020093,
        -0.42817747916770194,
        0.836283546082498,
        1.6022133271311985,
        0.3858416537515933,
        0.28162230492151313
       ]
      }
     },
     "4a15fa52ef68460ebf07022e0fe87831": {
      "model_module": "ipysheet",
      "model_module_version": "~0.4.2",
      "model_name": "CellRangeModel",
      "state": {
       "_view_module": null,
       "_view_module_version": "",
       "choice": [],
       "column_end": 12,
       "column_start": 12,
       "row_end": 5,
       "row_start": 0,
       "squeeze_row": false,
       "type": "numeric",
       "value": [
        0.42936787736797255,
        0.7320938211955086,
        0.767835084693213,
        0.25864668384501044,
        0.8283015031059403,
        0.2245034048406646
       ]
      }
     },
     "4a6d88cbdb144df98bffc03018960fa5": {
      "model_module": "ipysheet",
      "model_module_version": "~0.4.2",
      "model_name": "CellRangeModel",
      "state": {
       "_view_module": null,
       "_view_module_version": "",
       "choice": [],
       "column_end": 13,
       "column_start": 13,
       "row_end": 5,
       "row_start": 0,
       "squeeze_row": false,
       "type": "numeric",
       "value": [
        0.32260049728313894,
        -0.8552355513649681,
        -0.17664799467970357,
        -1.4649094101636402,
        0.34528387946621497,
        -0.2966861538421849
       ]
      }
     },
     "4d8304aab1b34372a386b9856192505f": {
      "model_module": "ipysheet",
      "model_module_version": "~0.4.2",
      "model_name": "CellRangeModel",
      "state": {
       "_view_module": null,
       "_view_module_version": "",
       "choice": [],
       "column_end": 3,
       "column_start": 3,
       "row_end": 5,
       "row_start": 0,
       "squeeze_row": false,
       "type": "numeric",
       "value": [
        -0.617749778436532,
        0.02857467901011389,
        0.9503709597115787,
        0.06817628820983336,
        0.5529600964582658,
        -0.9230270939634401
       ]
      }
     },
     "522e0176c9654fb5a055fc08d35ea80f": {
      "model_module": "ipysheet",
      "model_module_version": "~0.4.2",
      "model_name": "CellRangeModel",
      "state": {
       "_view_module": null,
       "_view_module_version": "",
       "choice": [],
       "column_end": 11,
       "column_start": 11,
       "row_end": 5,
       "row_start": 0,
       "squeeze_row": false,
       "type": "numeric",
       "value": [
        -0.5046461726491802,
        -1.1151639611206392,
        0.557737236111906,
        -2.046402507035132,
        -0.9621973282171492,
        1.4072565206972556
       ]
      }
     },
     "53370096acf44bef8b6166042032054c": {
      "model_module": "ipysheet",
      "model_module_version": "~0.4.2",
      "model_name": "CellRangeModel",
      "state": {
       "_view_module": null,
       "_view_module_version": "",
       "choice": [],
       "column_end": 10,
       "column_start": 10,
       "row_end": 5,
       "row_start": 0,
       "squeeze_row": false,
       "type": "numeric",
       "value": [
        1.1308960496979608,
        -0.23049471393708523,
        -0.039173898284622366,
        0.35676559078154535,
        -0.457684287622149,
        -0.17951449383581886
       ]
      }
     },
     "5b2796b06f3544089a5dfe6bf36fb535": {
      "model_module": "ipysheet",
      "model_module_version": "~0.4.2",
      "model_name": "CellRangeModel",
      "state": {
       "_view_module": null,
       "_view_module_version": "",
       "choice": [],
       "column_end": 4,
       "column_start": 4,
       "row_end": 5,
       "row_start": 0,
       "squeeze_row": false,
       "type": "numeric",
       "value": [
        -0.820086028720435,
        0.26091692093017044,
        0.009611028735319735,
        0.776257534992019,
        0.6293526087069895,
        -0.11672698469186901
       ]
      }
     },
     "5ce05aae6e2f4449b33922646d8145a9": {
      "model_module": "ipysheet",
      "model_module_version": "~0.4.2",
      "model_name": "CellRangeModel",
      "state": {
       "_view_module": null,
       "_view_module_version": "",
       "choice": [],
       "column_end": 7,
       "column_start": 7,
       "row_end": 5,
       "row_start": 0,
       "squeeze_row": false,
       "type": "numeric",
       "value": [
        -0.46769692840350974,
        0.1921123128600861,
        1.4057734810436289,
        -0.23962293523305694,
        -0.7242911432282699,
        0.29343812136513264
       ]
      }
     },
     "5ebd4b76f4204972a0f5717940b5278a": {
      "model_module": "ipysheet",
      "model_module_version": "~0.4.2",
      "model_name": "CellRangeModel",
      "state": {
       "_view_module": null,
       "_view_module_version": "",
       "choice": [],
       "column_end": 23,
       "column_start": 23,
       "row_end": 5,
       "row_start": 0,
       "squeeze_row": false,
       "type": "numeric",
       "value": [
        1.041305717038459,
        -0.4100771968829954,
        0.21922604778084892,
        -0.5136029929299497,
        -0.5336557680612088,
        -0.8861271066295451
       ]
      }
     },
     "64544a00139040489ddd48838549c095": {
      "model_module": "ipysheet",
      "model_module_version": "~0.4.2",
      "model_name": "CellRangeModel",
      "state": {
       "_view_module": null,
       "_view_module_version": "",
       "choice": [],
       "column_end": 20,
       "column_start": 20,
       "row_end": 5,
       "row_start": 0,
       "squeeze_row": false,
       "type": "numeric",
       "value": [
        -0.3934867274991156,
        -0.4073920941315939,
        1.4459757407460638,
        2.0779223511015705,
        1.6076574528884773,
        -1.137520066956389
       ]
      }
     },
     "753e2a985b6146f4914d97969e876a28": {
      "model_module": "ipysheet",
      "model_module_version": "~0.4.2",
      "model_name": "CellRangeModel",
      "state": {
       "_view_module": null,
       "_view_module_version": "",
       "choice": [],
       "column_end": 6,
       "column_start": 6,
       "row_end": 5,
       "row_start": 0,
       "squeeze_row": false,
       "type": "numeric",
       "value": [
        0.706128506380819,
        0.8761556255600187,
        1.466138725172238,
        -0.1704670251514239,
        1.4437047905836726,
        -1.9811798504168099
       ]
      }
     },
     "7ebe78d94a9d44ce86bd44960f531f00": {
      "model_module": "ipysheet",
      "model_module_version": "~0.4.2",
      "model_name": "CellRangeModel",
      "state": {
       "_view_module": null,
       "_view_module_version": "",
       "choice": [],
       "column_end": 19,
       "column_start": 19,
       "row_end": 5,
       "row_start": 0,
       "squeeze_row": false,
       "type": "numeric",
       "value": [
        1.5721952923407425,
        0.6392306649097803,
        0.9043640527578714,
        -0.7646888257723343,
        1.5903142855055228,
        0.8648093942420242
       ]
      }
     },
     "803a834a23c043b4823fbe72af0df25b": {
      "model_module": "ipysheet",
      "model_module_version": "~0.4.2",
      "model_name": "CellRangeModel",
      "state": {
       "_view_module": null,
       "_view_module_version": "",
       "choice": [],
       "column_end": 7,
       "column_start": 7,
       "row_end": 5,
       "row_start": 0,
       "squeeze_row": false,
       "type": "numeric",
       "value": [
        -0.46769692840350974,
        0.1921123128600861,
        1.4057734810436289,
        -0.23962293523305694,
        -0.7242911432282699,
        0.29343812136513264
       ]
      }
     },
     "840cb148c9b142d8b30eedff53a4e744": {
      "model_module": "ipysheet",
      "model_module_version": "~0.4.2",
      "model_name": "CellRangeModel",
      "state": {
       "_view_module": null,
       "_view_module_version": "",
       "choice": [],
       "column_end": 18,
       "column_start": 18,
       "row_end": 5,
       "row_start": 0,
       "squeeze_row": false,
       "type": "numeric",
       "value": [
        -0.34912118129934694,
        1.1884207088776675,
        0.2022485342659444,
        0.26730860030849757,
        1.4643428363163427,
        -0.4713586601369465
       ]
      }
     },
     "8476f4a548e24ccbaa3c23a409299ee9": {
      "model_module": "ipysheet",
      "model_module_version": "~0.4.2",
      "model_name": "CellRangeModel",
      "state": {
       "_view_module": null,
       "_view_module_version": "",
       "choice": [],
       "column_end": 16,
       "column_start": 16,
       "row_end": 5,
       "row_start": 0,
       "squeeze_row": false,
       "type": "numeric",
       "value": [
        -1.743071400254118,
        -0.4903167570050068,
        -0.23700791508377755,
        -0.9055211908068379,
        0.39208412559658523,
        0.99469590563572
       ]
      }
     },
     "85c10929d56a401491331c8ae07d7b17": {
      "model_module": "ipysheet",
      "model_module_version": "~0.4.2",
      "model_name": "CellRangeModel",
      "state": {
       "_view_module": null,
       "_view_module_version": "",
       "choice": [],
       "column_end": 15,
       "column_start": 15,
       "row_end": 5,
       "row_start": 0,
       "squeeze_row": false,
       "type": "numeric",
       "value": [
        0.16136154914207423,
        1.2139541928263953,
        -0.8619720221114457,
        -1.1654455593183743,
        1.2394689978606666,
        0.6413099321264677
       ]
      }
     },
     "89fd8ed6499b49fa94bcec1ffb1100c0": {
      "model_module": "ipysheet",
      "model_module_version": "~0.4.2",
      "model_name": "CellRangeModel",
      "state": {
       "_view_module": null,
       "_view_module_version": "",
       "choice": [],
       "column_end": 25,
       "column_start": 25,
       "row_end": 5,
       "row_start": 0,
       "squeeze_row": false,
       "type": "numeric",
       "value": [
        -1.554665092548691,
        -0.3499648556132077,
        0.7906626907357737,
        0.6621606313397572,
        -1.3484647037568998,
        1.9887147469271826
       ]
      }
     },
     "8a4e6d2720c54a07bdab36250a83c9b8": {
      "model_module": "ipysheet",
      "model_module_version": "~0.4.2",
      "model_name": "CellRangeModel",
      "state": {
       "_view_module": null,
       "_view_module_version": "",
       "choice": [],
       "numeric_format": null,
       "row_end": 3,
       "row_start": 0,
       "squeeze_row": false,
       "type": "date",
       "value": [
        null,
        "2013/01/02",
        null,
        "2013/01/02"
       ]
      }
     },
     "8ea96bc419bf4c6a937f8ae89ff75af0": {
      "model_module": "ipysheet",
      "model_module_version": "~0.4.2",
      "model_name": "CellRangeModel",
      "state": {
       "_view_module": null,
       "_view_module_version": "",
       "choice": [],
       "column_end": 12,
       "column_start": 12,
       "row_end": 5,
       "row_start": 0,
       "squeeze_row": false,
       "type": "numeric",
       "value": [
        0.42936787736797255,
        0.7320938211955086,
        0.767835084693213,
        0.25864668384501044,
        0.8283015031059403,
        0.2245034048406646
       ]
      }
     },
     "8f183eda1f454910bd83a7cb0d938cef": {
      "model_module": "ipysheet",
      "model_module_version": "~0.4.2",
      "model_name": "CellRangeModel",
      "state": {
       "_view_module": null,
       "_view_module_version": "",
       "choice": [],
       "column_end": 2,
       "column_start": 2,
       "row_end": 3,
       "row_start": 0,
       "squeeze_row": false,
       "type": "numeric",
       "value": [
        1,
        1,
        1,
        1
       ]
      }
     },
     "8faebf19cc94455a804f1dea92c9576d": {
      "model_module": "ipysheet",
      "model_module_version": "~0.4.2",
      "model_name": "CellRangeModel",
      "state": {
       "_view_module": null,
       "_view_module_version": "",
       "choice": [],
       "column_end": 0,
       "column_start": 0,
       "row_end": 5,
       "row_start": 0,
       "squeeze_row": false,
       "type": "numeric",
       "value": [
        1.037443849834425,
        -0.09943542497088641,
        -0.47456216181286853,
        0.8880617143952891,
        0.13268761534172774,
        -1.1126103685731388
       ]
      }
     },
     "97d50a2e27ab4bef98dc4cd7660744da": {
      "model_module": "ipysheet",
      "model_module_version": "~0.4.2",
      "model_name": "CellRangeModel",
      "state": {
       "_view_module": null,
       "_view_module_version": "",
       "choice": [],
       "column_end": 15,
       "column_start": 15,
       "row_end": 5,
       "row_start": 0,
       "squeeze_row": false,
       "type": "numeric",
       "value": [
        0.16136154914207423,
        1.2139541928263953,
        -0.8619720221114457,
        -1.1654455593183743,
        1.2394689978606666,
        0.6413099321264677
       ]
      }
     },
     "9ea4c40d0b5d4b929885434d68436a02": {
      "model_module": "ipysheet",
      "model_module_version": "~0.4.2",
      "model_name": "CellRangeModel",
      "state": {
       "_view_module": null,
       "_view_module_version": "",
       "choice": [],
       "row_end": 5,
       "row_start": 0,
       "squeeze_row": false,
       "type": "numeric",
       "value": [
        1.5966033890015634,
        -1.2666267758112362,
        0.37759133320795807,
        0.1274371744483374,
        -1.4860789331271786,
        0.6972911927102011
       ]
      }
     },
     "b28d8d23de574143b9637a5b6bbe9a2c": {
      "model_module": "ipysheet",
      "model_module_version": "~0.4.2",
      "model_name": "CellRangeModel",
      "state": {
       "_view_module": null,
       "_view_module_version": "",
       "choice": [],
       "column_end": 5,
       "column_start": 5,
       "row_end": 5,
       "row_start": 0,
       "squeeze_row": false,
       "type": "numeric",
       "value": [
        -0.6319164535906919,
        -1.0061279207759661,
        0.37273924248546453,
        -0.6267782996809699,
        0.6116462958269135,
        0.5436532957626888
       ]
      }
     },
     "b83d4cab3dfa47908bee5598fdec9d09": {
      "model_module": "ipysheet",
      "model_module_version": "~0.4.2",
      "model_name": "SheetModel",
      "state": {
       "cells": [
        "IPY_MODEL_021eaec7b1554080b75dbe509e27fa83",
        "IPY_MODEL_8a4e6d2720c54a07bdab36250a83c9b8",
        "IPY_MODEL_8f183eda1f454910bd83a7cb0d938cef",
        "IPY_MODEL_1b80525a72ff4362a15b8779349d94ec",
        "IPY_MODEL_fa5e01298b2e40f0b609fae913cf2ca2",
        "IPY_MODEL_3f5df03e4f6f4305b4f7b0d7e1713f4b"
       ],
       "column_headers": [
        "A",
        "B",
        "C",
        "D",
        "E",
        "F"
       ],
       "columns": 6,
       "layout": "IPY_MODEL_0a2348bbac2e4796b08f8ea3933f384b",
       "row_headers": [
        "0",
        "1",
        "2",
        "3"
       ],
       "rows": 4
      }
     },
     "be2bb1f87a1c457c87b72be9f542d4cc": {
      "model_module": "ipysheet",
      "model_module_version": "~0.4.2",
      "model_name": "SheetModel",
      "state": {
       "cells": [
        "IPY_MODEL_8faebf19cc94455a804f1dea92c9576d",
        "IPY_MODEL_338baeef968d4b519967964805864ca7",
        "IPY_MODEL_2d4d9da85db44c2a9f66b7138b03431d",
        "IPY_MODEL_d1433c267aff46d7b5809c2614fb0221",
        "IPY_MODEL_5b2796b06f3544089a5dfe6bf36fb535",
        "IPY_MODEL_b28d8d23de574143b9637a5b6bbe9a2c",
        "IPY_MODEL_1d95f527c6164d10b32cf5cf541e30c6",
        "IPY_MODEL_5ce05aae6e2f4449b33922646d8145a9",
        "IPY_MODEL_42c5478176da4915941387c367706c55",
        "IPY_MODEL_421361d327a44e6a9ab6c78e83073f16",
        "IPY_MODEL_cd4a1e1e12fb492ea5f34ca8109c77d1",
        "IPY_MODEL_522e0176c9654fb5a055fc08d35ea80f",
        "IPY_MODEL_4a15fa52ef68460ebf07022e0fe87831",
        "IPY_MODEL_f4a54d1d2aae4dfabcfc974ef7fa3032",
        "IPY_MODEL_ffa8135c038b4135a221845dcdfb3a3b",
        "IPY_MODEL_97d50a2e27ab4bef98dc4cd7660744da",
        "IPY_MODEL_8476f4a548e24ccbaa3c23a409299ee9",
        "IPY_MODEL_d035e18e506d483f9137279ab99eb530",
        "IPY_MODEL_007286d66b0a4eb88d1ebf19b781a2c1",
        "IPY_MODEL_1d8d0ceded00484aab0eff61ccd8d9b2",
        "IPY_MODEL_bf249a3155da4553b086cf7f41784a22",
        "IPY_MODEL_1541654cf2894aa4ae8b1a5a05a1eb11",
        "IPY_MODEL_0353cbbd47a84359b63447ba5518d84e",
        "IPY_MODEL_5ebd4b76f4204972a0f5717940b5278a",
        "IPY_MODEL_e8c74ea5b9f042c3b07dbb51e8807f2c",
        "IPY_MODEL_89fd8ed6499b49fa94bcec1ffb1100c0"
       ],
       "column_headers": [
        "A",
        "B",
        "C",
        "D",
        "E",
        "F",
        "G",
        "H",
        "I",
        "J",
        "K",
        "L",
        "M",
        "N",
        "O",
        "P",
        "Q",
        "R",
        "S",
        "T",
        "U",
        "V",
        "W",
        "X",
        "Y",
        "Z"
       ],
       "columns": 26,
       "layout": "IPY_MODEL_c8010a5f5b06439880d01ca7b977f066",
       "row_headers": [
        "2013-01-01 00:00:00",
        "2013-01-02 00:00:00",
        "2013-01-03 00:00:00",
        "2013-01-04 00:00:00",
        "2013-01-05 00:00:00",
        "2013-01-06 00:00:00"
       ],
       "rows": 6
      }
     },
     "bf249a3155da4553b086cf7f41784a22": {
      "model_module": "ipysheet",
      "model_module_version": "~0.4.2",
      "model_name": "CellRangeModel",
      "state": {
       "_view_module": null,
       "_view_module_version": "",
       "choice": [],
       "column_end": 20,
       "column_start": 20,
       "row_end": 5,
       "row_start": 0,
       "squeeze_row": false,
       "type": "numeric",
       "value": [
        -0.3934867274991156,
        -0.4073920941315939,
        1.4459757407460638,
        2.0779223511015705,
        1.6076574528884773,
        -1.137520066956389
       ]
      }
     },
     "c160ea4deb7f415681b1de4c8a794d96": {
      "model_module": "ipysheet",
      "model_module_version": "~0.4.2",
      "model_name": "SheetModel",
      "state": {
       "cells": [
        "IPY_MODEL_118d0623e73b49429af0bda8a6b65ec2",
        "IPY_MODEL_9ea4c40d0b5d4b929885434d68436a02",
        "IPY_MODEL_db768dcf1fb6470285fba2ca324ebd92",
        "IPY_MODEL_4d8304aab1b34372a386b9856192505f",
        "IPY_MODEL_30ef6d1704bc406fa7d125d8a83b4ea4",
        "IPY_MODEL_0ac27b97ba5e4f81a34df4ac03509e77",
        "IPY_MODEL_753e2a985b6146f4914d97969e876a28",
        "IPY_MODEL_803a834a23c043b4823fbe72af0df25b",
        "IPY_MODEL_d1d08bca4dcb45318968df09857fcd4c",
        "IPY_MODEL_319f05f68e3745f0939d7388c8c841fa",
        "IPY_MODEL_53370096acf44bef8b6166042032054c",
        "IPY_MODEL_13963ccb100b476bac122e08ddc4e8b9",
        "IPY_MODEL_8ea96bc419bf4c6a937f8ae89ff75af0",
        "IPY_MODEL_4a6d88cbdb144df98bffc03018960fa5",
        "IPY_MODEL_0b4bf0ea0492401d9c501c2292f9c170",
        "IPY_MODEL_85c10929d56a401491331c8ae07d7b17",
        "IPY_MODEL_0ebd8e55d0324d4aafd1e2c6d179a870",
        "IPY_MODEL_cc81f42892ec49c7a874591bc6e1277f",
        "IPY_MODEL_840cb148c9b142d8b30eedff53a4e744",
        "IPY_MODEL_7ebe78d94a9d44ce86bd44960f531f00",
        "IPY_MODEL_64544a00139040489ddd48838549c095",
        "IPY_MODEL_3e36238fcd414f61a4103b89795c99fb",
        "IPY_MODEL_0efc0f557b15400994ef4865629db26d",
        "IPY_MODEL_3bc2d2d887ac4abfbfd82ccfa99211a2",
        "IPY_MODEL_173b2f5b21a04ae89ab70eaea9498037",
        "IPY_MODEL_f657dc6ba2394af7b99eafa074016d40"
       ],
       "column_headers": [
        "A",
        "B",
        "C",
        "D",
        "E",
        "F",
        "G",
        "H",
        "I",
        "J",
        "K",
        "L",
        "M",
        "N",
        "O",
        "P",
        "Q",
        "R",
        "S",
        "T",
        "U",
        "V",
        "W",
        "X",
        "Y",
        "Z"
       ],
       "columns": 26,
       "layout": "IPY_MODEL_d4b532450c4e40ed8067cf2a7a78fac3",
       "row_headers": [
        "2013-01-01 00:00:00",
        "2013-01-02 00:00:00",
        "2013-01-03 00:00:00",
        "2013-01-04 00:00:00",
        "2013-01-05 00:00:00",
        "2013-01-06 00:00:00"
       ],
       "rows": 6
      }
     },
     "c8010a5f5b06439880d01ca7b977f066": {
      "model_module": "@jupyter-widgets/base",
      "model_module_version": "1.1.0",
      "model_name": "LayoutModel",
      "state": {
       "height": "auto",
       "width": "auto"
      }
     },
     "cc81f42892ec49c7a874591bc6e1277f": {
      "model_module": "ipysheet",
      "model_module_version": "~0.4.2",
      "model_name": "CellRangeModel",
      "state": {
       "_view_module": null,
       "_view_module_version": "",
       "choice": [],
       "column_end": 17,
       "column_start": 17,
       "row_end": 5,
       "row_start": 0,
       "squeeze_row": false,
       "type": "numeric",
       "value": [
        -1.7301488629423452,
        -1.1986517753525499,
        1.944913285787961,
        0.15548792456198982,
        0.5969439195757,
        0.785447608904433
       ]
      }
     },
     "cd4a1e1e12fb492ea5f34ca8109c77d1": {
      "model_module": "ipysheet",
      "model_module_version": "~0.4.2",
      "model_name": "CellRangeModel",
      "state": {
       "_view_module": null,
       "_view_module_version": "",
       "choice": [],
       "column_end": 10,
       "column_start": 10,
       "row_end": 5,
       "row_start": 0,
       "squeeze_row": false,
       "type": "numeric",
       "value": [
        1.1308960496979608,
        -0.23049471393708523,
        -0.039173898284622366,
        0.35676559078154535,
        -0.457684287622149,
        -0.17951449383581886
       ]
      }
     },
     "d035e18e506d483f9137279ab99eb530": {
      "model_module": "ipysheet",
      "model_module_version": "~0.4.2",
      "model_name": "CellRangeModel",
      "state": {
       "_view_module": null,
       "_view_module_version": "",
       "choice": [],
       "column_end": 17,
       "column_start": 17,
       "row_end": 5,
       "row_start": 0,
       "squeeze_row": false,
       "type": "numeric",
       "value": [
        -1.7301488629423452,
        -1.1986517753525499,
        1.944913285787961,
        0.15548792456198982,
        0.5969439195757,
        0.785447608904433
       ]
      }
     },
     "d1433c267aff46d7b5809c2614fb0221": {
      "model_module": "ipysheet",
      "model_module_version": "~0.4.2",
      "model_name": "CellRangeModel",
      "state": {
       "_view_module": null,
       "_view_module_version": "",
       "choice": [],
       "column_end": 3,
       "column_start": 3,
       "row_end": 5,
       "row_start": 0,
       "squeeze_row": false,
       "type": "numeric",
       "value": [
        -0.617749778436532,
        0.02857467901011389,
        0.9503709597115787,
        0.06817628820983336,
        0.5529600964582658,
        -0.9230270939634401
       ]
      }
     },
     "d1d08bca4dcb45318968df09857fcd4c": {
      "model_module": "ipysheet",
      "model_module_version": "~0.4.2",
      "model_name": "CellRangeModel",
      "state": {
       "_view_module": null,
       "_view_module_version": "",
       "choice": [],
       "column_end": 8,
       "column_start": 8,
       "row_end": 5,
       "row_start": 0,
       "squeeze_row": false,
       "type": "numeric",
       "value": [
        -0.1510512175020093,
        -0.42817747916770194,
        0.836283546082498,
        1.6022133271311985,
        0.3858416537515933,
        0.28162230492151313
       ]
      }
     },
     "d4b532450c4e40ed8067cf2a7a78fac3": {
      "model_module": "@jupyter-widgets/base",
      "model_module_version": "1.1.0",
      "model_name": "LayoutModel",
      "state": {
       "height": "auto",
       "width": "auto"
      }
     },
     "db768dcf1fb6470285fba2ca324ebd92": {
      "model_module": "ipysheet",
      "model_module_version": "~0.4.2",
      "model_name": "CellRangeModel",
      "state": {
       "_view_module": null,
       "_view_module_version": "",
       "choice": [],
       "column_end": 2,
       "column_start": 2,
       "row_end": 5,
       "row_start": 0,
       "squeeze_row": false,
       "type": "numeric",
       "value": [
        2.592715454915295,
        0.662162108351587,
        0.3162482836706971,
        0.3917590019572815,
        1.2597720869116018,
        -0.00027042817260794884
       ]
      }
     },
     "e8c74ea5b9f042c3b07dbb51e8807f2c": {
      "model_module": "ipysheet",
      "model_module_version": "~0.4.2",
      "model_name": "CellRangeModel",
      "state": {
       "_view_module": null,
       "_view_module_version": "",
       "choice": [],
       "column_end": 24,
       "column_start": 24,
       "row_end": 5,
       "row_start": 0,
       "squeeze_row": false,
       "type": "numeric",
       "value": [
        -2.1340694328418905,
        0.16106686450391794,
        0.35071666020557635,
        2.224048808053425,
        0.5840081900074104,
        1.5573343189302293
       ]
      }
     },
     "f4a54d1d2aae4dfabcfc974ef7fa3032": {
      "model_module": "ipysheet",
      "model_module_version": "~0.4.2",
      "model_name": "CellRangeModel",
      "state": {
       "_view_module": null,
       "_view_module_version": "",
       "choice": [],
       "column_end": 13,
       "column_start": 13,
       "row_end": 5,
       "row_start": 0,
       "squeeze_row": false,
       "type": "numeric",
       "value": [
        0.32260049728313894,
        -0.8552355513649681,
        -0.17664799467970357,
        -1.4649094101636402,
        0.34528387946621497,
        -0.2966861538421849
       ]
      }
     },
     "f657dc6ba2394af7b99eafa074016d40": {
      "model_module": "ipysheet",
      "model_module_version": "~0.4.2",
      "model_name": "CellRangeModel",
      "state": {
       "_view_module": null,
       "_view_module_version": "",
       "choice": [],
       "column_end": 25,
       "column_start": 25,
       "row_end": 5,
       "row_start": 0,
       "squeeze_row": false,
       "type": "numeric",
       "value": [
        -1.554665092548691,
        -0.3499648556132077,
        0.7906626907357737,
        0.6621606313397572,
        -1.3484647037568998,
        1.9887147469271826
       ]
      }
     },
     "fa5e01298b2e40f0b609fae913cf2ca2": {
      "model_module": "ipysheet",
      "model_module_version": "~0.4.2",
      "model_name": "CellRangeModel",
      "state": {
       "_view_module": null,
       "_view_module_version": "",
       "choice": [],
       "column_end": 4,
       "column_start": 4,
       "numeric_format": null,
       "row_end": 3,
       "row_start": 0,
       "squeeze_row": false,
       "type": "text",
       "value": [
        "test",
        "train",
        "test",
        "train"
       ]
      }
     },
     "ffa8135c038b4135a221845dcdfb3a3b": {
      "model_module": "ipysheet",
      "model_module_version": "~0.4.2",
      "model_name": "CellRangeModel",
      "state": {
       "_view_module": null,
       "_view_module_version": "",
       "choice": [],
       "column_end": 14,
       "column_start": 14,
       "row_end": 5,
       "row_start": 0,
       "squeeze_row": false,
       "type": "numeric",
       "value": [
        -0.27633870320327225,
        -0.1374237378109037,
        -0.5025531389125099,
        -0.00838091554549104,
        -0.2606861395383972,
        -1.2458011385327765
       ]
      }
     }
    },
    "version_major": 2,
    "version_minor": 0
   }
  }
 },
 "nbformat": 4,
 "nbformat_minor": 2
}
