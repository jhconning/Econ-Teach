{
 "cells": [
  {
   "cell_type": "markdown",
   "id": "independent-diary",
   "metadata": {},
   "source": [
    "# XKCD plotting"
   ]
  },
  {
   "cell_type": "code",
   "execution_count": 4,
   "id": "medium-phoenix",
   "metadata": {},
   "outputs": [],
   "source": [
    "from ipywidgets import interact\n",
    "from ricardo import *"
   ]
  },
  {
   "cell_type": "code",
   "execution_count": 5,
   "id": "suited-operator",
   "metadata": {},
   "outputs": [
    {
     "data": {
      "application/vnd.jupyter.widget-view+json": {
       "model_id": "bf072ab2d46748e7a7dec4e25bfa48f9",
       "version_major": 2,
       "version_minor": 0
      },
      "text/plain": [
       "interactive(children=(FloatSlider(value=2.0, description='mplx', max=2.0, min=0.5), FloatSlider(value=1.0, des…"
      ]
     },
     "metadata": {},
     "output_type": "display_data"
    }
   ],
   "source": [
    "mpl_state = plt.rcParams.copy()\n",
    "plt.xkcd()  # switch to xkcd look\n",
    "interact(openrppf, mplx=(0.5,2,0.1),mply=(0.5,2,0.1), lbar=(50,200,10),pw=(0.5, 2, 0.1) );"
   ]
  },
  {
   "cell_type": "code",
   "execution_count": null,
   "id": "standard-series",
   "metadata": {},
   "outputs": [],
   "source": []
  }
 ],
 "metadata": {
  "kernelspec": {
   "display_name": "Python 3",
   "language": "python",
   "name": "python3"
  },
  "language_info": {
   "codemirror_mode": {
    "name": "ipython",
    "version": 3
   },
   "file_extension": ".py",
   "mimetype": "text/x-python",
   "name": "python",
   "nbconvert_exporter": "python",
   "pygments_lexer": "ipython3",
   "version": "3.7.9"
  },
  "widgets": {
   "application/vnd.jupyter.widget-state+json": {
    "state": {},
    "version_major": 2,
    "version_minor": 0
   }
  }
 },
 "nbformat": 4,
 "nbformat_minor": 5
}
