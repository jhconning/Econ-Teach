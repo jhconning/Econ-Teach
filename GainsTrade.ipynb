{
 "cells": [
  {
   "cell_type": "markdown",
   "metadata": {},
   "source": [
    "## Gains to Trade in a simple Ricardian Model\n",
    "Jonathan Conning, Hunter College"
   ]
  },
  {
   "cell_type": "markdown",
   "metadata": {},
   "source": [
    "Simple Production Possibility Plots and Gains to Trade in a Ricardian economy.\n",
    "I used this in my Spring 2016 Economics 200 class."
   ]
  },
  {
   "cell_type": "code",
   "execution_count": 18,
   "metadata": {
    "collapsed": true
   },
   "outputs": [],
   "source": [
    "import seaborn as sns\n",
    "import matplotlib.pyplot as plt\n",
    "from ipywidgets import interact\n",
    "\n",
    "%matplotlib inline\n",
    "from matplotlib import rcParams\n",
    "rcParams['figure.figsize'] = (6, 6)"
   ]
  },
  {
   "cell_type": "markdown",
   "metadata": {},
   "source": [
    "### The Model\n",
    "\n",
    "Tom is stranded on a deserted island.  He has only 10 hours of work each day.  All of his attention is focused on surviving through fishing and/or collecting (small) coconuts).  His linear production technologies and resource constraints are:\n",
    "\n",
    "$$ Q_{F} = MPl_F * L_F$$\n",
    "\n",
    "$$ Q_{C} = MPL_C * L_C$$\n",
    "\n",
    "$$ L_{F} + L_C  = 10$$\n"
   ]
  },
  {
   "cell_type": "code",
   "execution_count": 19,
   "metadata": {
    "collapsed": true
   },
   "outputs": [],
   "source": [
    "LE = 10    \n",
    "MPL_F = 1.0\n",
    "MPL_C = 1.0"
   ]
  },
  {
   "cell_type": "markdown",
   "metadata": {},
   "source": [
    "Let's define a function for plotting Tom's Production possibility frontier.  The same function will have the option of also drawing a world price line."
   ]
  },
  {
   "cell_type": "code",
   "execution_count": 51,
   "metadata": {
    "collapsed": false
   },
   "outputs": [],
   "source": [
    "def ppf(mplF = 1, mplC=1, LE = LE, wp =1, price=False):\n",
    "    QFmax = mplF * LE\n",
    "    QCmax = mplC * LE\n",
    "    print('Domestic relative price:')\n",
    "    print(' {:5.2f} coconuts per Fish'.format(mplC/mplF))\n",
    "    plt.plot([0, QFmax], [ QCmax,0 ], marker='o',clip_on=False)\n",
    "    \n",
    "    if price:\n",
    "        print(\"At a world price of {} coconut per fish this country:\".format(wp))\n",
    "        if (wp < mplC/mplF):\n",
    "            plt.plot([0, QCmax*wp], [QCmax,0 ], 'r--',clip_on=False)\n",
    "            print('   exports COCONUTS')\n",
    "        elif (wp > mplC/mplF):\n",
    "            plt.plot([0, QFmax], [QFmax*wp,0 ], 'r--',clip_on=False)\n",
    "            print('   exports FISH')\n",
    "        else:\n",
    "            print('   has NO TRADE')\n",
    "        \n",
    "    plt.title(\"Production Possibility Frontier\", fontsize = 18)\n",
    "    plt.xlim(0, LE*2) \n",
    "    plt.ylim(0, LE*2)\n",
    "    plt.xlabel(\"QF -- Fish\")\n",
    "    plt.ylabel(\"QC -- Coconuts\")\n",
    "    plt.show()"
   ]
  },
  {
   "cell_type": "markdown",
   "metadata": {},
   "source": [
    "Let's plot Tom's production possibility frontier at the default values:"
   ]
  },
  {
   "cell_type": "code",
   "execution_count": 52,
   "metadata": {
    "collapsed": false
   },
   "outputs": [
    {
     "name": "stdout",
     "output_type": "stream",
     "text": [
      "Domestic relative price:\n",
      "  0.50 coconuts per Fish\n"
     ]
    },
    {
     "data": {
      "image/png": "[encoded data removed]",
      "text/plain": [
       "<matplotlib.figure.Figure at 0xa09e4e0>"
      ]
     },
     "metadata": {},
     "output_type": "display_data"
    }
   ],
   "source": [
    "ppf(2,1)"
   ]
  },
  {
   "cell_type": "markdown",
   "metadata": {},
   "source": [
    "Let's use ipython widgets to see how the plot changes when we vary the parameters via sliders and buttons:"
   ]
  },
  {
   "cell_type": "code",
   "execution_count": 53,
   "metadata": {
    "collapsed": false
   },
   "outputs": [
    {
     "name": "stdout",
     "output_type": "stream",
     "text": [
      "Domestic relative price:\n",
      "  2.00 coconuts per Fish\n",
      "At a world price of 1.0 coconut per fish this country:\n",
      "   exports COCONUTS\n"
     ]
    },
    {
     "data": {
      "image/png": "[encoded data removed]",
      "text/plain": [
       "<matplotlib.figure.Figure at 0x8a77b8>"
      ]
     },
     "metadata": {},
     "output_type": "display_data"
    }
   ],
   "source": [
    "interact(ppf, mplF=(0.1, 3, 0.1), mplC=(0.1, 3, 0.1), LE=(1,2*LE,LE/10),wp=(0.1,3,0.1))"
   ]
  },
  {
   "cell_type": "code",
   "execution_count": null,
   "metadata": {
    "collapsed": true
   },
   "outputs": [],
   "source": []
  },
  {
   "cell_type": "code",
   "execution_count": null,
   "metadata": {
    "collapsed": true
   },
   "outputs": [],
   "source": []
  }
 ],
 "metadata": {
  "kernelspec": {
   "display_name": "Python 3",
   "language": "python",
   "name": "python3"
  },
  "language_info": {
   "codemirror_mode": {
    "name": "ipython",
    "version": 3
   },
   "file_extension": ".py",
   "mimetype": "text/x-python",
   "name": "python",
   "nbconvert_exporter": "python",
   "pygments_lexer": "ipython3",
   "version": "3.4.4"
  }
 },
 "nbformat": 4,
 "nbformat_minor": 0
}
