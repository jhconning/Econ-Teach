{
 "cells": [
  {
   "cell_type": "markdown",
   "metadata": {
    "slideshow": {
     "slide_type": "slide"
    }
   },
   "source": [
    "# Notes on Constrained Optimization\n",
    "## Analytical and numerical approaches\n",
    "\n",
    "This notebook contains some interactive graphical examples and a simple sample numerical constrained optimization.  This notebook uses widgets from the `ipywidgets` library which will not be rendered in a static view. \n",
    "\n",
    "To keep thing uncluttered much of the code has been moved to a [code section](#Code-Section). To render and later figures and analysis run the code cells there first and then move through the cells below."
   ]
  },
  {
   "cell_type": "markdown",
   "metadata": {
    "slideshow": {
     "slide_type": "slide"
    }
   },
   "source": [
    "### Consumer's optimization problem:\n",
    "\n",
    "$$\\max_{x_0,x_1} U(x_0,x_1) $$\n",
    "\n",
    "subject to a budget constraint\n",
    "\n",
    "$$p x_0 + x_1 \\leq I $$"
   ]
  },
  {
   "cell_type": "markdown",
   "metadata": {
    "slideshow": {
     "slide_type": "fragment"
    }
   },
   "source": [
    "where $p=\\frac{p_{0}}{p_{1}}$"
   ]
  },
  {
   "cell_type": "markdown",
   "metadata": {
    "slideshow": {
     "slide_type": "skip"
    }
   },
   "source": [
    "Let's make some parameter assumptions for the default examples and diagrams below."
   ]
  },
  {
   "cell_type": "markdown",
   "metadata": {
    "slideshow": {
     "slide_type": "skip"
    }
   },
   "source": [
    "Now define the utility function and budget constraint"
   ]
  },
  {
   "cell_type": "markdown",
   "metadata": {},
   "source": [
    "For this Cobb-Douglas we can get easy analytical solutions that give us the Marshallian demands:\n",
    "\n",
    "$$x_0^* = \\alpha \\cdot \\frac{I}{p}$$\n",
    "\n",
    "$$x_1^* = (1-\\alpha) \\cdot I$$\n",
    "\n",
    "Here is a function that given prices, income and share parameter, returns a vector of Marshallian demands $[x_0^*, x_1^*]$, along with the maximized level of utility $Ux_0^*, x_1^*)$."
   ]
  },
  {
   "cell_type": "markdown",
   "metadata": {
    "slideshow": {
     "slide_type": "slide"
    }
   },
   "source": [
    "Cobb-Douglas utility:  $U(c_0,c_1) = c_0^a \\cdot c_1^{1-a}$"
   ]
  },
  {
   "cell_type": "code",
   "execution_count": 1,
   "metadata": {},
   "outputs": [],
   "source": [
    "import sys\n",
    "sys.path.insert(0,'../intro')\n",
    "from cd import *\n"
   ]
  },
  {
   "cell_type": "code",
   "execution_count": 2,
   "metadata": {},
   "outputs": [
    {
     "output_type": "display_data",
     "data": {
      "text/plain": "<Figure size 648x648 with 1 Axes>",
      "image/svg+xml": "<?xml version=\"1.0\" encoding=\"utf-8\" standalone=\"no\"?>\r\n<!DOCTYPE svg PUBLIC \"-//W3C//DTD SVG 1.1//EN\"\r\n  \"http://www.w3.org/Graphics/SVG/1.1/DTD/svg11.dtd\">\r\n<!-- Created with matplotlib (https://matplotlib.org/) -->\r\n<svg height=\"542.234062pt\" version=\"1.1\" viewBox=\"0 0 568.761562 542.234062\" width=\"568.761562pt\" xmlns=\"http://www.w3.org/2000/svg\" xmlns:xlink=\"http://www.w3.org/1999/xlink\">\r\n <metadata>\r\n  <rdf:RDF xmlns:cc=\"http://creativecommons.org/ns#\" xmlns:dc=\"http://purl.org/dc/elements/1.1/\" xmlns:rdf=\"http://www.w3.org/1999/02/22-rdf-syntax-ns#\">\r\n   <cc:Work>\r\n    <dc:type rdf:resource=\"http://purl.org/dc/dcmitype/StillImage\"/>\r\n    <dc:date>2021-02-27T18:56:46.367125</dc:date>\r\n    <dc:format>image/svg+xml</dc:format>\r\n    <dc:creator>\r\n     <cc:Agent>\r\n      <dc:title>Matplotlib v3.3.2, https://matplotlib.org/</dc:title>\r\n     </cc:Agent>\r\n    </dc:creator>\r\n   </cc:Work>\r\n  </rdf:RDF>\r\n </metadata>\r\n <defs>\r\n  <style type=\"text/css\">*{stroke-linecap:butt;stroke-linejoin:round;}</style>\r\n </defs>\r\n <g id=\"figure_1\">\r\n  <g id=\"patch_1\">\r\n   <path d=\"M 0 542.234062 \r\nL 568.761562 542.234062 \r\nL 568.761562 0 \r\nL 0 0 \r\nz\r\n\" style=\"fill:#ffffff;\"/>\r\n  </g>\r\n  <g id=\"axes_1\">\r\n   <g id=\"patch_2\">\r\n    <path d=\"M 59.361562 496.44 \r\nL 561.561563 496.44 \r\nL 561.561563 7.2 \r\nL 59.361562 7.2 \r\nz\r\n\" style=\"fill:#eeeeee;\"/>\r\n   </g>\r\n   <g id=\"matplotlib.axis_1\">\r\n    <g id=\"xtick_1\">\r\n     <g id=\"line2d_1\">\r\n      <path clip-path=\"url(#pc2b4b90cdb)\" d=\"M 59.361562 496.44 \r\nL 59.361562 7.2 \r\n\" style=\"fill:none;stroke:#b2b2b2;stroke-dasharray:1.85,0.8;stroke-dashoffset:0;stroke-width:0.5;\"/>\r\n     </g>\r\n     <g id=\"line2d_2\"/>\r\n     <g id=\"text_1\">\r\n      <!-- 0 -->\r\n      <g style=\"fill:#262626;\" transform=\"translate(54.356719 512.824062)scale(0.18 -0.18)\">\r\n       <defs>\r\n        <path d=\"M 4.15625 35.296875 \r\nQ 4.15625 48 6.765625 55.734375 \r\nQ 9.375 63.484375 14.515625 67.671875 \r\nQ 19.671875 71.875 27.484375 71.875 \r\nQ 33.25 71.875 37.59375 69.546875 \r\nQ 41.9375 67.234375 44.765625 62.859375 \r\nQ 47.609375 58.5 49.21875 52.21875 \r\nQ 50.828125 45.953125 50.828125 35.296875 \r\nQ 50.828125 22.703125 48.234375 14.96875 \r\nQ 45.65625 7.234375 40.5 3 \r\nQ 35.359375 -1.21875 27.484375 -1.21875 \r\nQ 17.140625 -1.21875 11.234375 6.203125 \r\nQ 4.15625 15.140625 4.15625 35.296875 \r\nz\r\nM 13.1875 35.296875 \r\nQ 13.1875 17.671875 17.3125 11.828125 \r\nQ 21.4375 6 27.484375 6 \r\nQ 33.546875 6 37.671875 11.859375 \r\nQ 41.796875 17.71875 41.796875 35.296875 \r\nQ 41.796875 52.984375 37.671875 58.78125 \r\nQ 33.546875 64.59375 27.390625 64.59375 \r\nQ 21.34375 64.59375 17.71875 59.46875 \r\nQ 13.1875 52.9375 13.1875 35.296875 \r\nz\r\n\" id=\"ArialMT-48\"/>\r\n       </defs>\r\n       <use xlink:href=\"#ArialMT-48\"/>\r\n      </g>\r\n     </g>\r\n    </g>\r\n    <g id=\"xtick_2\">\r\n     <g id=\"line2d_3\">\r\n      <path clip-path=\"url(#pc2b4b90cdb)\" d=\"M 150.670653 496.44 \r\nL 150.670653 7.2 \r\n\" style=\"fill:none;stroke:#b2b2b2;stroke-dasharray:1.85,0.8;stroke-dashoffset:0;stroke-width:0.5;\"/>\r\n     </g>\r\n     <g id=\"line2d_4\"/>\r\n     <g id=\"text_2\">\r\n      <!-- 20 -->\r\n      <g style=\"fill:#262626;\" transform=\"translate(140.660966 512.824062)scale(0.18 -0.18)\">\r\n       <defs>\r\n        <path d=\"M 50.34375 8.453125 \r\nL 50.34375 0 \r\nL 3.03125 0 \r\nQ 2.9375 3.171875 4.046875 6.109375 \r\nQ 5.859375 10.9375 9.828125 15.625 \r\nQ 13.8125 20.3125 21.34375 26.46875 \r\nQ 33.015625 36.03125 37.109375 41.625 \r\nQ 41.21875 47.21875 41.21875 52.203125 \r\nQ 41.21875 57.421875 37.46875 61 \r\nQ 33.734375 64.59375 27.734375 64.59375 \r\nQ 21.390625 64.59375 17.578125 60.78125 \r\nQ 13.765625 56.984375 13.71875 50.25 \r\nL 4.6875 51.171875 \r\nQ 5.609375 61.28125 11.65625 66.578125 \r\nQ 17.71875 71.875 27.9375 71.875 \r\nQ 38.234375 71.875 44.234375 66.15625 \r\nQ 50.25 60.453125 50.25 52 \r\nQ 50.25 47.703125 48.484375 43.546875 \r\nQ 46.734375 39.40625 42.65625 34.8125 \r\nQ 38.578125 30.21875 29.109375 22.21875 \r\nQ 21.1875 15.578125 18.9375 13.203125 \r\nQ 16.703125 10.84375 15.234375 8.453125 \r\nz\r\n\" id=\"ArialMT-50\"/>\r\n       </defs>\r\n       <use xlink:href=\"#ArialMT-50\"/>\r\n       <use x=\"55.615234\" xlink:href=\"#ArialMT-48\"/>\r\n      </g>\r\n     </g>\r\n    </g>\r\n    <g id=\"xtick_3\">\r\n     <g id=\"line2d_5\">\r\n      <path clip-path=\"url(#pc2b4b90cdb)\" d=\"M 241.979744 496.44 \r\nL 241.979744 7.2 \r\n\" style=\"fill:none;stroke:#b2b2b2;stroke-dasharray:1.85,0.8;stroke-dashoffset:0;stroke-width:0.5;\"/>\r\n     </g>\r\n     <g id=\"line2d_6\"/>\r\n     <g id=\"text_3\">\r\n      <!-- 40 -->\r\n      <g style=\"fill:#262626;\" transform=\"translate(231.970057 512.824062)scale(0.18 -0.18)\">\r\n       <defs>\r\n        <path d=\"M 32.328125 0 \r\nL 32.328125 17.140625 \r\nL 1.265625 17.140625 \r\nL 1.265625 25.203125 \r\nL 33.9375 71.578125 \r\nL 41.109375 71.578125 \r\nL 41.109375 25.203125 \r\nL 50.78125 25.203125 \r\nL 50.78125 17.140625 \r\nL 41.109375 17.140625 \r\nL 41.109375 0 \r\nz\r\nM 32.328125 25.203125 \r\nL 32.328125 57.46875 \r\nL 9.90625 25.203125 \r\nz\r\n\" id=\"ArialMT-52\"/>\r\n       </defs>\r\n       <use xlink:href=\"#ArialMT-52\"/>\r\n       <use x=\"55.615234\" xlink:href=\"#ArialMT-48\"/>\r\n      </g>\r\n     </g>\r\n    </g>\r\n    <g id=\"xtick_4\">\r\n     <g id=\"line2d_7\">\r\n      <path clip-path=\"url(#pc2b4b90cdb)\" d=\"M 333.288835 496.44 \r\nL 333.288835 7.2 \r\n\" style=\"fill:none;stroke:#b2b2b2;stroke-dasharray:1.85,0.8;stroke-dashoffset:0;stroke-width:0.5;\"/>\r\n     </g>\r\n     <g id=\"line2d_8\"/>\r\n     <g id=\"text_4\">\r\n      <!-- 60 -->\r\n      <g style=\"fill:#262626;\" transform=\"translate(323.279148 512.824062)scale(0.18 -0.18)\">\r\n       <defs>\r\n        <path d=\"M 49.75 54.046875 \r\nL 41.015625 53.375 \r\nQ 39.84375 58.546875 37.703125 60.890625 \r\nQ 34.125 64.65625 28.90625 64.65625 \r\nQ 24.703125 64.65625 21.53125 62.3125 \r\nQ 17.390625 59.28125 14.984375 53.46875 \r\nQ 12.59375 47.65625 12.5 36.921875 \r\nQ 15.671875 41.75 20.265625 44.09375 \r\nQ 24.859375 46.4375 29.890625 46.4375 \r\nQ 38.671875 46.4375 44.84375 39.96875 \r\nQ 51.03125 33.5 51.03125 23.25 \r\nQ 51.03125 16.5 48.125 10.71875 \r\nQ 45.21875 4.9375 40.140625 1.859375 \r\nQ 35.0625 -1.21875 28.609375 -1.21875 \r\nQ 17.625 -1.21875 10.6875 6.859375 \r\nQ 3.765625 14.9375 3.765625 33.5 \r\nQ 3.765625 54.25 11.421875 63.671875 \r\nQ 18.109375 71.875 29.4375 71.875 \r\nQ 37.890625 71.875 43.28125 67.140625 \r\nQ 48.6875 62.40625 49.75 54.046875 \r\nz\r\nM 13.875 23.1875 \r\nQ 13.875 18.65625 15.796875 14.5 \r\nQ 17.71875 10.359375 21.1875 8.171875 \r\nQ 24.65625 6 28.46875 6 \r\nQ 34.03125 6 38.03125 10.484375 \r\nQ 42.046875 14.984375 42.046875 22.703125 \r\nQ 42.046875 30.125 38.078125 34.390625 \r\nQ 34.125 38.671875 28.125 38.671875 \r\nQ 22.171875 38.671875 18.015625 34.390625 \r\nQ 13.875 30.125 13.875 23.1875 \r\nz\r\n\" id=\"ArialMT-54\"/>\r\n       </defs>\r\n       <use xlink:href=\"#ArialMT-54\"/>\r\n       <use x=\"55.615234\" xlink:href=\"#ArialMT-48\"/>\r\n      </g>\r\n     </g>\r\n    </g>\r\n    <g id=\"xtick_5\">\r\n     <g id=\"line2d_9\">\r\n      <path clip-path=\"url(#pc2b4b90cdb)\" d=\"M 424.597926 496.44 \r\nL 424.597926 7.2 \r\n\" style=\"fill:none;stroke:#b2b2b2;stroke-dasharray:1.85,0.8;stroke-dashoffset:0;stroke-width:0.5;\"/>\r\n     </g>\r\n     <g id=\"line2d_10\"/>\r\n     <g id=\"text_5\">\r\n      <!-- 80 -->\r\n      <g style=\"fill:#262626;\" transform=\"translate(414.588239 512.824062)scale(0.18 -0.18)\">\r\n       <defs>\r\n        <path d=\"M 17.671875 38.8125 \r\nQ 12.203125 40.828125 9.5625 44.53125 \r\nQ 6.9375 48.25 6.9375 53.421875 \r\nQ 6.9375 61.234375 12.546875 66.546875 \r\nQ 18.171875 71.875 27.484375 71.875 \r\nQ 36.859375 71.875 42.578125 66.421875 \r\nQ 48.296875 60.984375 48.296875 53.171875 \r\nQ 48.296875 48.1875 45.671875 44.5 \r\nQ 43.0625 40.828125 37.75 38.8125 \r\nQ 44.34375 36.671875 47.78125 31.875 \r\nQ 51.21875 27.09375 51.21875 20.453125 \r\nQ 51.21875 11.28125 44.71875 5.03125 \r\nQ 38.234375 -1.21875 27.640625 -1.21875 \r\nQ 17.046875 -1.21875 10.546875 5.046875 \r\nQ 4.046875 11.328125 4.046875 20.703125 \r\nQ 4.046875 27.6875 7.59375 32.390625 \r\nQ 11.140625 37.109375 17.671875 38.8125 \r\nz\r\nM 15.921875 53.71875 \r\nQ 15.921875 48.640625 19.1875 45.40625 \r\nQ 22.46875 42.1875 27.6875 42.1875 \r\nQ 32.765625 42.1875 36.015625 45.375 \r\nQ 39.265625 48.578125 39.265625 53.21875 \r\nQ 39.265625 58.0625 35.90625 61.359375 \r\nQ 32.5625 64.65625 27.59375 64.65625 \r\nQ 22.5625 64.65625 19.234375 61.421875 \r\nQ 15.921875 58.203125 15.921875 53.71875 \r\nz\r\nM 13.09375 20.65625 \r\nQ 13.09375 16.890625 14.875 13.375 \r\nQ 16.65625 9.859375 20.171875 7.921875 \r\nQ 23.6875 6 27.734375 6 \r\nQ 34.03125 6 38.125 10.046875 \r\nQ 42.234375 14.109375 42.234375 20.359375 \r\nQ 42.234375 26.703125 38.015625 30.859375 \r\nQ 33.796875 35.015625 27.4375 35.015625 \r\nQ 21.234375 35.015625 17.15625 30.90625 \r\nQ 13.09375 26.8125 13.09375 20.65625 \r\nz\r\n\" id=\"ArialMT-56\"/>\r\n       </defs>\r\n       <use xlink:href=\"#ArialMT-56\"/>\r\n       <use x=\"55.615234\" xlink:href=\"#ArialMT-48\"/>\r\n      </g>\r\n     </g>\r\n    </g>\r\n    <g id=\"xtick_6\">\r\n     <g id=\"line2d_11\">\r\n      <path clip-path=\"url(#pc2b4b90cdb)\" d=\"M 515.907017 496.44 \r\nL 515.907017 7.2 \r\n\" style=\"fill:none;stroke:#b2b2b2;stroke-dasharray:1.85,0.8;stroke-dashoffset:0;stroke-width:0.5;\"/>\r\n     </g>\r\n     <g id=\"line2d_12\"/>\r\n     <g id=\"text_6\">\r\n      <!-- 100 -->\r\n      <g style=\"fill:#262626;\" transform=\"translate(500.892486 512.824062)scale(0.18 -0.18)\">\r\n       <defs>\r\n        <path d=\"M 37.25 0 \r\nL 28.46875 0 \r\nL 28.46875 56 \r\nQ 25.296875 52.984375 20.140625 49.953125 \r\nQ 14.984375 46.921875 10.890625 45.40625 \r\nL 10.890625 53.90625 \r\nQ 18.265625 57.375 23.78125 62.296875 \r\nQ 29.296875 67.234375 31.59375 71.875 \r\nL 37.25 71.875 \r\nz\r\n\" id=\"ArialMT-49\"/>\r\n       </defs>\r\n       <use xlink:href=\"#ArialMT-49\"/>\r\n       <use x=\"55.615234\" xlink:href=\"#ArialMT-48\"/>\r\n       <use x=\"111.230469\" xlink:href=\"#ArialMT-48\"/>\r\n      </g>\r\n     </g>\r\n    </g>\r\n    <g id=\"text_7\">\r\n     <!-- $c_0$ -->\r\n     <g style=\"fill:#262626;\" transform=\"translate(303.661563 531.854062)scale(0.16 -0.16)\">\r\n      <defs>\r\n       <path d=\"M 11.71875 11.921875 \r\nQ 11.71875 7.5625 13.9375 4.53125 \r\nQ 16.15625 1.515625 20.3125 1.515625 \r\nQ 26.265625 1.515625 31.75 4.25 \r\nQ 37.25 6.984375 40.71875 11.8125 \r\nQ 41.015625 12.109375 41.5 12.109375 \r\nQ 42 12.109375 42.5 11.546875 \r\nQ 43.015625 10.984375 43.015625 10.5 \r\nQ 43.015625 10.109375 42.828125 9.90625 \r\nQ 39.15625 4.78125 32.953125 1.828125 \r\nQ 26.765625 -1.125 20.125 -1.125 \r\nQ 15.328125 -1.125 11.671875 1.140625 \r\nQ 8.015625 3.421875 6 7.21875 \r\nQ 4 11.03125 4 15.828125 \r\nQ 4 22.5625 7.765625 29.203125 \r\nQ 11.53125 35.84375 17.78125 40.015625 \r\nQ 24.03125 44.1875 30.90625 44.1875 \r\nQ 35.40625 44.1875 38.984375 42.015625 \r\nQ 42.578125 39.84375 42.578125 35.59375 \r\nQ 42.578125 32.859375 40.984375 30.921875 \r\nQ 39.40625 29 36.71875 29 \r\nQ 35.109375 29 34 30 \r\nQ 32.90625 31 32.90625 32.625 \r\nQ 32.90625 34.96875 34.609375 36.625 \r\nQ 36.328125 38.28125 38.625 38.28125 \r\nL 38.8125 38.28125 \r\nQ 37.640625 39.984375 35.421875 40.796875 \r\nQ 33.203125 41.609375 30.8125 41.609375 \r\nQ 24.953125 41.609375 20.546875 36.59375 \r\nQ 16.15625 31.59375 13.9375 24.625 \r\nQ 11.71875 17.671875 11.71875 11.921875 \r\nz\r\n\" id=\"Cmmi10-99\"/>\r\n       <path d=\"M 25 -2.203125 \r\nQ 12.75 -2.203125 8.328125 7.875 \r\nQ 3.90625 17.96875 3.90625 31.890625 \r\nQ 3.90625 40.578125 5.484375 48.234375 \r\nQ 7.078125 55.90625 11.78125 61.25 \r\nQ 16.5 66.609375 25 66.609375 \r\nQ 31.59375 66.609375 35.78125 63.375 \r\nQ 39.984375 60.15625 42.1875 55.046875 \r\nQ 44.390625 49.953125 45.1875 44.109375 \r\nQ 46 38.28125 46 31.890625 \r\nQ 46 23.296875 44.40625 15.796875 \r\nQ 42.828125 8.296875 38.1875 3.046875 \r\nQ 33.546875 -2.203125 25 -2.203125 \r\nz\r\nM 25 0.390625 \r\nQ 30.5625 0.390625 33.296875 6.09375 \r\nQ 36.03125 11.8125 36.671875 18.75 \r\nQ 37.3125 25.6875 37.3125 33.5 \r\nQ 37.3125 41.015625 36.671875 47.359375 \r\nQ 36.03125 53.71875 33.3125 58.859375 \r\nQ 30.609375 64.015625 25 64.015625 \r\nQ 19.34375 64.015625 16.609375 58.828125 \r\nQ 13.875 53.65625 13.234375 47.328125 \r\nQ 12.59375 41.015625 12.59375 33.5 \r\nQ 12.59375 27.9375 12.859375 23 \r\nQ 13.140625 18.0625 14.3125 12.8125 \r\nQ 15.484375 7.5625 18.09375 3.96875 \r\nQ 20.703125 0.390625 25 0.390625 \r\nz\r\n\" id=\"Cmr10-48\"/>\r\n      </defs>\r\n      <use transform=\"translate(0 0.8125)\" xlink:href=\"#Cmmi10-99\"/>\r\n      <use transform=\"translate(43.212891 -16.19375)scale(0.7)\" xlink:href=\"#Cmr10-48\"/>\r\n     </g>\r\n    </g>\r\n   </g>\r\n   <g id=\"matplotlib.axis_2\">\r\n    <g id=\"ytick_1\">\r\n     <g id=\"line2d_13\">\r\n      <path clip-path=\"url(#pc2b4b90cdb)\" d=\"M 59.361562 496.44 \r\nL 561.561563 496.44 \r\n\" style=\"fill:none;stroke:#b2b2b2;stroke-dasharray:1.85,0.8;stroke-dashoffset:0;stroke-width:0.5;\"/>\r\n     </g>\r\n     <g id=\"line2d_14\"/>\r\n     <g id=\"text_8\">\r\n      <!-- 0 -->\r\n      <g style=\"fill:#262626;\" transform=\"translate(45.851875 502.882031)scale(0.18 -0.18)\">\r\n       <use xlink:href=\"#ArialMT-48\"/>\r\n      </g>\r\n     </g>\r\n    </g>\r\n    <g id=\"ytick_2\">\r\n     <g id=\"line2d_15\">\r\n      <path clip-path=\"url(#pc2b4b90cdb)\" d=\"M 59.361562 407.487273 \r\nL 561.561563 407.487273 \r\n\" style=\"fill:none;stroke:#b2b2b2;stroke-dasharray:1.85,0.8;stroke-dashoffset:0;stroke-width:0.5;\"/>\r\n     </g>\r\n     <g id=\"line2d_16\"/>\r\n     <g id=\"text_9\">\r\n      <!-- 20 -->\r\n      <g style=\"fill:#262626;\" transform=\"translate(35.842187 413.929304)scale(0.18 -0.18)\">\r\n       <use xlink:href=\"#ArialMT-50\"/>\r\n       <use x=\"55.615234\" xlink:href=\"#ArialMT-48\"/>\r\n      </g>\r\n     </g>\r\n    </g>\r\n    <g id=\"ytick_3\">\r\n     <g id=\"line2d_17\">\r\n      <path clip-path=\"url(#pc2b4b90cdb)\" d=\"M 59.361562 318.534545 \r\nL 561.561563 318.534545 \r\n\" style=\"fill:none;stroke:#b2b2b2;stroke-dasharray:1.85,0.8;stroke-dashoffset:0;stroke-width:0.5;\"/>\r\n     </g>\r\n     <g id=\"line2d_18\"/>\r\n     <g id=\"text_10\">\r\n      <!-- 40 -->\r\n      <g style=\"fill:#262626;\" transform=\"translate(35.842187 324.976577)scale(0.18 -0.18)\">\r\n       <use xlink:href=\"#ArialMT-52\"/>\r\n       <use x=\"55.615234\" xlink:href=\"#ArialMT-48\"/>\r\n      </g>\r\n     </g>\r\n    </g>\r\n    <g id=\"ytick_4\">\r\n     <g id=\"line2d_19\">\r\n      <path clip-path=\"url(#pc2b4b90cdb)\" d=\"M 59.361562 229.581818 \r\nL 561.561563 229.581818 \r\n\" style=\"fill:none;stroke:#b2b2b2;stroke-dasharray:1.85,0.8;stroke-dashoffset:0;stroke-width:0.5;\"/>\r\n     </g>\r\n     <g id=\"line2d_20\"/>\r\n     <g id=\"text_11\">\r\n      <!-- 60 -->\r\n      <g style=\"fill:#262626;\" transform=\"translate(35.842187 236.023849)scale(0.18 -0.18)\">\r\n       <use xlink:href=\"#ArialMT-54\"/>\r\n       <use x=\"55.615234\" xlink:href=\"#ArialMT-48\"/>\r\n      </g>\r\n     </g>\r\n    </g>\r\n    <g id=\"ytick_5\">\r\n     <g id=\"line2d_21\">\r\n      <path clip-path=\"url(#pc2b4b90cdb)\" d=\"M 59.361562 140.629091 \r\nL 561.561563 140.629091 \r\n\" style=\"fill:none;stroke:#b2b2b2;stroke-dasharray:1.85,0.8;stroke-dashoffset:0;stroke-width:0.5;\"/>\r\n     </g>\r\n     <g id=\"line2d_22\"/>\r\n     <g id=\"text_12\">\r\n      <!-- 80 -->\r\n      <g style=\"fill:#262626;\" transform=\"translate(35.842187 147.071122)scale(0.18 -0.18)\">\r\n       <use xlink:href=\"#ArialMT-56\"/>\r\n       <use x=\"55.615234\" xlink:href=\"#ArialMT-48\"/>\r\n      </g>\r\n     </g>\r\n    </g>\r\n    <g id=\"ytick_6\">\r\n     <g id=\"line2d_23\">\r\n      <path clip-path=\"url(#pc2b4b90cdb)\" d=\"M 59.361562 51.676364 \r\nL 561.561563 51.676364 \r\n\" style=\"fill:none;stroke:#b2b2b2;stroke-dasharray:1.85,0.8;stroke-dashoffset:0;stroke-width:0.5;\"/>\r\n     </g>\r\n     <g id=\"line2d_24\"/>\r\n     <g id=\"text_13\">\r\n      <!-- 100 -->\r\n      <g style=\"fill:#262626;\" transform=\"translate(25.8325 58.118395)scale(0.18 -0.18)\">\r\n       <use xlink:href=\"#ArialMT-49\"/>\r\n       <use x=\"55.615234\" xlink:href=\"#ArialMT-48\"/>\r\n       <use x=\"111.230469\" xlink:href=\"#ArialMT-48\"/>\r\n      </g>\r\n     </g>\r\n    </g>\r\n    <g id=\"text_14\">\r\n     <!-- $c_1$ -->\r\n     <g style=\"fill:#262626;\" transform=\"translate(18.6525 258.62)rotate(-90)scale(0.16 -0.16)\">\r\n      <defs>\r\n       <path d=\"M 9.28125 0 \r\nL 9.28125 3.515625 \r\nQ 21.78125 3.515625 21.78125 6.6875 \r\nL 21.78125 59.1875 \r\nQ 16.609375 56.6875 8.6875 56.6875 \r\nL 8.6875 60.203125 \r\nQ 20.953125 60.203125 27.203125 66.609375 \r\nL 28.609375 66.609375 \r\nQ 28.953125 66.609375 29.265625 66.328125 \r\nQ 29.59375 66.0625 29.59375 65.71875 \r\nL 29.59375 6.6875 \r\nQ 29.59375 3.515625 42.09375 3.515625 \r\nL 42.09375 0 \r\nz\r\n\" id=\"Cmr10-49\"/>\r\n      </defs>\r\n      <use transform=\"translate(0 0.8125)\" xlink:href=\"#Cmmi10-99\"/>\r\n      <use transform=\"translate(43.212891 -16.19375)scale(0.7)\" xlink:href=\"#Cmr10-49\"/>\r\n     </g>\r\n    </g>\r\n   </g>\r\n   <g id=\"PolyCollection_1\">\r\n    <path clip-path=\"url(#pc2b4b90cdb)\" d=\"M 59.818108 496.44 \r\nL 59.818108 52.121127 \r\nL 64.886224 57.058453 \r\nL 69.954339 61.995779 \r\nL 75.022455 66.933104 \r\nL 80.090571 71.87043 \r\nL 85.158686 76.807755 \r\nL 90.226802 81.745081 \r\nL 95.294918 86.682407 \r\nL 100.363034 91.619732 \r\nL 105.431149 96.557058 \r\nL 110.499265 101.494383 \r\nL 115.567381 106.431709 \r\nL 120.635496 111.369035 \r\nL 125.703612 116.30636 \r\nL 130.771728 121.243686 \r\nL 135.839843 126.181012 \r\nL 140.907959 131.118337 \r\nL 145.976075 136.055663 \r\nL 151.044191 140.992988 \r\nL 156.112306 145.930314 \r\nL 161.180422 150.86764 \r\nL 166.248538 155.804965 \r\nL 171.316653 160.742291 \r\nL 176.384769 165.679617 \r\nL 181.452885 170.616942 \r\nL 186.521001 175.554268 \r\nL 191.589116 180.491593 \r\nL 196.657232 185.428919 \r\nL 201.725348 190.366245 \r\nL 206.793463 195.30357 \r\nL 211.861579 200.240896 \r\nL 216.929695 205.178221 \r\nL 221.99781 210.115547 \r\nL 227.065926 215.052873 \r\nL 232.134042 219.990198 \r\nL 237.202158 224.927524 \r\nL 242.270273 229.86485 \r\nL 247.338389 234.802175 \r\nL 252.406505 239.739501 \r\nL 257.47462 244.676826 \r\nL 262.542736 249.614152 \r\nL 267.610852 254.551478 \r\nL 272.678967 259.488803 \r\nL 277.747083 264.426129 \r\nL 282.815199 269.363455 \r\nL 287.883315 274.30078 \r\nL 292.95143 279.238106 \r\nL 298.019546 284.175431 \r\nL 303.087662 289.112757 \r\nL 308.155777 294.050083 \r\nL 313.223893 298.987408 \r\nL 318.292009 303.924734 \r\nL 323.360124 308.86206 \r\nL 328.42824 313.799385 \r\nL 333.496356 318.736711 \r\nL 338.564472 323.674036 \r\nL 343.632587 328.611362 \r\nL 348.700703 333.548688 \r\nL 353.768819 338.486013 \r\nL 358.836934 343.423339 \r\nL 363.90505 348.360664 \r\nL 368.973166 353.29799 \r\nL 374.041282 358.235316 \r\nL 379.109397 363.172641 \r\nL 384.177513 368.109967 \r\nL 389.245629 373.047293 \r\nL 394.313744 377.984618 \r\nL 399.38186 382.921944 \r\nL 404.449976 387.859269 \r\nL 409.518091 392.796595 \r\nL 414.586207 397.733921 \r\nL 419.654323 402.671246 \r\nL 424.722439 407.608572 \r\nL 429.790554 412.545898 \r\nL 434.85867 417.483223 \r\nL 439.926786 422.420549 \r\nL 444.994901 427.357874 \r\nL 450.063017 432.2952 \r\nL 455.131133 437.232526 \r\nL 460.199248 442.169851 \r\nL 465.267364 447.107177 \r\nL 470.33548 452.044502 \r\nL 475.403596 456.981828 \r\nL 480.471711 461.919154 \r\nL 485.539827 466.856479 \r\nL 490.607943 471.793805 \r\nL 495.676058 476.731131 \r\nL 500.744174 481.668456 \r\nL 505.81229 486.605782 \r\nL 510.880405 491.543107 \r\nL 515.948521 496.480433 \r\nL 521.016637 501.417759 \r\nL 526.084753 506.355084 \r\nL 531.152868 511.29241 \r\nL 536.220984 516.229736 \r\nL 541.2891 521.167061 \r\nL 546.357215 526.104387 \r\nL 551.425331 531.041712 \r\nL 556.493447 535.979038 \r\nL 561.561563 540.916364 \r\nL 561.561563 496.44 \r\nL 561.561563 496.44 \r\nL 556.493447 496.44 \r\nL 551.425331 496.44 \r\nL 546.357215 496.44 \r\nL 541.2891 496.44 \r\nL 536.220984 496.44 \r\nL 531.152868 496.44 \r\nL 526.084753 496.44 \r\nL 521.016637 496.44 \r\nL 515.948521 496.44 \r\nL 510.880405 496.44 \r\nL 505.81229 496.44 \r\nL 500.744174 496.44 \r\nL 495.676058 496.44 \r\nL 490.607943 496.44 \r\nL 485.539827 496.44 \r\nL 480.471711 496.44 \r\nL 475.403596 496.44 \r\nL 470.33548 496.44 \r\nL 465.267364 496.44 \r\nL 460.199248 496.44 \r\nL 455.131133 496.44 \r\nL 450.063017 496.44 \r\nL 444.994901 496.44 \r\nL 439.926786 496.44 \r\nL 434.85867 496.44 \r\nL 429.790554 496.44 \r\nL 424.722439 496.44 \r\nL 419.654323 496.44 \r\nL 414.586207 496.44 \r\nL 409.518091 496.44 \r\nL 404.449976 496.44 \r\nL 399.38186 496.44 \r\nL 394.313744 496.44 \r\nL 389.245629 496.44 \r\nL 384.177513 496.44 \r\nL 379.109397 496.44 \r\nL 374.041282 496.44 \r\nL 368.973166 496.44 \r\nL 363.90505 496.44 \r\nL 358.836934 496.44 \r\nL 353.768819 496.44 \r\nL 348.700703 496.44 \r\nL 343.632587 496.44 \r\nL 338.564472 496.44 \r\nL 333.496356 496.44 \r\nL 328.42824 496.44 \r\nL 323.360124 496.44 \r\nL 318.292009 496.44 \r\nL 313.223893 496.44 \r\nL 308.155777 496.44 \r\nL 303.087662 496.44 \r\nL 298.019546 496.44 \r\nL 292.95143 496.44 \r\nL 287.883315 496.44 \r\nL 282.815199 496.44 \r\nL 277.747083 496.44 \r\nL 272.678967 496.44 \r\nL 267.610852 496.44 \r\nL 262.542736 496.44 \r\nL 257.47462 496.44 \r\nL 252.406505 496.44 \r\nL 247.338389 496.44 \r\nL 242.270273 496.44 \r\nL 237.202158 496.44 \r\nL 232.134042 496.44 \r\nL 227.065926 496.44 \r\nL 221.99781 496.44 \r\nL 216.929695 496.44 \r\nL 211.861579 496.44 \r\nL 206.793463 496.44 \r\nL 201.725348 496.44 \r\nL 196.657232 496.44 \r\nL 191.589116 496.44 \r\nL 186.521001 496.44 \r\nL 181.452885 496.44 \r\nL 176.384769 496.44 \r\nL 171.316653 496.44 \r\nL 166.248538 496.44 \r\nL 161.180422 496.44 \r\nL 156.112306 496.44 \r\nL 151.044191 496.44 \r\nL 145.976075 496.44 \r\nL 140.907959 496.44 \r\nL 135.839843 496.44 \r\nL 130.771728 496.44 \r\nL 125.703612 496.44 \r\nL 120.635496 496.44 \r\nL 115.567381 496.44 \r\nL 110.499265 496.44 \r\nL 105.431149 496.44 \r\nL 100.363034 496.44 \r\nL 95.294918 496.44 \r\nL 90.226802 496.44 \r\nL 85.158686 496.44 \r\nL 80.090571 496.44 \r\nL 75.022455 496.44 \r\nL 69.954339 496.44 \r\nL 64.886224 496.44 \r\nL 59.818108 496.44 \r\nz\r\n\" style=\"fill:#348abd;fill-opacity:0.2;\"/>\r\n   </g>\r\n   <g id=\"LineCollection_1\">\r\n    <path clip-path=\"url(#pc2b4b90cdb)\" d=\"M 333.288835 496.44 \r\nL 333.288835 318.534545 \r\n\" style=\"fill:none;stroke:#348abd;stroke-dasharray:7.4,3.2;stroke-dashoffset:0;stroke-width:2;\"/>\r\n   </g>\r\n   <g id=\"LineCollection_2\">\r\n    <path clip-path=\"url(#pc2b4b90cdb)\" d=\"M 59.361562 318.534545 \r\nL 333.288835 318.534545 \r\n\" style=\"fill:none;stroke:#348abd;stroke-dasharray:7.4,3.2;stroke-dashoffset:0;stroke-width:2;\"/>\r\n   </g>\r\n   <g id=\"line2d_25\">\r\n    <path clip-path=\"url(#pc2b4b90cdb)\" d=\"M 59.818108 52.121127 \r\nL 64.886224 57.058453 \r\nL 69.954339 61.995779 \r\nL 75.022455 66.933104 \r\nL 80.090571 71.87043 \r\nL 85.158686 76.807755 \r\nL 90.226802 81.745081 \r\nL 95.294918 86.682407 \r\nL 100.363034 91.619732 \r\nL 105.431149 96.557058 \r\nL 110.499265 101.494383 \r\nL 115.567381 106.431709 \r\nL 120.635496 111.369035 \r\nL 125.703612 116.30636 \r\nL 130.771728 121.243686 \r\nL 135.839843 126.181012 \r\nL 140.907959 131.118337 \r\nL 145.976075 136.055663 \r\nL 151.044191 140.992988 \r\nL 156.112306 145.930314 \r\nL 161.180422 150.86764 \r\nL 166.248538 155.804965 \r\nL 171.316653 160.742291 \r\nL 176.384769 165.679617 \r\nL 181.452885 170.616942 \r\nL 186.521001 175.554268 \r\nL 191.589116 180.491593 \r\nL 196.657232 185.428919 \r\nL 201.725348 190.366245 \r\nL 206.793463 195.30357 \r\nL 211.861579 200.240896 \r\nL 216.929695 205.178221 \r\nL 221.99781 210.115547 \r\nL 227.065926 215.052873 \r\nL 232.134042 219.990198 \r\nL 237.202158 224.927524 \r\nL 242.270273 229.86485 \r\nL 247.338389 234.802175 \r\nL 252.406505 239.739501 \r\nL 257.47462 244.676826 \r\nL 262.542736 249.614152 \r\nL 267.610852 254.551478 \r\nL 272.678967 259.488803 \r\nL 277.747083 264.426129 \r\nL 282.815199 269.363455 \r\nL 287.883315 274.30078 \r\nL 292.95143 279.238106 \r\nL 298.019546 284.175431 \r\nL 303.087662 289.112757 \r\nL 308.155777 294.050083 \r\nL 313.223893 298.987408 \r\nL 318.292009 303.924734 \r\nL 323.360124 308.86206 \r\nL 328.42824 313.799385 \r\nL 333.496356 318.736711 \r\nL 338.564472 323.674036 \r\nL 343.632587 328.611362 \r\nL 348.700703 333.548688 \r\nL 353.768819 338.486013 \r\nL 358.836934 343.423339 \r\nL 363.90505 348.360664 \r\nL 368.973166 353.29799 \r\nL 374.041282 358.235316 \r\nL 379.109397 363.172641 \r\nL 384.177513 368.109967 \r\nL 389.245629 373.047293 \r\nL 394.313744 377.984618 \r\nL 399.38186 382.921944 \r\nL 404.449976 387.859269 \r\nL 409.518091 392.796595 \r\nL 414.586207 397.733921 \r\nL 419.654323 402.671246 \r\nL 424.722439 407.608572 \r\nL 429.790554 412.545898 \r\nL 434.85867 417.483223 \r\nL 439.926786 422.420549 \r\nL 444.994901 427.357874 \r\nL 450.063017 432.2952 \r\nL 455.131133 437.232526 \r\nL 460.199248 442.169851 \r\nL 465.267364 447.107177 \r\nL 470.33548 452.044502 \r\nL 475.403596 456.981828 \r\nL 480.471711 461.919154 \r\nL 485.539827 466.856479 \r\nL 490.607943 471.793805 \r\nL 495.676058 476.731131 \r\nL 500.744174 481.668456 \r\nL 505.81229 486.605782 \r\nL 510.880405 491.543107 \r\nL 515.948521 496.480433 \r\nL 521.016637 501.417759 \r\nL 526.084753 506.355084 \r\nL 531.152868 511.29241 \r\nL 536.220984 516.229736 \r\nL 541.2891 521.167061 \r\nL 546.357215 526.104387 \r\nL 551.425331 531.041712 \r\nL 556.493447 535.979038 \r\nL 561.561563 540.916364 \r\n\" style=\"fill:none;stroke:#348abd;stroke-linecap:round;stroke-width:2.5;\"/>\r\n   </g>\r\n   <g id=\"line2d_26\">\r\n    <path clip-path=\"url(#pc2b4b90cdb)\" d=\"M 197.407588 -1 \r\nL 201.725348 21.604824 \r\nL 206.793463 45.877569 \r\nL 211.861579 68.150588 \r\nL 216.929695 88.647163 \r\nL 221.99781 107.559511 \r\nL 227.065926 125.053913 \r\nL 232.134042 141.274866 \r\nL 237.202158 156.348467 \r\nL 242.270273 170.385205 \r\nL 247.338389 183.482255 \r\nL 252.406505 195.725387 \r\nL 257.47462 207.190563 \r\nL 262.542736 217.945273 \r\nL 267.610852 228.049659 \r\nL 272.678967 237.557475 \r\nL 277.747083 246.516892 \r\nL 282.815199 254.971194 \r\nL 287.883315 262.95937 \r\nL 292.95143 270.516622 \r\nL 298.019546 277.674807 \r\nL 303.087662 284.462816 \r\nL 308.155777 290.906907 \r\nL 313.223893 297.030989 \r\nL 318.292009 302.856876 \r\nL 323.360124 308.404507 \r\nL 328.42824 313.69214 \r\nL 333.496356 318.736519 \r\nL 338.564472 323.553029 \r\nL 343.632587 328.155824 \r\nL 348.700703 332.557948 \r\nL 353.768819 336.77144 \r\nL 358.836934 340.807424 \r\nL 363.90505 344.676198 \r\nL 368.973166 348.3873 \r\nL 374.041282 351.949583 \r\nL 379.109397 355.37127 \r\nL 384.177513 358.660009 \r\nL 389.245629 361.82292 \r\nL 394.313744 364.866642 \r\nL 399.38186 367.79737 \r\nL 404.449976 370.62089 \r\nL 409.518091 373.342614 \r\nL 414.586207 375.967606 \r\nL 419.654323 378.500612 \r\nL 424.722439 380.946082 \r\nL 429.790554 383.308194 \r\nL 434.85867 385.590872 \r\nL 439.926786 387.797806 \r\nL 444.994901 389.932469 \r\nL 450.063017 391.998132 \r\nL 455.131133 393.997876 \r\nL 460.199248 395.93461 \r\nL 465.267364 397.811078 \r\nL 470.33548 399.629874 \r\nL 475.403596 401.39345 \r\nL 480.471711 403.104123 \r\nL 485.539827 404.76409 \r\nL 490.607943 406.37543 \r\nL 495.676058 407.940114 \r\nL 500.744174 409.460012 \r\nL 505.81229 410.936898 \r\nL 510.880405 412.372457 \r\nL 515.948521 413.76829 \r\nL 521.016637 415.12592 \r\nL 526.084753 416.446794 \r\nL 531.152868 417.732291 \r\nL 536.220984 418.983722 \r\nL 541.2891 420.20234 \r\nL 546.357215 421.389335 \r\nL 551.425331 422.545844 \r\nL 556.493447 423.672954 \r\nL 561.561563 424.771699 \r\n\" style=\"fill:none;stroke:#a60628;stroke-linecap:round;stroke-width:2.5;\"/>\r\n   </g>\r\n   <g id=\"line2d_27\">\r\n    <defs>\r\n     <path d=\"M 0 3 \r\nC 0.795609 3 1.55874 2.683901 2.12132 2.12132 \r\nC 2.683901 1.55874 3 0.795609 3 0 \r\nC 3 -0.795609 2.683901 -1.55874 2.12132 -2.12132 \r\nC 1.55874 -2.683901 0.795609 -3 0 -3 \r\nC -0.795609 -3 -1.55874 -2.683901 -2.12132 -2.12132 \r\nC -2.683901 -1.55874 -3 -0.795609 -3 0 \r\nC -3 0.795609 -2.683901 1.55874 -2.12132 2.12132 \r\nC -1.55874 2.683901 -0.795609 3 0 3 \r\nz\r\n\" id=\"m169da0435b\" style=\"stroke:#0000ff;\"/>\r\n    </defs>\r\n    <g clip-path=\"url(#pc2b4b90cdb)\">\r\n     <use style=\"fill:#0000ff;stroke:#0000ff;\" x=\"333.288835\" xlink:href=\"#m169da0435b\" y=\"318.534545\"/>\r\n    </g>\r\n   </g>\r\n   <g id=\"patch_3\">\r\n    <path d=\"M 59.361562 496.44 \r\nL 59.361562 7.2 \r\n\" style=\"fill:none;stroke:#bcbcbc;stroke-linecap:square;stroke-linejoin:miter;\"/>\r\n   </g>\r\n   <g id=\"patch_4\">\r\n    <path d=\"M 59.361562 496.44 \r\nL 561.561563 496.44 \r\n\" style=\"fill:none;stroke:#bcbcbc;stroke-linecap:square;stroke-linejoin:miter;\"/>\r\n   </g>\r\n  </g>\r\n </g>\r\n <defs>\r\n  <clipPath id=\"pc2b4b90cdb\">\r\n   <rect height=\"489.24\" width=\"502.2\" x=\"59.361562\" y=\"7.2\"/>\r\n  </clipPath>\r\n </defs>\r\n</svg>\r\n",
      "image/png": "[encoded data removed]"
     },
     "metadata": {}
    }
   ],
   "source": [
    "consume_plot(p=1, I=100, a = 0.6)"
   ]
  },
  {
   "cell_type": "markdown",
   "metadata": {},
   "source": [
    "In the next cell control plot parameters with sliders (will only display if running with live kernel)"
   ]
  },
  {
   "cell_type": "code",
   "execution_count": 3,
   "metadata": {
    "slideshow": {
     "slide_type": "fragment"
    }
   },
   "outputs": [
    {
     "output_type": "display_data",
     "data": {
      "text/plain": "interactive(children=(FloatSlider(value=1.2000000000000002, description='p', max=2.0, min=0.5), IntSlider(valu…",
      "application/vnd.jupyter.widget-view+json": {
       "version_major": 2,
       "version_minor": 0,
       "model_id": "05c40df94c0146d6a4adad9957255c56"
      }
     },
     "metadata": {}
    }
   ],
   "source": [
    "interact(consume_plot, p=(0.5,2,0.1), I=(50,150,10), a=(0.1,0.9,0.1));"
   ]
  },
  {
   "cell_type": "markdown",
   "metadata": {
    "slideshow": {
     "slide_type": "slide"
    }
   },
   "source": [
    "## The 'no-arbitrage' argument \n",
    "Move the slider to move the consumption point along the budget line. Keep adjusting until we reach the highest indifference curve at a tangency point."
   ]
  },
  {
   "cell_type": "code",
   "execution_count": 4,
   "metadata": {},
   "outputs": [],
   "source": [
    "alpha = 0.6\n",
    "p = 1\n",
    "I = 100"
   ]
  },
  {
   "cell_type": "code",
   "execution_count": 5,
   "metadata": {},
   "outputs": [
    {
     "output_type": "display_data",
     "data": {
      "text/plain": "<Figure size 648x648 with 1 Axes>",
      "image/svg+xml": "<?xml version=\"1.0\" encoding=\"utf-8\" standalone=\"no\"?>\r\n<!DOCTYPE svg PUBLIC \"-//W3C//DTD SVG 1.1//EN\"\r\n  \"http://www.w3.org/Graphics/SVG/1.1/DTD/svg11.dtd\">\r\n<!-- Created with matplotlib (https://matplotlib.org/) -->\r\n<svg height=\"606.510426pt\" version=\"1.1\" viewBox=\"0 0 568.761562 606.510426\" width=\"568.761562pt\" xmlns=\"http://www.w3.org/2000/svg\" xmlns:xlink=\"http://www.w3.org/1999/xlink\">\r\n <metadata>\r\n  <rdf:RDF xmlns:cc=\"http://creativecommons.org/ns#\" xmlns:dc=\"http://purl.org/dc/elements/1.1/\" xmlns:rdf=\"http://www.w3.org/1999/02/22-rdf-syntax-ns#\">\r\n   <cc:Work>\r\n    <dc:type rdf:resource=\"http://purl.org/dc/dcmitype/StillImage\"/>\r\n    <dc:date>2021-02-27T18:56:49.940511</dc:date>\r\n    <dc:format>image/svg+xml</dc:format>\r\n    <dc:creator>\r\n     <cc:Agent>\r\n      <dc:title>Matplotlib v3.3.2, https://matplotlib.org/</dc:title>\r\n     </cc:Agent>\r\n    </dc:creator>\r\n   </cc:Work>\r\n  </rdf:RDF>\r\n </metadata>\r\n <defs>\r\n  <style type=\"text/css\">*{stroke-linecap:butt;stroke-linejoin:round;}</style>\r\n </defs>\r\n <g id=\"figure_1\">\r\n  <g id=\"patch_1\">\r\n   <path d=\"M 0 606.510426 \r\nL 568.761562 606.510426 \r\nL 568.761562 0 \r\nL 0 0 \r\nz\r\n\" style=\"fill:#ffffff;\"/>\r\n  </g>\r\n  <g id=\"axes_1\">\r\n   <g id=\"patch_2\">\r\n    <path d=\"M 59.361562 560.716364 \r\nL 561.561563 560.716364 \r\nL 561.561563 71.476364 \r\nL 59.361562 71.476364 \r\nz\r\n\" style=\"fill:#eeeeee;\"/>\r\n   </g>\r\n   <g id=\"matplotlib.axis_1\">\r\n    <g id=\"xtick_1\">\r\n     <g id=\"line2d_1\">\r\n      <path clip-path=\"url(#p86942abe3d)\" d=\"M 59.361562 560.716364 \r\nL 59.361562 71.476364 \r\n\" style=\"fill:none;stroke:#b2b2b2;stroke-dasharray:1.85,0.8;stroke-dashoffset:0;stroke-width:0.5;\"/>\r\n     </g>\r\n     <g id=\"line2d_2\"/>\r\n     <g id=\"text_1\">\r\n      <!-- 0 -->\r\n      <g style=\"fill:#262626;\" transform=\"translate(54.356719 577.100426)scale(0.18 -0.18)\">\r\n       <defs>\r\n        <path d=\"M 4.15625 35.296875 \r\nQ 4.15625 48 6.765625 55.734375 \r\nQ 9.375 63.484375 14.515625 67.671875 \r\nQ 19.671875 71.875 27.484375 71.875 \r\nQ 33.25 71.875 37.59375 69.546875 \r\nQ 41.9375 67.234375 44.765625 62.859375 \r\nQ 47.609375 58.5 49.21875 52.21875 \r\nQ 50.828125 45.953125 50.828125 35.296875 \r\nQ 50.828125 22.703125 48.234375 14.96875 \r\nQ 45.65625 7.234375 40.5 3 \r\nQ 35.359375 -1.21875 27.484375 -1.21875 \r\nQ 17.140625 -1.21875 11.234375 6.203125 \r\nQ 4.15625 15.140625 4.15625 35.296875 \r\nz\r\nM 13.1875 35.296875 \r\nQ 13.1875 17.671875 17.3125 11.828125 \r\nQ 21.4375 6 27.484375 6 \r\nQ 33.546875 6 37.671875 11.859375 \r\nQ 41.796875 17.71875 41.796875 35.296875 \r\nQ 41.796875 52.984375 37.671875 58.78125 \r\nQ 33.546875 64.59375 27.390625 64.59375 \r\nQ 21.34375 64.59375 17.71875 59.46875 \r\nQ 13.1875 52.9375 13.1875 35.296875 \r\nz\r\n\" id=\"ArialMT-48\"/>\r\n       </defs>\r\n       <use xlink:href=\"#ArialMT-48\"/>\r\n      </g>\r\n     </g>\r\n    </g>\r\n    <g id=\"xtick_2\">\r\n     <g id=\"line2d_3\">\r\n      <path clip-path=\"url(#p86942abe3d)\" d=\"M 150.670653 560.716364 \r\nL 150.670653 71.476364 \r\n\" style=\"fill:none;stroke:#b2b2b2;stroke-dasharray:1.85,0.8;stroke-dashoffset:0;stroke-width:0.5;\"/>\r\n     </g>\r\n     <g id=\"line2d_4\"/>\r\n     <g id=\"text_2\">\r\n      <!-- 20 -->\r\n      <g style=\"fill:#262626;\" transform=\"translate(140.660966 577.100426)scale(0.18 -0.18)\">\r\n       <defs>\r\n        <path d=\"M 50.34375 8.453125 \r\nL 50.34375 0 \r\nL 3.03125 0 \r\nQ 2.9375 3.171875 4.046875 6.109375 \r\nQ 5.859375 10.9375 9.828125 15.625 \r\nQ 13.8125 20.3125 21.34375 26.46875 \r\nQ 33.015625 36.03125 37.109375 41.625 \r\nQ 41.21875 47.21875 41.21875 52.203125 \r\nQ 41.21875 57.421875 37.46875 61 \r\nQ 33.734375 64.59375 27.734375 64.59375 \r\nQ 21.390625 64.59375 17.578125 60.78125 \r\nQ 13.765625 56.984375 13.71875 50.25 \r\nL 4.6875 51.171875 \r\nQ 5.609375 61.28125 11.65625 66.578125 \r\nQ 17.71875 71.875 27.9375 71.875 \r\nQ 38.234375 71.875 44.234375 66.15625 \r\nQ 50.25 60.453125 50.25 52 \r\nQ 50.25 47.703125 48.484375 43.546875 \r\nQ 46.734375 39.40625 42.65625 34.8125 \r\nQ 38.578125 30.21875 29.109375 22.21875 \r\nQ 21.1875 15.578125 18.9375 13.203125 \r\nQ 16.703125 10.84375 15.234375 8.453125 \r\nz\r\n\" id=\"ArialMT-50\"/>\r\n       </defs>\r\n       <use xlink:href=\"#ArialMT-50\"/>\r\n       <use x=\"55.615234\" xlink:href=\"#ArialMT-48\"/>\r\n      </g>\r\n     </g>\r\n    </g>\r\n    <g id=\"xtick_3\">\r\n     <g id=\"line2d_5\">\r\n      <path clip-path=\"url(#p86942abe3d)\" d=\"M 241.979744 560.716364 \r\nL 241.979744 71.476364 \r\n\" style=\"fill:none;stroke:#b2b2b2;stroke-dasharray:1.85,0.8;stroke-dashoffset:0;stroke-width:0.5;\"/>\r\n     </g>\r\n     <g id=\"line2d_6\"/>\r\n     <g id=\"text_3\">\r\n      <!-- 40 -->\r\n      <g style=\"fill:#262626;\" transform=\"translate(231.970057 577.100426)scale(0.18 -0.18)\">\r\n       <defs>\r\n        <path d=\"M 32.328125 0 \r\nL 32.328125 17.140625 \r\nL 1.265625 17.140625 \r\nL 1.265625 25.203125 \r\nL 33.9375 71.578125 \r\nL 41.109375 71.578125 \r\nL 41.109375 25.203125 \r\nL 50.78125 25.203125 \r\nL 50.78125 17.140625 \r\nL 41.109375 17.140625 \r\nL 41.109375 0 \r\nz\r\nM 32.328125 25.203125 \r\nL 32.328125 57.46875 \r\nL 9.90625 25.203125 \r\nz\r\n\" id=\"ArialMT-52\"/>\r\n       </defs>\r\n       <use xlink:href=\"#ArialMT-52\"/>\r\n       <use x=\"55.615234\" xlink:href=\"#ArialMT-48\"/>\r\n      </g>\r\n     </g>\r\n    </g>\r\n    <g id=\"xtick_4\">\r\n     <g id=\"line2d_7\">\r\n      <path clip-path=\"url(#p86942abe3d)\" d=\"M 333.288835 560.716364 \r\nL 333.288835 71.476364 \r\n\" style=\"fill:none;stroke:#b2b2b2;stroke-dasharray:1.85,0.8;stroke-dashoffset:0;stroke-width:0.5;\"/>\r\n     </g>\r\n     <g id=\"line2d_8\"/>\r\n     <g id=\"text_4\">\r\n      <!-- 60 -->\r\n      <g style=\"fill:#262626;\" transform=\"translate(323.279148 577.100426)scale(0.18 -0.18)\">\r\n       <defs>\r\n        <path d=\"M 49.75 54.046875 \r\nL 41.015625 53.375 \r\nQ 39.84375 58.546875 37.703125 60.890625 \r\nQ 34.125 64.65625 28.90625 64.65625 \r\nQ 24.703125 64.65625 21.53125 62.3125 \r\nQ 17.390625 59.28125 14.984375 53.46875 \r\nQ 12.59375 47.65625 12.5 36.921875 \r\nQ 15.671875 41.75 20.265625 44.09375 \r\nQ 24.859375 46.4375 29.890625 46.4375 \r\nQ 38.671875 46.4375 44.84375 39.96875 \r\nQ 51.03125 33.5 51.03125 23.25 \r\nQ 51.03125 16.5 48.125 10.71875 \r\nQ 45.21875 4.9375 40.140625 1.859375 \r\nQ 35.0625 -1.21875 28.609375 -1.21875 \r\nQ 17.625 -1.21875 10.6875 6.859375 \r\nQ 3.765625 14.9375 3.765625 33.5 \r\nQ 3.765625 54.25 11.421875 63.671875 \r\nQ 18.109375 71.875 29.4375 71.875 \r\nQ 37.890625 71.875 43.28125 67.140625 \r\nQ 48.6875 62.40625 49.75 54.046875 \r\nz\r\nM 13.875 23.1875 \r\nQ 13.875 18.65625 15.796875 14.5 \r\nQ 17.71875 10.359375 21.1875 8.171875 \r\nQ 24.65625 6 28.46875 6 \r\nQ 34.03125 6 38.03125 10.484375 \r\nQ 42.046875 14.984375 42.046875 22.703125 \r\nQ 42.046875 30.125 38.078125 34.390625 \r\nQ 34.125 38.671875 28.125 38.671875 \r\nQ 22.171875 38.671875 18.015625 34.390625 \r\nQ 13.875 30.125 13.875 23.1875 \r\nz\r\n\" id=\"ArialMT-54\"/>\r\n       </defs>\r\n       <use xlink:href=\"#ArialMT-54\"/>\r\n       <use x=\"55.615234\" xlink:href=\"#ArialMT-48\"/>\r\n      </g>\r\n     </g>\r\n    </g>\r\n    <g id=\"xtick_5\">\r\n     <g id=\"line2d_9\">\r\n      <path clip-path=\"url(#p86942abe3d)\" d=\"M 424.597926 560.716364 \r\nL 424.597926 71.476364 \r\n\" style=\"fill:none;stroke:#b2b2b2;stroke-dasharray:1.85,0.8;stroke-dashoffset:0;stroke-width:0.5;\"/>\r\n     </g>\r\n     <g id=\"line2d_10\"/>\r\n     <g id=\"text_5\">\r\n      <!-- 80 -->\r\n      <g style=\"fill:#262626;\" transform=\"translate(414.588239 577.100426)scale(0.18 -0.18)\">\r\n       <defs>\r\n        <path d=\"M 17.671875 38.8125 \r\nQ 12.203125 40.828125 9.5625 44.53125 \r\nQ 6.9375 48.25 6.9375 53.421875 \r\nQ 6.9375 61.234375 12.546875 66.546875 \r\nQ 18.171875 71.875 27.484375 71.875 \r\nQ 36.859375 71.875 42.578125 66.421875 \r\nQ 48.296875 60.984375 48.296875 53.171875 \r\nQ 48.296875 48.1875 45.671875 44.5 \r\nQ 43.0625 40.828125 37.75 38.8125 \r\nQ 44.34375 36.671875 47.78125 31.875 \r\nQ 51.21875 27.09375 51.21875 20.453125 \r\nQ 51.21875 11.28125 44.71875 5.03125 \r\nQ 38.234375 -1.21875 27.640625 -1.21875 \r\nQ 17.046875 -1.21875 10.546875 5.046875 \r\nQ 4.046875 11.328125 4.046875 20.703125 \r\nQ 4.046875 27.6875 7.59375 32.390625 \r\nQ 11.140625 37.109375 17.671875 38.8125 \r\nz\r\nM 15.921875 53.71875 \r\nQ 15.921875 48.640625 19.1875 45.40625 \r\nQ 22.46875 42.1875 27.6875 42.1875 \r\nQ 32.765625 42.1875 36.015625 45.375 \r\nQ 39.265625 48.578125 39.265625 53.21875 \r\nQ 39.265625 58.0625 35.90625 61.359375 \r\nQ 32.5625 64.65625 27.59375 64.65625 \r\nQ 22.5625 64.65625 19.234375 61.421875 \r\nQ 15.921875 58.203125 15.921875 53.71875 \r\nz\r\nM 13.09375 20.65625 \r\nQ 13.09375 16.890625 14.875 13.375 \r\nQ 16.65625 9.859375 20.171875 7.921875 \r\nQ 23.6875 6 27.734375 6 \r\nQ 34.03125 6 38.125 10.046875 \r\nQ 42.234375 14.109375 42.234375 20.359375 \r\nQ 42.234375 26.703125 38.015625 30.859375 \r\nQ 33.796875 35.015625 27.4375 35.015625 \r\nQ 21.234375 35.015625 17.15625 30.90625 \r\nQ 13.09375 26.8125 13.09375 20.65625 \r\nz\r\n\" id=\"ArialMT-56\"/>\r\n       </defs>\r\n       <use xlink:href=\"#ArialMT-56\"/>\r\n       <use x=\"55.615234\" xlink:href=\"#ArialMT-48\"/>\r\n      </g>\r\n     </g>\r\n    </g>\r\n    <g id=\"xtick_6\">\r\n     <g id=\"line2d_11\">\r\n      <path clip-path=\"url(#p86942abe3d)\" d=\"M 515.907017 560.716364 \r\nL 515.907017 71.476364 \r\n\" style=\"fill:none;stroke:#b2b2b2;stroke-dasharray:1.85,0.8;stroke-dashoffset:0;stroke-width:0.5;\"/>\r\n     </g>\r\n     <g id=\"line2d_12\"/>\r\n     <g id=\"text_6\">\r\n      <!-- 100 -->\r\n      <g style=\"fill:#262626;\" transform=\"translate(500.892486 577.100426)scale(0.18 -0.18)\">\r\n       <defs>\r\n        <path d=\"M 37.25 0 \r\nL 28.46875 0 \r\nL 28.46875 56 \r\nQ 25.296875 52.984375 20.140625 49.953125 \r\nQ 14.984375 46.921875 10.890625 45.40625 \r\nL 10.890625 53.90625 \r\nQ 18.265625 57.375 23.78125 62.296875 \r\nQ 29.296875 67.234375 31.59375 71.875 \r\nL 37.25 71.875 \r\nz\r\n\" id=\"ArialMT-49\"/>\r\n       </defs>\r\n       <use xlink:href=\"#ArialMT-49\"/>\r\n       <use x=\"55.615234\" xlink:href=\"#ArialMT-48\"/>\r\n       <use x=\"111.230469\" xlink:href=\"#ArialMT-48\"/>\r\n      </g>\r\n     </g>\r\n    </g>\r\n    <g id=\"text_7\">\r\n     <!-- $c_0$ -->\r\n     <g style=\"fill:#262626;\" transform=\"translate(303.661563 596.130426)scale(0.16 -0.16)\">\r\n      <defs>\r\n       <path d=\"M 11.71875 11.921875 \r\nQ 11.71875 7.5625 13.9375 4.53125 \r\nQ 16.15625 1.515625 20.3125 1.515625 \r\nQ 26.265625 1.515625 31.75 4.25 \r\nQ 37.25 6.984375 40.71875 11.8125 \r\nQ 41.015625 12.109375 41.5 12.109375 \r\nQ 42 12.109375 42.5 11.546875 \r\nQ 43.015625 10.984375 43.015625 10.5 \r\nQ 43.015625 10.109375 42.828125 9.90625 \r\nQ 39.15625 4.78125 32.953125 1.828125 \r\nQ 26.765625 -1.125 20.125 -1.125 \r\nQ 15.328125 -1.125 11.671875 1.140625 \r\nQ 8.015625 3.421875 6 7.21875 \r\nQ 4 11.03125 4 15.828125 \r\nQ 4 22.5625 7.765625 29.203125 \r\nQ 11.53125 35.84375 17.78125 40.015625 \r\nQ 24.03125 44.1875 30.90625 44.1875 \r\nQ 35.40625 44.1875 38.984375 42.015625 \r\nQ 42.578125 39.84375 42.578125 35.59375 \r\nQ 42.578125 32.859375 40.984375 30.921875 \r\nQ 39.40625 29 36.71875 29 \r\nQ 35.109375 29 34 30 \r\nQ 32.90625 31 32.90625 32.625 \r\nQ 32.90625 34.96875 34.609375 36.625 \r\nQ 36.328125 38.28125 38.625 38.28125 \r\nL 38.8125 38.28125 \r\nQ 37.640625 39.984375 35.421875 40.796875 \r\nQ 33.203125 41.609375 30.8125 41.609375 \r\nQ 24.953125 41.609375 20.546875 36.59375 \r\nQ 16.15625 31.59375 13.9375 24.625 \r\nQ 11.71875 17.671875 11.71875 11.921875 \r\nz\r\n\" id=\"Cmmi10-99\"/>\r\n       <path d=\"M 25 -2.203125 \r\nQ 12.75 -2.203125 8.328125 7.875 \r\nQ 3.90625 17.96875 3.90625 31.890625 \r\nQ 3.90625 40.578125 5.484375 48.234375 \r\nQ 7.078125 55.90625 11.78125 61.25 \r\nQ 16.5 66.609375 25 66.609375 \r\nQ 31.59375 66.609375 35.78125 63.375 \r\nQ 39.984375 60.15625 42.1875 55.046875 \r\nQ 44.390625 49.953125 45.1875 44.109375 \r\nQ 46 38.28125 46 31.890625 \r\nQ 46 23.296875 44.40625 15.796875 \r\nQ 42.828125 8.296875 38.1875 3.046875 \r\nQ 33.546875 -2.203125 25 -2.203125 \r\nz\r\nM 25 0.390625 \r\nQ 30.5625 0.390625 33.296875 6.09375 \r\nQ 36.03125 11.8125 36.671875 18.75 \r\nQ 37.3125 25.6875 37.3125 33.5 \r\nQ 37.3125 41.015625 36.671875 47.359375 \r\nQ 36.03125 53.71875 33.3125 58.859375 \r\nQ 30.609375 64.015625 25 64.015625 \r\nQ 19.34375 64.015625 16.609375 58.828125 \r\nQ 13.875 53.65625 13.234375 47.328125 \r\nQ 12.59375 41.015625 12.59375 33.5 \r\nQ 12.59375 27.9375 12.859375 23 \r\nQ 13.140625 18.0625 14.3125 12.8125 \r\nQ 15.484375 7.5625 18.09375 3.96875 \r\nQ 20.703125 0.390625 25 0.390625 \r\nz\r\n\" id=\"Cmr10-48\"/>\r\n      </defs>\r\n      <use transform=\"translate(0 0.8125)\" xlink:href=\"#Cmmi10-99\"/>\r\n      <use transform=\"translate(43.212891 -16.19375)scale(0.7)\" xlink:href=\"#Cmr10-48\"/>\r\n     </g>\r\n    </g>\r\n   </g>\r\n   <g id=\"matplotlib.axis_2\">\r\n    <g id=\"ytick_1\">\r\n     <g id=\"line2d_13\">\r\n      <path clip-path=\"url(#p86942abe3d)\" d=\"M 59.361562 560.716364 \r\nL 561.561563 560.716364 \r\n\" style=\"fill:none;stroke:#b2b2b2;stroke-dasharray:1.85,0.8;stroke-dashoffset:0;stroke-width:0.5;\"/>\r\n     </g>\r\n     <g id=\"line2d_14\"/>\r\n     <g id=\"text_8\">\r\n      <!-- 0 -->\r\n      <g style=\"fill:#262626;\" transform=\"translate(45.851875 567.158395)scale(0.18 -0.18)\">\r\n       <use xlink:href=\"#ArialMT-48\"/>\r\n      </g>\r\n     </g>\r\n    </g>\r\n    <g id=\"ytick_2\">\r\n     <g id=\"line2d_15\">\r\n      <path clip-path=\"url(#p86942abe3d)\" d=\"M 59.361562 471.763636 \r\nL 561.561563 471.763636 \r\n\" style=\"fill:none;stroke:#b2b2b2;stroke-dasharray:1.85,0.8;stroke-dashoffset:0;stroke-width:0.5;\"/>\r\n     </g>\r\n     <g id=\"line2d_16\"/>\r\n     <g id=\"text_9\">\r\n      <!-- 20 -->\r\n      <g style=\"fill:#262626;\" transform=\"translate(35.842187 478.205668)scale(0.18 -0.18)\">\r\n       <use xlink:href=\"#ArialMT-50\"/>\r\n       <use x=\"55.615234\" xlink:href=\"#ArialMT-48\"/>\r\n      </g>\r\n     </g>\r\n    </g>\r\n    <g id=\"ytick_3\">\r\n     <g id=\"line2d_17\">\r\n      <path clip-path=\"url(#p86942abe3d)\" d=\"M 59.361562 382.810909 \r\nL 561.561563 382.810909 \r\n\" style=\"fill:none;stroke:#b2b2b2;stroke-dasharray:1.85,0.8;stroke-dashoffset:0;stroke-width:0.5;\"/>\r\n     </g>\r\n     <g id=\"line2d_18\"/>\r\n     <g id=\"text_10\">\r\n      <!-- 40 -->\r\n      <g style=\"fill:#262626;\" transform=\"translate(35.842187 389.25294)scale(0.18 -0.18)\">\r\n       <use xlink:href=\"#ArialMT-52\"/>\r\n       <use x=\"55.615234\" xlink:href=\"#ArialMT-48\"/>\r\n      </g>\r\n     </g>\r\n    </g>\r\n    <g id=\"ytick_4\">\r\n     <g id=\"line2d_19\">\r\n      <path clip-path=\"url(#p86942abe3d)\" d=\"M 59.361562 293.858182 \r\nL 561.561563 293.858182 \r\n\" style=\"fill:none;stroke:#b2b2b2;stroke-dasharray:1.85,0.8;stroke-dashoffset:0;stroke-width:0.5;\"/>\r\n     </g>\r\n     <g id=\"line2d_20\"/>\r\n     <g id=\"text_11\">\r\n      <!-- 60 -->\r\n      <g style=\"fill:#262626;\" transform=\"translate(35.842187 300.300213)scale(0.18 -0.18)\">\r\n       <use xlink:href=\"#ArialMT-54\"/>\r\n       <use x=\"55.615234\" xlink:href=\"#ArialMT-48\"/>\r\n      </g>\r\n     </g>\r\n    </g>\r\n    <g id=\"ytick_5\">\r\n     <g id=\"line2d_21\">\r\n      <path clip-path=\"url(#p86942abe3d)\" d=\"M 59.361562 204.905455 \r\nL 561.561563 204.905455 \r\n\" style=\"fill:none;stroke:#b2b2b2;stroke-dasharray:1.85,0.8;stroke-dashoffset:0;stroke-width:0.5;\"/>\r\n     </g>\r\n     <g id=\"line2d_22\"/>\r\n     <g id=\"text_12\">\r\n      <!-- 80 -->\r\n      <g style=\"fill:#262626;\" transform=\"translate(35.842187 211.347486)scale(0.18 -0.18)\">\r\n       <use xlink:href=\"#ArialMT-56\"/>\r\n       <use x=\"55.615234\" xlink:href=\"#ArialMT-48\"/>\r\n      </g>\r\n     </g>\r\n    </g>\r\n    <g id=\"ytick_6\">\r\n     <g id=\"line2d_23\">\r\n      <path clip-path=\"url(#p86942abe3d)\" d=\"M 59.361562 115.952727 \r\nL 561.561563 115.952727 \r\n\" style=\"fill:none;stroke:#b2b2b2;stroke-dasharray:1.85,0.8;stroke-dashoffset:0;stroke-width:0.5;\"/>\r\n     </g>\r\n     <g id=\"line2d_24\"/>\r\n     <g id=\"text_13\">\r\n      <!-- 100 -->\r\n      <g style=\"fill:#262626;\" transform=\"translate(25.8325 122.394759)scale(0.18 -0.18)\">\r\n       <use xlink:href=\"#ArialMT-49\"/>\r\n       <use x=\"55.615234\" xlink:href=\"#ArialMT-48\"/>\r\n       <use x=\"111.230469\" xlink:href=\"#ArialMT-48\"/>\r\n      </g>\r\n     </g>\r\n    </g>\r\n    <g id=\"text_14\">\r\n     <!-- $c_1$ -->\r\n     <g style=\"fill:#262626;\" transform=\"translate(18.6525 322.896364)rotate(-90)scale(0.16 -0.16)\">\r\n      <defs>\r\n       <path d=\"M 9.28125 0 \r\nL 9.28125 3.515625 \r\nQ 21.78125 3.515625 21.78125 6.6875 \r\nL 21.78125 59.1875 \r\nQ 16.609375 56.6875 8.6875 56.6875 \r\nL 8.6875 60.203125 \r\nQ 20.953125 60.203125 27.203125 66.609375 \r\nL 28.609375 66.609375 \r\nQ 28.953125 66.609375 29.265625 66.328125 \r\nQ 29.59375 66.0625 29.59375 65.71875 \r\nL 29.59375 6.6875 \r\nQ 29.59375 3.515625 42.09375 3.515625 \r\nL 42.09375 0 \r\nz\r\n\" id=\"Cmr10-49\"/>\r\n      </defs>\r\n      <use transform=\"translate(0 0.8125)\" xlink:href=\"#Cmmi10-99\"/>\r\n      <use transform=\"translate(43.212891 -16.19375)scale(0.7)\" xlink:href=\"#Cmr10-49\"/>\r\n     </g>\r\n    </g>\r\n   </g>\r\n   <g id=\"PolyCollection_1\">\r\n    <path clip-path=\"url(#p86942abe3d)\" d=\"M 59.818108 560.716364 \r\nL 59.818108 116.397491 \r\nL 64.886224 121.334817 \r\nL 69.954339 126.272142 \r\nL 75.022455 131.209468 \r\nL 80.090571 136.146793 \r\nL 85.158686 141.084119 \r\nL 90.226802 146.021445 \r\nL 95.294918 150.95877 \r\nL 100.363034 155.896096 \r\nL 105.431149 160.833421 \r\nL 110.499265 165.770747 \r\nL 115.567381 170.708073 \r\nL 120.635496 175.645398 \r\nL 125.703612 180.582724 \r\nL 130.771728 185.52005 \r\nL 135.839843 190.457375 \r\nL 140.907959 195.394701 \r\nL 145.976075 200.332026 \r\nL 151.044191 205.269352 \r\nL 156.112306 210.206678 \r\nL 161.180422 215.144003 \r\nL 166.248538 220.081329 \r\nL 171.316653 225.018655 \r\nL 176.384769 229.95598 \r\nL 181.452885 234.893306 \r\nL 186.521001 239.830631 \r\nL 191.589116 244.767957 \r\nL 196.657232 249.705283 \r\nL 201.725348 254.642608 \r\nL 206.793463 259.579934 \r\nL 211.861579 264.51726 \r\nL 216.929695 269.454585 \r\nL 221.99781 274.391911 \r\nL 227.065926 279.329236 \r\nL 232.134042 284.266562 \r\nL 237.202158 289.203888 \r\nL 242.270273 294.141213 \r\nL 247.338389 299.078539 \r\nL 252.406505 304.015864 \r\nL 257.47462 308.95319 \r\nL 262.542736 313.890516 \r\nL 267.610852 318.827841 \r\nL 272.678967 323.765167 \r\nL 277.747083 328.702493 \r\nL 282.815199 333.639818 \r\nL 287.883315 338.577144 \r\nL 292.95143 343.514469 \r\nL 298.019546 348.451795 \r\nL 303.087662 353.389121 \r\nL 308.155777 358.326446 \r\nL 313.223893 363.263772 \r\nL 318.292009 368.201098 \r\nL 323.360124 373.138423 \r\nL 328.42824 378.075749 \r\nL 333.496356 383.013074 \r\nL 338.564472 387.9504 \r\nL 343.632587 392.887726 \r\nL 348.700703 397.825051 \r\nL 353.768819 402.762377 \r\nL 358.836934 407.699702 \r\nL 363.90505 412.637028 \r\nL 368.973166 417.574354 \r\nL 374.041282 422.511679 \r\nL 379.109397 427.449005 \r\nL 384.177513 432.386331 \r\nL 389.245629 437.323656 \r\nL 394.313744 442.260982 \r\nL 399.38186 447.198307 \r\nL 404.449976 452.135633 \r\nL 409.518091 457.072959 \r\nL 414.586207 462.010284 \r\nL 419.654323 466.94761 \r\nL 424.722439 471.884936 \r\nL 429.790554 476.822261 \r\nL 434.85867 481.759587 \r\nL 439.926786 486.696912 \r\nL 444.994901 491.634238 \r\nL 450.063017 496.571564 \r\nL 455.131133 501.508889 \r\nL 460.199248 506.446215 \r\nL 465.267364 511.38354 \r\nL 470.33548 516.320866 \r\nL 475.403596 521.258192 \r\nL 480.471711 526.195517 \r\nL 485.539827 531.132843 \r\nL 490.607943 536.070169 \r\nL 495.676058 541.007494 \r\nL 500.744174 545.94482 \r\nL 505.81229 550.882145 \r\nL 510.880405 555.819471 \r\nL 515.948521 560.756797 \r\nL 521.016637 565.694122 \r\nL 526.084753 570.631448 \r\nL 531.152868 575.568774 \r\nL 536.220984 580.506099 \r\nL 541.2891 585.443425 \r\nL 546.357215 590.38075 \r\nL 551.425331 595.318076 \r\nL 556.493447 600.255402 \r\nL 561.561563 605.192727 \r\nL 561.561563 560.716364 \r\nL 561.561563 560.716364 \r\nL 556.493447 560.716364 \r\nL 551.425331 560.716364 \r\nL 546.357215 560.716364 \r\nL 541.2891 560.716364 \r\nL 536.220984 560.716364 \r\nL 531.152868 560.716364 \r\nL 526.084753 560.716364 \r\nL 521.016637 560.716364 \r\nL 515.948521 560.716364 \r\nL 510.880405 560.716364 \r\nL 505.81229 560.716364 \r\nL 500.744174 560.716364 \r\nL 495.676058 560.716364 \r\nL 490.607943 560.716364 \r\nL 485.539827 560.716364 \r\nL 480.471711 560.716364 \r\nL 475.403596 560.716364 \r\nL 470.33548 560.716364 \r\nL 465.267364 560.716364 \r\nL 460.199248 560.716364 \r\nL 455.131133 560.716364 \r\nL 450.063017 560.716364 \r\nL 444.994901 560.716364 \r\nL 439.926786 560.716364 \r\nL 434.85867 560.716364 \r\nL 429.790554 560.716364 \r\nL 424.722439 560.716364 \r\nL 419.654323 560.716364 \r\nL 414.586207 560.716364 \r\nL 409.518091 560.716364 \r\nL 404.449976 560.716364 \r\nL 399.38186 560.716364 \r\nL 394.313744 560.716364 \r\nL 389.245629 560.716364 \r\nL 384.177513 560.716364 \r\nL 379.109397 560.716364 \r\nL 374.041282 560.716364 \r\nL 368.973166 560.716364 \r\nL 363.90505 560.716364 \r\nL 358.836934 560.716364 \r\nL 353.768819 560.716364 \r\nL 348.700703 560.716364 \r\nL 343.632587 560.716364 \r\nL 338.564472 560.716364 \r\nL 333.496356 560.716364 \r\nL 328.42824 560.716364 \r\nL 323.360124 560.716364 \r\nL 318.292009 560.716364 \r\nL 313.223893 560.716364 \r\nL 308.155777 560.716364 \r\nL 303.087662 560.716364 \r\nL 298.019546 560.716364 \r\nL 292.95143 560.716364 \r\nL 287.883315 560.716364 \r\nL 282.815199 560.716364 \r\nL 277.747083 560.716364 \r\nL 272.678967 560.716364 \r\nL 267.610852 560.716364 \r\nL 262.542736 560.716364 \r\nL 257.47462 560.716364 \r\nL 252.406505 560.716364 \r\nL 247.338389 560.716364 \r\nL 242.270273 560.716364 \r\nL 237.202158 560.716364 \r\nL 232.134042 560.716364 \r\nL 227.065926 560.716364 \r\nL 221.99781 560.716364 \r\nL 216.929695 560.716364 \r\nL 211.861579 560.716364 \r\nL 206.793463 560.716364 \r\nL 201.725348 560.716364 \r\nL 196.657232 560.716364 \r\nL 191.589116 560.716364 \r\nL 186.521001 560.716364 \r\nL 181.452885 560.716364 \r\nL 176.384769 560.716364 \r\nL 171.316653 560.716364 \r\nL 166.248538 560.716364 \r\nL 161.180422 560.716364 \r\nL 156.112306 560.716364 \r\nL 151.044191 560.716364 \r\nL 145.976075 560.716364 \r\nL 140.907959 560.716364 \r\nL 135.839843 560.716364 \r\nL 130.771728 560.716364 \r\nL 125.703612 560.716364 \r\nL 120.635496 560.716364 \r\nL 115.567381 560.716364 \r\nL 110.499265 560.716364 \r\nL 105.431149 560.716364 \r\nL 100.363034 560.716364 \r\nL 95.294918 560.716364 \r\nL 90.226802 560.716364 \r\nL 85.158686 560.716364 \r\nL 80.090571 560.716364 \r\nL 75.022455 560.716364 \r\nL 69.954339 560.716364 \r\nL 64.886224 560.716364 \r\nL 59.818108 560.716364 \r\nz\r\n\" style=\"fill:#348abd;fill-opacity:0.2;\"/>\r\n   </g>\r\n   <g id=\"LineCollection_1\">\r\n    <path clip-path=\"url(#p86942abe3d)\" d=\"M 241.979744 560.716364 \r\nL 241.979744 293.858182 \r\n\" style=\"fill:none;stroke:#348abd;stroke-dasharray:7.4,3.2;stroke-dashoffset:0;stroke-width:2;\"/>\r\n   </g>\r\n   <g id=\"LineCollection_2\">\r\n    <path clip-path=\"url(#p86942abe3d)\" d=\"M 59.361562 293.858182 \r\nL 241.979744 293.858182 \r\n\" style=\"fill:none;stroke:#348abd;stroke-dasharray:7.4,3.2;stroke-dashoffset:0;stroke-width:2;\"/>\r\n   </g>\r\n   <g id=\"line2d_25\">\r\n    <path clip-path=\"url(#p86942abe3d)\" d=\"M 59.818108 116.397491 \r\nL 64.886224 121.334817 \r\nL 69.954339 126.272142 \r\nL 75.022455 131.209468 \r\nL 80.090571 136.146793 \r\nL 85.158686 141.084119 \r\nL 90.226802 146.021445 \r\nL 95.294918 150.95877 \r\nL 100.363034 155.896096 \r\nL 105.431149 160.833421 \r\nL 110.499265 165.770747 \r\nL 115.567381 170.708073 \r\nL 120.635496 175.645398 \r\nL 125.703612 180.582724 \r\nL 130.771728 185.52005 \r\nL 135.839843 190.457375 \r\nL 140.907959 195.394701 \r\nL 145.976075 200.332026 \r\nL 151.044191 205.269352 \r\nL 156.112306 210.206678 \r\nL 161.180422 215.144003 \r\nL 166.248538 220.081329 \r\nL 171.316653 225.018655 \r\nL 176.384769 229.95598 \r\nL 181.452885 234.893306 \r\nL 186.521001 239.830631 \r\nL 191.589116 244.767957 \r\nL 196.657232 249.705283 \r\nL 201.725348 254.642608 \r\nL 206.793463 259.579934 \r\nL 211.861579 264.51726 \r\nL 216.929695 269.454585 \r\nL 221.99781 274.391911 \r\nL 227.065926 279.329236 \r\nL 232.134042 284.266562 \r\nL 237.202158 289.203888 \r\nL 242.270273 294.141213 \r\nL 247.338389 299.078539 \r\nL 252.406505 304.015864 \r\nL 257.47462 308.95319 \r\nL 262.542736 313.890516 \r\nL 267.610852 318.827841 \r\nL 272.678967 323.765167 \r\nL 277.747083 328.702493 \r\nL 282.815199 333.639818 \r\nL 287.883315 338.577144 \r\nL 292.95143 343.514469 \r\nL 298.019546 348.451795 \r\nL 303.087662 353.389121 \r\nL 308.155777 358.326446 \r\nL 313.223893 363.263772 \r\nL 318.292009 368.201098 \r\nL 323.360124 373.138423 \r\nL 328.42824 378.075749 \r\nL 333.496356 383.013074 \r\nL 338.564472 387.9504 \r\nL 343.632587 392.887726 \r\nL 348.700703 397.825051 \r\nL 353.768819 402.762377 \r\nL 358.836934 407.699702 \r\nL 363.90505 412.637028 \r\nL 368.973166 417.574354 \r\nL 374.041282 422.511679 \r\nL 379.109397 427.449005 \r\nL 384.177513 432.386331 \r\nL 389.245629 437.323656 \r\nL 394.313744 442.260982 \r\nL 399.38186 447.198307 \r\nL 404.449976 452.135633 \r\nL 409.518091 457.072959 \r\nL 414.586207 462.010284 \r\nL 419.654323 466.94761 \r\nL 424.722439 471.884936 \r\nL 429.790554 476.822261 \r\nL 434.85867 481.759587 \r\nL 439.926786 486.696912 \r\nL 444.994901 491.634238 \r\nL 450.063017 496.571564 \r\nL 455.131133 501.508889 \r\nL 460.199248 506.446215 \r\nL 465.267364 511.38354 \r\nL 470.33548 516.320866 \r\nL 475.403596 521.258192 \r\nL 480.471711 526.195517 \r\nL 485.539827 531.132843 \r\nL 490.607943 536.070169 \r\nL 495.676058 541.007494 \r\nL 500.744174 545.94482 \r\nL 505.81229 550.882145 \r\nL 510.880405 555.819471 \r\nL 515.948521 560.756797 \r\nL 521.016637 565.694122 \r\nL 526.084753 570.631448 \r\nL 531.152868 575.568774 \r\nL 536.220984 580.506099 \r\nL 541.2891 585.443425 \r\nL 546.357215 590.38075 \r\nL 551.425331 595.318076 \r\nL 556.493447 600.255402 \r\nL 561.561563 605.192727 \r\n\" style=\"fill:none;stroke:#348abd;stroke-linecap:round;\"/>\r\n   </g>\r\n   <g id=\"line2d_26\">\r\n    <path clip-path=\"url(#p86942abe3d)\" d=\"M 146.127271 -1 \r\nL 151.044191 29.174489 \r\nL 156.112306 57.018366 \r\nL 161.180422 82.090339 \r\nL 166.248538 104.784704 \r\nL 171.316653 125.424359 \r\nL 176.384769 144.276263 \r\nL 181.452885 161.563049 \r\nL 186.521001 177.471858 \r\nL 191.589116 192.161137 \r\nL 196.657232 205.76594 \r\nL 201.725348 218.402088 \r\nL 206.793463 230.169476 \r\nL 211.861579 241.15472 \r\nL 216.929695 251.433292 \r\nL 221.99781 261.071256 \r\nL 227.065926 270.126692 \r\nL 232.134042 278.650863 \r\nL 237.202158 286.689188 \r\nL 242.270273 294.282055 \r\nL 247.338389 301.465493 \r\nL 252.406505 308.271749 \r\nL 257.47462 314.729771 \r\nL 262.542736 320.865618 \r\nL 267.610852 326.702811 \r\nL 272.678967 332.262638 \r\nL 277.747083 337.564408 \r\nL 282.815199 342.625682 \r\nL 287.883315 347.462459 \r\nL 292.95143 352.089352 \r\nL 298.019546 356.519734 \r\nL 303.087662 360.765861 \r\nL 308.155777 364.838996 \r\nL 313.223893 368.749498 \r\nL 318.292009 372.506917 \r\nL 323.360124 376.12007 \r\nL 328.42824 379.59711 \r\nL 333.496356 382.945584 \r\nL 338.564472 386.172495 \r\nL 343.632587 389.284344 \r\nL 348.700703 392.287177 \r\nL 353.768819 395.186626 \r\nL 358.836934 397.987937 \r\nL 363.90505 400.696012 \r\nL 368.973166 403.315428 \r\nL 374.041282 405.85047 \r\nL 379.109397 408.305149 \r\nL 384.177513 410.683227 \r\nL 389.245629 412.988234 \r\nL 394.313744 415.223488 \r\nL 399.38186 417.392108 \r\nL 404.449976 419.497029 \r\nL 409.518091 421.541018 \r\nL 414.586207 423.526682 \r\nL 419.654323 425.456482 \r\nL 424.722439 427.332744 \r\nL 429.790554 429.157665 \r\nL 434.85867 430.933324 \r\nL 439.926786 432.661689 \r\nL 444.994901 434.344624 \r\nL 450.063017 435.983897 \r\nL 455.131133 437.581187 \r\nL 460.199248 439.138085 \r\nL 465.267364 440.656104 \r\nL 470.33548 442.136683 \r\nL 475.403596 443.58119 \r\nL 480.471711 444.990927 \r\nL 485.539827 446.367135 \r\nL 490.607943 447.710995 \r\nL 495.676058 449.023636 \r\nL 500.744174 450.306133 \r\nL 505.81229 451.559512 \r\nL 510.880405 452.784753 \r\nL 515.948521 453.982794 \r\nL 521.016637 455.15453 \r\nL 526.084753 456.300819 \r\nL 531.152868 457.422481 \r\nL 536.220984 458.5203 \r\nL 541.2891 459.595029 \r\nL 546.357215 460.647388 \r\nL 551.425331 461.67807 \r\nL 556.493447 462.687737 \r\nL 561.561563 463.677025 \r\n\" style=\"fill:none;stroke:#a60628;stroke-linecap:round;stroke-width:2.5;\"/>\r\n   </g>\r\n   <g id=\"line2d_27\">\r\n    <defs>\r\n     <path d=\"M 0 3 \r\nC 0.795609 3 1.55874 2.683901 2.12132 2.12132 \r\nC 2.683901 1.55874 3 0.795609 3 0 \r\nC 3 -0.795609 2.683901 -1.55874 2.12132 -2.12132 \r\nC 1.55874 -2.683901 0.795609 -3 0 -3 \r\nC -0.795609 -3 -1.55874 -2.683901 -2.12132 -2.12132 \r\nC -2.683901 -1.55874 -3 -0.795609 -3 0 \r\nC -3 0.795609 -2.683901 1.55874 -2.12132 2.12132 \r\nC -1.55874 2.683901 -0.795609 3 0 3 \r\nz\r\n\" id=\"m5b401374c5\" style=\"stroke:#0000ff;\"/>\r\n    </defs>\r\n    <g clip-path=\"url(#p86942abe3d)\">\r\n     <use style=\"fill:#0000ff;stroke:#0000ff;\" x=\"241.979744\" xlink:href=\"#m5b401374c5\" y=\"293.858182\"/>\r\n    </g>\r\n   </g>\r\n   <g id=\"patch_3\">\r\n    <path d=\"M 59.361562 560.716364 \r\nL 59.361562 71.476364 \r\n\" style=\"fill:none;stroke:#bcbcbc;stroke-linecap:square;stroke-linejoin:miter;\"/>\r\n   </g>\r\n   <g id=\"patch_4\">\r\n    <path d=\"M 59.361562 560.716364 \r\nL 561.561563 560.716364 \r\n\" style=\"fill:none;stroke:#bcbcbc;stroke-linecap:square;stroke-linejoin:miter;\"/>\r\n   </g>\r\n   <g id=\"text_15\">\r\n    <!-- $\\frac{MU_0}{p_0}$$&gt;$$\\frac{MU_1}{p_1}$ -->\r\n    <g style=\"fill:#262626;\" transform=\"translate(333.288835 27)scale(0.2 -0.2)\">\r\n     <defs>\r\n      <path d=\"M 5.078125 0 \r\nQ 4.109375 0 4.109375 1.3125 \r\nQ 4.15625 1.5625 4.296875 2.140625 \r\nQ 4.4375 2.734375 4.6875 3.125 \r\nQ 4.9375 3.515625 5.421875 3.515625 \r\nQ 14.9375 3.515625 16.5 9.625 \r\nL 29.5 61.8125 \r\nQ 29.6875 62.796875 29.6875 63.1875 \r\nQ 29.6875 64.265625 28.515625 64.40625 \r\nQ 26.609375 64.796875 21.296875 64.796875 \r\nQ 20.3125 64.796875 20.3125 66.109375 \r\nQ 20.359375 66.359375 20.5 66.96875 \r\nQ 20.65625 67.578125 20.921875 67.9375 \r\nQ 21.1875 68.3125 21.578125 68.3125 \r\nL 39.203125 68.3125 \r\nQ 40.328125 68.3125 40.484375 67.1875 \r\nL 48.296875 9.90625 \r\nL 84.71875 67.1875 \r\nQ 85.40625 68.3125 86.625 68.3125 \r\nL 103.609375 68.3125 \r\nQ 104.59375 68.3125 104.59375 67 \r\nQ 104.546875 66.75 104.390625 66.140625 \r\nQ 104.25 65.53125 103.984375 65.15625 \r\nQ 103.71875 64.796875 103.328125 64.796875 \r\nQ 97.21875 64.796875 94.828125 64.109375 \r\nQ 93.5 63.671875 92.921875 61.375 \r\nL 79.203125 6.5 \r\nQ 79 5.515625 79 5.078125 \r\nQ 79 4.6875 79.125 4.421875 \r\nQ 79.25 4.15625 79.46875 4.078125 \r\nQ 79.6875 4 80.171875 3.90625 \r\nQ 82.078125 3.515625 87.40625 3.515625 \r\nQ 88.375 3.515625 88.375 2.203125 \r\nQ 88.03125 0.78125 87.828125 0.390625 \r\nQ 87.640625 0 86.71875 0 \r\nL 60.59375 0 \r\nQ 59.625 0 59.625 1.3125 \r\nQ 59.671875 1.5625 59.8125 2.171875 \r\nQ 59.96875 2.78125 60.234375 3.140625 \r\nQ 60.5 3.515625 60.890625 3.515625 \r\nQ 67 3.515625 69.390625 4.203125 \r\nQ 70.703125 4.640625 71.296875 6.890625 \r\nL 85.6875 64.796875 \r\nL 45.3125 1.125 \r\nQ 44.734375 0 43.3125 0 \r\nQ 42.046875 0 41.890625 1.125 \r\nL 33.40625 64.015625 \r\nL 19.671875 9.1875 \r\nQ 19.578125 8.9375 19.53125 8.5625 \r\nQ 19.484375 8.203125 19.390625 7.71875 \r\nQ 19.390625 5.125 21.65625 4.3125 \r\nQ 23.921875 3.515625 27.203125 3.515625 \r\nQ 28.21875 3.515625 28.21875 2.203125 \r\nQ 27.875 0.875 27.65625 0.4375 \r\nQ 27.4375 0 26.515625 0 \r\nz\r\n\" id=\"Cmmi10-77\"/>\r\n      <path d=\"M 14.703125 13.921875 \r\nQ 14.703125 10.25 16.140625 7.375 \r\nQ 17.578125 4.5 20.3125 2.90625 \r\nQ 23.046875 1.3125 26.703125 1.3125 \r\nQ 31 1.3125 35.078125 3.0625 \r\nQ 39.15625 4.828125 42.421875 7.953125 \r\nQ 45.703125 11.078125 48.015625 15.078125 \r\nQ 50.34375 19.09375 51.3125 23 \r\nL 60.296875 59.078125 \r\nQ 60.5 60.15625 60.5 60.59375 \r\nQ 60.5 64.796875 52.78125 64.796875 \r\nQ 51.8125 64.796875 51.8125 66.109375 \r\nQ 52.15625 67.390625 52.34375 67.84375 \r\nQ 52.546875 68.3125 53.515625 68.3125 \r\nL 75.203125 68.3125 \r\nQ 75.640625 68.3125 75.921875 67.875 \r\nQ 76.21875 67.4375 76.21875 67 \r\nQ 76.21875 66.9375 76.015625 66.234375 \r\nQ 75.828125 65.53125 75.5625 65.15625 \r\nQ 75.296875 64.796875 74.90625 64.796875 \r\nQ 65.328125 64.796875 63.8125 58.6875 \r\nL 54.78125 22.609375 \r\nQ 53.65625 17.921875 51 13.5 \r\nQ 48.34375 9.078125 44.453125 5.484375 \r\nQ 40.578125 1.90625 35.90625 -0.140625 \r\nQ 31.25 -2.203125 26.421875 -2.203125 \r\nQ 20.90625 -2.203125 16.328125 0.21875 \r\nQ 11.765625 2.640625 9.171875 6.984375 \r\nQ 6.59375 11.328125 6.59375 17 \r\nQ 6.59375 20.265625 7.328125 23 \r\nL 17 61.8125 \r\nQ 17.1875 62.796875 17.1875 63.1875 \r\nQ 17.1875 64.265625 16.015625 64.40625 \r\nQ 14.109375 64.796875 8.796875 64.796875 \r\nQ 7.8125 64.796875 7.8125 66.109375 \r\nQ 8.15625 67.390625 8.34375 67.84375 \r\nQ 8.546875 68.3125 9.515625 68.3125 \r\nL 36.375 68.3125 \r\nQ 37.40625 68.3125 37.40625 67 \r\nQ 37.359375 66.75 37.203125 66.15625 \r\nQ 37.0625 65.578125 36.8125 65.1875 \r\nQ 36.578125 64.796875 36.078125 64.796875 \r\nQ 29.984375 64.796875 27.59375 64.109375 \r\nQ 26.265625 63.625 25.6875 61.375 \r\nL 16.015625 22.609375 \r\nQ 14.703125 17.328125 14.703125 13.921875 \r\nz\r\n\" id=\"Cmmi10-85\"/>\r\n      <path d=\"M -2.484375 -19.390625 \r\nQ -3.421875 -19.390625 -3.421875 -18.109375 \r\nQ -3.078125 -15.921875 -2.09375 -15.921875 \r\nQ 1.03125 -15.921875 2.265625 -15.359375 \r\nQ 3.515625 -14.796875 4.203125 -12.5 \r\nL 15.484375 32.515625 \r\nQ 16.21875 34.375 16.21875 37.3125 \r\nQ 16.21875 41.609375 13.28125 41.609375 \r\nQ 10.15625 41.609375 8.640625 37.859375 \r\nQ 7.125 34.125 5.71875 28.421875 \r\nQ 5.71875 27.78125 4.890625 27.78125 \r\nL 3.71875 27.78125 \r\nQ 3.46875 27.78125 3.171875 28.140625 \r\nQ 2.875 28.515625 2.875 28.8125 \r\nQ 3.953125 33.15625 4.953125 36.171875 \r\nQ 5.953125 39.203125 8.078125 41.6875 \r\nQ 10.203125 44.1875 13.375 44.1875 \r\nQ 16.796875 44.1875 19.375 42.25 \r\nQ 21.96875 40.328125 22.703125 37.015625 \r\nQ 25.4375 40.1875 28.75 42.1875 \r\nQ 32.078125 44.1875 35.59375 44.1875 \r\nQ 39.796875 44.1875 42.890625 41.9375 \r\nQ 46 39.703125 47.5625 36.0625 \r\nQ 49.125 32.421875 49.125 28.21875 \r\nQ 49.125 21.78125 45.828125 14.890625 \r\nQ 42.53125 8.015625 36.890625 3.4375 \r\nQ 31.25 -1.125 24.8125 -1.125 \r\nQ 21.875 -1.125 19.5 0.53125 \r\nQ 17.140625 2.203125 15.828125 4.890625 \r\nL 11.28125 -12.890625 \r\nQ 11.03125 -14.359375 10.984375 -14.59375 \r\nQ 10.984375 -15.921875 17.578125 -15.921875 \r\nQ 18.609375 -15.921875 18.609375 -17.1875 \r\nQ 18.265625 -18.5 18.046875 -18.9375 \r\nQ 17.828125 -19.390625 16.890625 -19.390625 \r\nz\r\nM 24.90625 1.515625 \r\nQ 28.375 1.515625 31.34375 4.375 \r\nQ 34.328125 7.234375 36.1875 10.796875 \r\nQ 37.546875 13.484375 38.734375 17.359375 \r\nQ 39.9375 21.234375 40.8125 25.625 \r\nQ 41.703125 30.03125 41.703125 32.625 \r\nQ 41.703125 34.90625 41.09375 36.90625 \r\nQ 40.484375 38.921875 39.09375 40.265625 \r\nQ 37.703125 41.609375 35.40625 41.609375 \r\nQ 31.734375 41.609375 28.484375 38.984375 \r\nQ 25.25 36.375 22.609375 32.515625 \r\nL 22.609375 32.171875 \r\nL 17.09375 10.109375 \r\nQ 17.78125 6.546875 19.734375 4.03125 \r\nQ 21.6875 1.515625 24.90625 1.515625 \r\nz\r\n\" id=\"Cmmi10-112\"/>\r\n      <path d=\"M 8.296875 -2 \r\nQ 8.296875 -0.734375 9.625 -0.09375 \r\nL 62.703125 25 \r\nL 9.28125 50.296875 \r\nQ 8.296875 50.59375 8.296875 52 \r\nQ 8.296875 52.6875 8.859375 53.34375 \r\nQ 9.421875 54 10.296875 54 \r\nQ 10.5 54 11.078125 53.8125 \r\nL 68.5 26.703125 \r\nQ 69.390625 26.265625 69.390625 25 \r\nQ 69.390625 23.6875 68.21875 23.1875 \r\nL 11.078125 -3.8125 \r\nQ 10.5 -4 10.296875 -4 \r\nQ 9.421875 -4 8.859375 -3.34375 \r\nQ 8.296875 -2.6875 8.296875 -2 \r\nz\r\n\" id=\"Cmmi10-62\"/>\r\n     </defs>\r\n     <use transform=\"translate(0 51.18125)scale(0.7)\" xlink:href=\"#Cmmi10-77\"/>\r\n     <use transform=\"translate(67.915039 51.18125)scale(0.7)\" xlink:href=\"#Cmmi10-85\"/>\r\n     <use transform=\"translate(115.664062 39.276875)scale(0.49)\" xlink:href=\"#Cmr10-48\"/>\r\n     <use transform=\"translate(40 -23.983906)scale(0.7)\" xlink:href=\"#Cmmi10-112\"/>\r\n     <use transform=\"translate(75.205078 -35.888281)scale(0.49)\" xlink:href=\"#Cmr10-48\"/>\r\n     <use transform=\"translate(174.686797 0.697344)\" xlink:href=\"#Cmmi10-62\"/>\r\n     <use transform=\"translate(269.930938 50.101719)scale(0.7)\" xlink:href=\"#Cmmi10-77\"/>\r\n     <use transform=\"translate(337.845977 50.101719)scale(0.7)\" xlink:href=\"#Cmmi10-85\"/>\r\n     <use transform=\"translate(385.595 38.197344)scale(0.49)\" xlink:href=\"#Cmr10-49\"/>\r\n     <use transform=\"translate(309.930938 -23.983906)scale(0.7)\" xlink:href=\"#Cmmi10-112\"/>\r\n     <use transform=\"translate(345.136016 -35.888281)scale(0.49)\" xlink:href=\"#Cmr10-49\"/>\r\n     <path d=\"M 0 13.197344 \r\nL 0 19.447344 \r\nL 144.628203 19.447344 \r\nL 144.628203 13.197344 \r\nL 0 13.197344 \r\nz\r\n\"/>\r\n     <path d=\"M 269.930938 13.197344 \r\nL 269.930938 19.447344 \r\nL 414.559141 19.447344 \r\nL 414.559141 13.197344 \r\nL 269.930938 13.197344 \r\nz\r\n\"/>\r\n    </g>\r\n   </g>\r\n   <g id=\"text_16\">\r\n    <!-- $( 40.0,  60.0) \\ \\ U=48.990$ -->\r\n    <g style=\"fill:#262626;\" transform=\"translate(333.288835 115.952727)scale(0.12 -0.12)\">\r\n     <defs>\r\n      <path d=\"M 31 -24.8125 \r\nQ 25.4375 -20.40625 21.40625 -14.71875 \r\nQ 17.390625 -9.03125 14.8125 -2.578125 \r\nQ 12.25 3.859375 10.984375 10.890625 \r\nQ 9.71875 17.921875 9.71875 25 \r\nQ 9.71875 32.171875 10.984375 39.203125 \r\nQ 12.25 46.234375 14.859375 52.734375 \r\nQ 17.484375 59.234375 21.53125 64.890625 \r\nQ 25.59375 70.5625 31 74.8125 \r\nQ 31 75 31.5 75 \r\nL 32.421875 75 \r\nQ 32.71875 75 32.953125 74.734375 \r\nQ 33.203125 74.46875 33.203125 74.125 \r\nQ 33.203125 73.6875 33.015625 73.484375 \r\nQ 28.125 68.703125 24.875 63.234375 \r\nQ 21.625 57.765625 19.640625 51.578125 \r\nQ 17.671875 45.40625 16.796875 38.78125 \r\nQ 15.921875 32.171875 15.921875 25 \r\nQ 15.921875 -6.78125 32.90625 -23.296875 \r\nQ 33.203125 -23.578125 33.203125 -24.125 \r\nQ 33.203125 -24.359375 32.9375 -24.671875 \r\nQ 32.671875 -25 32.421875 -25 \r\nL 31.5 -25 \r\nQ 31 -25 31 -24.8125 \r\nz\r\n\" id=\"Cmr10-40\"/>\r\n      <path d=\"M 2.78125 16.5 \r\nL 2.78125 20.015625 \r\nL 33.6875 66.109375 \r\nQ 34.03125 66.609375 34.71875 66.609375 \r\nL 36.1875 66.609375 \r\nQ 37.3125 66.609375 37.3125 65.484375 \r\nL 37.3125 20.015625 \r\nL 47.125 20.015625 \r\nL 47.125 16.5 \r\nL 37.3125 16.5 \r\nL 37.3125 6.6875 \r\nQ 37.3125 4.640625 40.234375 4.078125 \r\nQ 43.171875 3.515625 47.015625 3.515625 \r\nL 47.015625 0 \r\nL 19.484375 0 \r\nL 19.484375 3.515625 \r\nQ 23.34375 3.515625 26.265625 4.078125 \r\nQ 29.203125 4.640625 29.203125 6.6875 \r\nL 29.203125 16.5 \r\nz\r\nM 6.109375 20.015625 \r\nL 29.78125 20.015625 \r\nL 29.78125 55.421875 \r\nz\r\n\" id=\"Cmr10-52\"/>\r\n      <path d=\"M 8.40625 5.515625 \r\nQ 8.40625 7.765625 10.0625 9.375 \r\nQ 11.71875 10.984375 13.921875 10.984375 \r\nQ 15.28125 10.984375 16.59375 10.25 \r\nQ 17.921875 9.515625 18.65625 8.203125 \r\nQ 19.390625 6.890625 19.390625 5.515625 \r\nQ 19.390625 3.328125 17.765625 1.65625 \r\nQ 16.15625 0 13.921875 0 \r\nQ 11.71875 0 10.0625 1.65625 \r\nQ 8.40625 3.328125 8.40625 5.515625 \r\nz\r\n\" id=\"Cmmi10-58\"/>\r\n      <path d=\"M 9.90625 -18.015625 \r\nQ 9.90625 -17.578125 10.296875 -17.1875 \r\nQ 13.921875 -13.71875 15.921875 -9.171875 \r\nQ 17.921875 -4.640625 17.921875 0.390625 \r\nL 17.921875 1.609375 \r\nQ 16.3125 0 13.921875 0 \r\nQ 11.625 0 10.015625 1.609375 \r\nQ 8.40625 3.21875 8.40625 5.515625 \r\nQ 8.40625 7.859375 10.015625 9.421875 \r\nQ 11.625 10.984375 13.921875 10.984375 \r\nQ 17.484375 10.984375 19 7.6875 \r\nQ 20.515625 4.390625 20.515625 0.390625 \r\nQ 20.515625 -5.171875 18.28125 -10.171875 \r\nQ 16.0625 -15.1875 12.015625 -19.1875 \r\nQ 11.625 -19.390625 11.375 -19.390625 \r\nQ 10.890625 -19.390625 10.390625 -18.9375 \r\nQ 9.90625 -18.5 9.90625 -18.015625 \r\nz\r\n\" id=\"Cmmi10-59\"/>\r\n      <path d=\"M 25 -2.203125 \r\nQ 18.796875 -2.203125 14.640625 1.09375 \r\nQ 10.5 4.390625 8.21875 9.640625 \r\nQ 5.953125 14.890625 5.078125 20.65625 \r\nQ 4.203125 26.421875 4.203125 32.328125 \r\nQ 4.203125 40.234375 7.28125 48.1875 \r\nQ 10.359375 56.15625 16.328125 61.375 \r\nQ 22.3125 66.609375 30.515625 66.609375 \r\nQ 33.9375 66.609375 36.890625 65.3125 \r\nQ 39.84375 64.015625 41.53125 61.5 \r\nQ 43.21875 58.984375 43.21875 55.421875 \r\nQ 43.21875 53.375 41.828125 51.984375 \r\nQ 40.4375 50.59375 38.375 50.59375 \r\nQ 36.421875 50.59375 35 52 \r\nQ 33.59375 53.421875 33.59375 55.421875 \r\nQ 33.59375 57.375 35 58.78125 \r\nQ 36.421875 60.203125 38.375 60.203125 \r\nL 38.921875 60.203125 \r\nQ 37.640625 62.015625 35.328125 62.859375 \r\nQ 33.015625 63.71875 30.515625 63.71875 \r\nQ 27.484375 63.71875 24.921875 62.390625 \r\nQ 22.359375 61.078125 20.3125 58.828125 \r\nQ 18.265625 56.59375 16.890625 53.875 \r\nQ 15.53125 51.171875 14.765625 47.703125 \r\nQ 14.015625 44.234375 13.8125 41.203125 \r\nQ 13.625 38.1875 13.625 33.59375 \r\nQ 15.375 37.703125 18.59375 40.3125 \r\nQ 21.828125 42.921875 25.875 42.921875 \r\nQ 30.328125 42.921875 33.984375 41.109375 \r\nQ 37.640625 39.3125 40.28125 36.109375 \r\nQ 42.921875 32.90625 44.3125 28.796875 \r\nQ 45.703125 24.703125 45.703125 20.515625 \r\nQ 45.703125 14.65625 43.09375 9.34375 \r\nQ 40.484375 4.046875 35.734375 0.921875 \r\nQ 31 -2.203125 25 -2.203125 \r\nz\r\nM 25 0.984375 \r\nQ 28.859375 0.984375 31.203125 2.734375 \r\nQ 33.546875 4.5 34.640625 7.390625 \r\nQ 35.75 10.296875 36.015625 13.25 \r\nQ 36.28125 16.21875 36.28125 20.515625 \r\nQ 36.28125 26.171875 35.734375 30.171875 \r\nQ 35.203125 34.1875 32.8125 37.234375 \r\nQ 30.421875 40.28125 25.484375 40.28125 \r\nQ 21.4375 40.28125 18.828125 37.546875 \r\nQ 16.21875 34.8125 15.015625 30.640625 \r\nQ 13.8125 26.46875 13.8125 22.609375 \r\nQ 13.8125 21.296875 13.921875 20.609375 \r\nQ 13.921875 20.453125 13.890625 20.359375 \r\nQ 13.875 20.265625 13.8125 20.125 \r\nQ 13.8125 15.828125 14.6875 11.421875 \r\nQ 15.578125 7.03125 18.0625 4 \r\nQ 20.5625 0.984375 25 0.984375 \r\nz\r\n\" id=\"Cmr10-54\"/>\r\n      <path d=\"M 6.5 -25 \r\nQ 5.609375 -25 5.609375 -24.125 \r\nQ 5.609375 -23.6875 5.8125 -23.484375 \r\nQ 22.90625 -6.78125 22.90625 25 \r\nQ 22.90625 56.78125 6 73.296875 \r\nQ 5.609375 73.53125 5.609375 74.125 \r\nQ 5.609375 74.46875 5.875 74.734375 \r\nQ 6.15625 75 6.5 75 \r\nL 7.421875 75 \r\nQ 7.71875 75 7.90625 74.8125 \r\nQ 15.09375 69.140625 19.875 61.03125 \r\nQ 24.65625 52.9375 26.875 43.75 \r\nQ 29.109375 34.578125 29.109375 25 \r\nQ 29.109375 17.921875 27.90625 11.0625 \r\nQ 26.703125 4.203125 24.09375 -2.453125 \r\nQ 21.484375 -9.125 17.484375 -14.765625 \r\nQ 13.484375 -20.40625 7.90625 -24.8125 \r\nQ 7.71875 -25 7.421875 -25 \r\nz\r\n\" id=\"Cmr10-41\"/>\r\n      <path d=\"M 7.515625 13.28125 \r\nQ 6.6875 13.28125 6.140625 13.90625 \r\nQ 5.609375 14.546875 5.609375 15.28125 \r\nQ 5.609375 16.109375 6.140625 16.6875 \r\nQ 6.6875 17.28125 7.515625 17.28125 \r\nL 70.3125 17.28125 \r\nQ 71.046875 17.28125 71.578125 16.6875 \r\nQ 72.125 16.109375 72.125 15.28125 \r\nQ 72.125 14.546875 71.578125 13.90625 \r\nQ 71.046875 13.28125 70.3125 13.28125 \r\nz\r\nM 7.515625 32.71875 \r\nQ 6.6875 32.71875 6.140625 33.296875 \r\nQ 5.609375 33.890625 5.609375 34.71875 \r\nQ 5.609375 35.453125 6.140625 36.078125 \r\nQ 6.6875 36.71875 7.515625 36.71875 \r\nL 70.3125 36.71875 \r\nQ 71.046875 36.71875 71.578125 36.078125 \r\nQ 72.125 35.453125 72.125 34.71875 \r\nQ 72.125 33.890625 71.578125 33.296875 \r\nQ 71.046875 32.71875 70.3125 32.71875 \r\nz\r\n\" id=\"Cmr10-61\"/>\r\n      <path d=\"M 4.203125 15.1875 \r\nQ 4.203125 21.1875 8.15625 25.796875 \r\nQ 12.109375 30.421875 18.3125 33.5 \r\nL 14.59375 35.890625 \r\nQ 11.1875 38.140625 9.03125 41.875 \r\nQ 6.890625 45.609375 6.890625 49.703125 \r\nQ 6.890625 54.5 9.40625 58.34375 \r\nQ 11.921875 62.203125 16.09375 64.40625 \r\nQ 20.265625 66.609375 25 66.609375 \r\nQ 29.4375 66.609375 33.5625 64.796875 \r\nQ 37.703125 62.984375 40.359375 59.609375 \r\nQ 43.015625 56.25 43.015625 51.609375 \r\nQ 43.015625 48.25 41.421875 45.359375 \r\nQ 39.84375 42.484375 37.078125 40.1875 \r\nQ 34.328125 37.890625 31.203125 36.28125 \r\nL 36.921875 32.625 \r\nQ 40.875 30.03125 43.28125 25.828125 \r\nQ 45.703125 21.625 45.703125 17 \r\nQ 45.703125 11.578125 42.796875 7.125 \r\nQ 39.890625 2.6875 35.109375 0.234375 \r\nQ 30.328125 -2.203125 25 -2.203125 \r\nQ 19.828125 -2.203125 15.015625 -0.09375 \r\nQ 10.203125 2 7.203125 5.984375 \r\nQ 4.203125 9.96875 4.203125 15.1875 \r\nz\r\nM 9.625 15.1875 \r\nQ 9.625 11.234375 11.796875 7.953125 \r\nQ 13.96875 4.6875 17.53125 2.828125 \r\nQ 21.09375 0.984375 25 0.984375 \r\nQ 30.8125 0.984375 35.546875 4.375 \r\nQ 40.28125 7.765625 40.28125 13.375 \r\nQ 40.28125 15.28125 39.515625 17.15625 \r\nQ 38.765625 19.046875 37.421875 20.578125 \r\nQ 36.078125 22.125 34.421875 23.09375 \r\nL 21 31.78125 \r\nQ 17.875 30.125 15.25 27.578125 \r\nQ 12.640625 25.046875 11.125 21.875 \r\nQ 9.625 18.703125 9.625 15.1875 \r\nz\r\nM 16.5 45.703125 \r\nL 28.609375 37.890625 \r\nQ 32.8125 40.328125 35.5 43.796875 \r\nQ 38.1875 47.265625 38.1875 51.609375 \r\nQ 38.1875 54.984375 36.296875 57.78125 \r\nQ 34.421875 60.59375 31.390625 62.15625 \r\nQ 28.375 63.71875 24.90625 63.71875 \r\nQ 21.875 63.71875 18.796875 62.546875 \r\nQ 15.71875 61.375 13.71875 59.046875 \r\nQ 11.71875 56.734375 11.71875 53.609375 \r\nQ 11.71875 48.921875 16.5 45.703125 \r\nz\r\n\" id=\"Cmr10-56\"/>\r\n      <path d=\"M 11.28125 4.203125 \r\nQ 14.015625 0.984375 20.796875 0.984375 \r\nQ 24.609375 0.984375 27.90625 3.5625 \r\nQ 31.203125 6.15625 33.015625 9.90625 \r\nQ 35.109375 14.15625 35.6875 18.96875 \r\nQ 36.28125 23.78125 36.28125 30.90625 \r\nQ 34.578125 26.859375 31.375 24.265625 \r\nQ 28.171875 21.6875 24.03125 21.6875 \r\nQ 18.21875 21.6875 13.640625 24.828125 \r\nQ 9.078125 27.984375 6.640625 33.125 \r\nQ 4.203125 38.28125 4.203125 44.09375 \r\nQ 4.203125 50.09375 6.9375 55.296875 \r\nQ 9.671875 60.5 14.5 63.546875 \r\nQ 19.34375 66.609375 25.484375 66.609375 \r\nQ 31.546875 66.609375 35.625 63.3125 \r\nQ 39.703125 60.015625 41.84375 54.8125 \r\nQ 44 49.609375 44.84375 43.796875 \r\nQ 45.703125 37.984375 45.703125 32.328125 \r\nQ 45.703125 24.609375 42.875 16.578125 \r\nQ 40.046875 8.546875 34.40625 3.171875 \r\nQ 28.765625 -2.203125 20.796875 -2.203125 \r\nQ 14.890625 -2.203125 10.78125 0.578125 \r\nQ 6.6875 3.375 6.6875 8.984375 \r\nQ 6.6875 11.03125 8.078125 12.421875 \r\nQ 9.46875 13.8125 11.53125 13.8125 \r\nQ 13.53125 13.8125 14.921875 12.421875 \r\nQ 16.3125 11.03125 16.3125 8.984375 \r\nQ 16.3125 7.03125 14.890625 5.609375 \r\nQ 13.484375 4.203125 11.53125 4.203125 \r\nz\r\nM 24.421875 24.3125 \r\nQ 28.515625 24.3125 31.125 27.0625 \r\nQ 33.734375 29.828125 34.90625 33.921875 \r\nQ 36.078125 38.03125 36.078125 42.09375 \r\nL 36.078125 44 \r\nL 36.078125 44.390625 \r\nQ 36.078125 51.90625 33.875 57.8125 \r\nQ 31.6875 63.71875 25.484375 63.71875 \r\nQ 21.53125 63.71875 19.0625 61.984375 \r\nQ 16.609375 60.25 15.4375 57.375 \r\nQ 14.265625 54.5 13.9375 51.21875 \r\nQ 13.625 47.953125 13.625 44.09375 \r\nQ 13.625 38.421875 14.15625 34.421875 \r\nQ 14.703125 30.421875 17.09375 27.359375 \r\nQ 19.484375 24.3125 24.421875 24.3125 \r\nz\r\n\" id=\"Cmr10-57\"/>\r\n     </defs>\r\n     <use xlink:href=\"#Cmr10-40\"/>\r\n     <use transform=\"translate(38.818359 0)\" xlink:href=\"#Cmr10-52\"/>\r\n     <use transform=\"translate(88.818359 0)\" xlink:href=\"#Cmr10-48\"/>\r\n     <use transform=\"translate(138.818359 0)\" xlink:href=\"#Cmmi10-58\"/>\r\n     <use transform=\"translate(166.503906 0)\" xlink:href=\"#Cmr10-48\"/>\r\n     <use transform=\"translate(216.503906 0)\" xlink:href=\"#Cmmi10-59\"/>\r\n     <use transform=\"translate(261.748047 0)\" xlink:href=\"#Cmr10-54\"/>\r\n     <use transform=\"translate(311.748047 0)\" xlink:href=\"#Cmr10-48\"/>\r\n     <use transform=\"translate(361.748047 0)\" xlink:href=\"#Cmmi10-58\"/>\r\n     <use transform=\"translate(389.433594 0)\" xlink:href=\"#Cmr10-48\"/>\r\n     <use transform=\"translate(439.433594 0)\" xlink:href=\"#Cmr10-41\"/>\r\n     <use transform=\"translate(536.780014 0)\" xlink:href=\"#Cmmi10-85\"/>\r\n     <use transform=\"translate(622.551498 0)\" xlink:href=\"#Cmr10-61\"/>\r\n     <use transform=\"translate(717.795639 0)\" xlink:href=\"#Cmr10-52\"/>\r\n     <use transform=\"translate(767.795639 0)\" xlink:href=\"#Cmr10-56\"/>\r\n     <use transform=\"translate(817.795639 0)\" xlink:href=\"#Cmmi10-58\"/>\r\n     <use transform=\"translate(845.481186 0)\" xlink:href=\"#Cmr10-57\"/>\r\n     <use transform=\"translate(895.481186 0)\" xlink:href=\"#Cmr10-57\"/>\r\n     <use transform=\"translate(945.481186 0)\" xlink:href=\"#Cmr10-48\"/>\r\n    </g>\r\n   </g>\r\n   <g id=\"text_17\">\r\n    <!-- The No-Arbitrage argument -->\r\n    <g style=\"fill:#262626;\" transform=\"translate(152.720138 65.476364)scale(0.2592 -0.2592)\">\r\n     <defs>\r\n      <path d=\"M 25.921875 0 \r\nL 25.921875 63.140625 \r\nL 2.34375 63.140625 \r\nL 2.34375 71.578125 \r\nL 59.078125 71.578125 \r\nL 59.078125 63.140625 \r\nL 35.40625 63.140625 \r\nL 35.40625 0 \r\nz\r\n\" id=\"ArialMT-84\"/>\r\n      <path d=\"M 6.59375 0 \r\nL 6.59375 71.578125 \r\nL 15.375 71.578125 \r\nL 15.375 45.90625 \r\nQ 21.53125 53.03125 30.90625 53.03125 \r\nQ 36.671875 53.03125 40.921875 50.75 \r\nQ 45.171875 48.484375 47 44.484375 \r\nQ 48.828125 40.484375 48.828125 32.859375 \r\nL 48.828125 0 \r\nL 40.046875 0 \r\nL 40.046875 32.859375 \r\nQ 40.046875 39.453125 37.1875 42.453125 \r\nQ 34.328125 45.453125 29.109375 45.453125 \r\nQ 25.203125 45.453125 21.75 43.421875 \r\nQ 18.3125 41.40625 16.84375 37.9375 \r\nQ 15.375 34.46875 15.375 28.375 \r\nL 15.375 0 \r\nz\r\n\" id=\"ArialMT-104\"/>\r\n      <path d=\"M 42.09375 16.703125 \r\nL 51.171875 15.578125 \r\nQ 49.03125 7.625 43.21875 3.21875 \r\nQ 37.40625 -1.171875 28.375 -1.171875 \r\nQ 17 -1.171875 10.328125 5.828125 \r\nQ 3.65625 12.84375 3.65625 25.484375 \r\nQ 3.65625 38.578125 10.390625 45.796875 \r\nQ 17.140625 53.03125 27.875 53.03125 \r\nQ 38.28125 53.03125 44.875 45.953125 \r\nQ 51.46875 38.875 51.46875 26.03125 \r\nQ 51.46875 25.25 51.421875 23.6875 \r\nL 12.75 23.6875 \r\nQ 13.234375 15.140625 17.578125 10.59375 \r\nQ 21.921875 6.0625 28.421875 6.0625 \r\nQ 33.25 6.0625 36.671875 8.59375 \r\nQ 40.09375 11.140625 42.09375 16.703125 \r\nz\r\nM 13.234375 30.90625 \r\nL 42.1875 30.90625 \r\nQ 41.609375 37.453125 38.875 40.71875 \r\nQ 34.671875 45.796875 27.984375 45.796875 \r\nQ 21.921875 45.796875 17.796875 41.75 \r\nQ 13.671875 37.703125 13.234375 30.90625 \r\nz\r\n\" id=\"ArialMT-101\"/>\r\n      <path id=\"ArialMT-32\"/>\r\n      <path d=\"M 7.625 0 \r\nL 7.625 71.578125 \r\nL 17.328125 71.578125 \r\nL 54.9375 15.375 \r\nL 54.9375 71.578125 \r\nL 64.015625 71.578125 \r\nL 64.015625 0 \r\nL 54.296875 0 \r\nL 16.703125 56.25 \r\nL 16.703125 0 \r\nz\r\n\" id=\"ArialMT-78\"/>\r\n      <path d=\"M 3.328125 25.921875 \r\nQ 3.328125 40.328125 11.328125 47.265625 \r\nQ 18.015625 53.03125 27.640625 53.03125 \r\nQ 38.328125 53.03125 45.109375 46.015625 \r\nQ 51.90625 39.015625 51.90625 26.65625 \r\nQ 51.90625 16.65625 48.90625 10.90625 \r\nQ 45.90625 5.171875 40.15625 2 \r\nQ 34.421875 -1.171875 27.640625 -1.171875 \r\nQ 16.75 -1.171875 10.03125 5.8125 \r\nQ 3.328125 12.796875 3.328125 25.921875 \r\nz\r\nM 12.359375 25.921875 \r\nQ 12.359375 15.96875 16.703125 11.015625 \r\nQ 21.046875 6.0625 27.640625 6.0625 \r\nQ 34.1875 6.0625 38.53125 11.03125 \r\nQ 42.875 16.015625 42.875 26.21875 \r\nQ 42.875 35.84375 38.5 40.796875 \r\nQ 34.125 45.75 27.640625 45.75 \r\nQ 21.046875 45.75 16.703125 40.8125 \r\nQ 12.359375 35.890625 12.359375 25.921875 \r\nz\r\n\" id=\"ArialMT-111\"/>\r\n      <path d=\"M 3.171875 21.484375 \r\nL 3.171875 30.328125 \r\nL 30.171875 30.328125 \r\nL 30.171875 21.484375 \r\nz\r\n\" id=\"ArialMT-45\"/>\r\n      <path d=\"M -0.140625 0 \r\nL 27.34375 71.578125 \r\nL 37.546875 71.578125 \r\nL 66.84375 0 \r\nL 56.0625 0 \r\nL 47.703125 21.6875 \r\nL 17.78125 21.6875 \r\nL 9.90625 0 \r\nz\r\nM 20.515625 29.390625 \r\nL 44.78125 29.390625 \r\nL 37.3125 49.21875 \r\nQ 33.890625 58.25 32.234375 64.0625 \r\nQ 30.859375 57.171875 28.375 50.390625 \r\nz\r\n\" id=\"ArialMT-65\"/>\r\n      <path d=\"M 6.5 0 \r\nL 6.5 51.859375 \r\nL 14.40625 51.859375 \r\nL 14.40625 44 \r\nQ 17.4375 49.515625 20 51.265625 \r\nQ 22.5625 53.03125 25.640625 53.03125 \r\nQ 30.078125 53.03125 34.671875 50.203125 \r\nL 31.640625 42.046875 \r\nQ 28.421875 43.953125 25.203125 43.953125 \r\nQ 22.3125 43.953125 20.015625 42.21875 \r\nQ 17.71875 40.484375 16.75 37.40625 \r\nQ 15.28125 32.71875 15.28125 27.15625 \r\nL 15.28125 0 \r\nz\r\n\" id=\"ArialMT-114\"/>\r\n      <path d=\"M 14.703125 0 \r\nL 6.546875 0 \r\nL 6.546875 71.578125 \r\nL 15.328125 71.578125 \r\nL 15.328125 46.046875 \r\nQ 20.90625 53.03125 29.546875 53.03125 \r\nQ 34.328125 53.03125 38.59375 51.09375 \r\nQ 42.875 49.171875 45.625 45.671875 \r\nQ 48.390625 42.1875 49.953125 37.25 \r\nQ 51.515625 32.328125 51.515625 26.703125 \r\nQ 51.515625 13.375 44.921875 6.09375 \r\nQ 38.328125 -1.171875 29.109375 -1.171875 \r\nQ 19.921875 -1.171875 14.703125 6.5 \r\nz\r\nM 14.59375 26.3125 \r\nQ 14.59375 17 17.140625 12.84375 \r\nQ 21.296875 6.0625 28.375 6.0625 \r\nQ 34.125 6.0625 38.328125 11.0625 \r\nQ 42.53125 16.0625 42.53125 25.984375 \r\nQ 42.53125 36.140625 38.5 40.96875 \r\nQ 34.46875 45.796875 28.765625 45.796875 \r\nQ 23 45.796875 18.796875 40.796875 \r\nQ 14.59375 35.796875 14.59375 26.3125 \r\nz\r\n\" id=\"ArialMT-98\"/>\r\n      <path d=\"M 6.640625 61.46875 \r\nL 6.640625 71.578125 \r\nL 15.4375 71.578125 \r\nL 15.4375 61.46875 \r\nz\r\nM 6.640625 0 \r\nL 6.640625 51.859375 \r\nL 15.4375 51.859375 \r\nL 15.4375 0 \r\nz\r\n\" id=\"ArialMT-105\"/>\r\n      <path d=\"M 25.78125 7.859375 \r\nL 27.046875 0.09375 \r\nQ 23.34375 -0.6875 20.40625 -0.6875 \r\nQ 15.625 -0.6875 12.984375 0.828125 \r\nQ 10.359375 2.34375 9.28125 4.8125 \r\nQ 8.203125 7.28125 8.203125 15.1875 \r\nL 8.203125 45.015625 \r\nL 1.765625 45.015625 \r\nL 1.765625 51.859375 \r\nL 8.203125 51.859375 \r\nL 8.203125 64.703125 \r\nL 16.9375 69.96875 \r\nL 16.9375 51.859375 \r\nL 25.78125 51.859375 \r\nL 25.78125 45.015625 \r\nL 16.9375 45.015625 \r\nL 16.9375 14.703125 \r\nQ 16.9375 10.9375 17.40625 9.859375 \r\nQ 17.875 8.796875 18.921875 8.15625 \r\nQ 19.96875 7.515625 21.921875 7.515625 \r\nQ 23.390625 7.515625 25.78125 7.859375 \r\nz\r\n\" id=\"ArialMT-116\"/>\r\n      <path d=\"M 40.4375 6.390625 \r\nQ 35.546875 2.25 31.03125 0.53125 \r\nQ 26.515625 -1.171875 21.34375 -1.171875 \r\nQ 12.796875 -1.171875 8.203125 3 \r\nQ 3.609375 7.171875 3.609375 13.671875 \r\nQ 3.609375 17.484375 5.34375 20.625 \r\nQ 7.078125 23.78125 9.890625 25.6875 \r\nQ 12.703125 27.59375 16.21875 28.5625 \r\nQ 18.796875 29.25 24.03125 29.890625 \r\nQ 34.671875 31.15625 39.703125 32.90625 \r\nQ 39.75 34.71875 39.75 35.203125 \r\nQ 39.75 40.578125 37.25 42.78125 \r\nQ 33.890625 45.75 27.25 45.75 \r\nQ 21.046875 45.75 18.09375 43.578125 \r\nQ 15.140625 41.40625 13.71875 35.890625 \r\nL 5.125 37.0625 \r\nQ 6.296875 42.578125 8.984375 45.96875 \r\nQ 11.671875 49.359375 16.75 51.1875 \r\nQ 21.828125 53.03125 28.515625 53.03125 \r\nQ 35.15625 53.03125 39.296875 51.46875 \r\nQ 43.453125 49.90625 45.40625 47.53125 \r\nQ 47.359375 45.171875 48.140625 41.546875 \r\nQ 48.578125 39.3125 48.578125 33.453125 \r\nL 48.578125 21.734375 \r\nQ 48.578125 9.46875 49.140625 6.21875 \r\nQ 49.703125 2.984375 51.375 0 \r\nL 42.1875 0 \r\nQ 40.828125 2.734375 40.4375 6.390625 \r\nz\r\nM 39.703125 26.03125 \r\nQ 34.90625 24.078125 25.34375 22.703125 \r\nQ 19.921875 21.921875 17.671875 20.9375 \r\nQ 15.4375 19.96875 14.203125 18.09375 \r\nQ 12.984375 16.21875 12.984375 13.921875 \r\nQ 12.984375 10.40625 15.640625 8.0625 \r\nQ 18.3125 5.71875 23.4375 5.71875 \r\nQ 28.515625 5.71875 32.46875 7.9375 \r\nQ 36.421875 10.15625 38.28125 14.015625 \r\nQ 39.703125 17 39.703125 22.796875 \r\nz\r\n\" id=\"ArialMT-97\"/>\r\n      <path d=\"M 4.984375 -4.296875 \r\nL 13.53125 -5.5625 \r\nQ 14.0625 -9.515625 16.5 -11.328125 \r\nQ 19.78125 -13.765625 25.4375 -13.765625 \r\nQ 31.546875 -13.765625 34.859375 -11.328125 \r\nQ 38.1875 -8.890625 39.359375 -4.5 \r\nQ 40.046875 -1.8125 39.984375 6.78125 \r\nQ 34.234375 0 25.640625 0 \r\nQ 14.9375 0 9.078125 7.71875 \r\nQ 3.21875 15.4375 3.21875 26.21875 \r\nQ 3.21875 33.640625 5.90625 39.90625 \r\nQ 8.59375 46.1875 13.6875 49.609375 \r\nQ 18.796875 53.03125 25.6875 53.03125 \r\nQ 34.859375 53.03125 40.828125 45.609375 \r\nL 40.828125 51.859375 \r\nL 48.921875 51.859375 \r\nL 48.921875 7.03125 \r\nQ 48.921875 -5.078125 46.453125 -10.125 \r\nQ 44 -15.1875 38.640625 -18.109375 \r\nQ 33.296875 -21.046875 25.484375 -21.046875 \r\nQ 16.21875 -21.046875 10.5 -16.875 \r\nQ 4.78125 -12.703125 4.984375 -4.296875 \r\nz\r\nM 12.25 26.859375 \r\nQ 12.25 16.65625 16.296875 11.96875 \r\nQ 20.359375 7.28125 26.46875 7.28125 \r\nQ 32.515625 7.28125 36.609375 11.9375 \r\nQ 40.71875 16.609375 40.71875 26.5625 \r\nQ 40.71875 36.078125 36.5 40.90625 \r\nQ 32.28125 45.75 26.3125 45.75 \r\nQ 20.453125 45.75 16.34375 40.984375 \r\nQ 12.25 36.234375 12.25 26.859375 \r\nz\r\n\" id=\"ArialMT-103\"/>\r\n      <path d=\"M 40.578125 0 \r\nL 40.578125 7.625 \r\nQ 34.515625 -1.171875 24.125 -1.171875 \r\nQ 19.53125 -1.171875 15.546875 0.578125 \r\nQ 11.578125 2.34375 9.640625 5 \r\nQ 7.71875 7.671875 6.9375 11.53125 \r\nQ 6.390625 14.109375 6.390625 19.734375 \r\nL 6.390625 51.859375 \r\nL 15.1875 51.859375 \r\nL 15.1875 23.09375 \r\nQ 15.1875 16.21875 15.71875 13.8125 \r\nQ 16.546875 10.359375 19.234375 8.375 \r\nQ 21.921875 6.390625 25.875 6.390625 \r\nQ 29.828125 6.390625 33.296875 8.421875 \r\nQ 36.765625 10.453125 38.203125 13.9375 \r\nQ 39.65625 17.4375 39.65625 24.078125 \r\nL 39.65625 51.859375 \r\nL 48.4375 51.859375 \r\nL 48.4375 0 \r\nz\r\n\" id=\"ArialMT-117\"/>\r\n      <path d=\"M 6.59375 0 \r\nL 6.59375 51.859375 \r\nL 14.453125 51.859375 \r\nL 14.453125 44.578125 \r\nQ 16.890625 48.390625 20.9375 50.703125 \r\nQ 25 53.03125 30.171875 53.03125 \r\nQ 35.9375 53.03125 39.625 50.640625 \r\nQ 43.3125 48.25 44.828125 43.953125 \r\nQ 50.984375 53.03125 60.84375 53.03125 \r\nQ 68.5625 53.03125 72.703125 48.75 \r\nQ 76.859375 44.484375 76.859375 35.59375 \r\nL 76.859375 0 \r\nL 68.109375 0 \r\nL 68.109375 32.671875 \r\nQ 68.109375 37.9375 67.25 40.25 \r\nQ 66.40625 42.578125 64.15625 43.984375 \r\nQ 61.921875 45.40625 58.890625 45.40625 \r\nQ 53.421875 45.40625 49.796875 41.765625 \r\nQ 46.1875 38.140625 46.1875 30.125 \r\nL 46.1875 0 \r\nL 37.40625 0 \r\nL 37.40625 33.6875 \r\nQ 37.40625 39.546875 35.25 42.46875 \r\nQ 33.109375 45.40625 28.21875 45.40625 \r\nQ 24.515625 45.40625 21.359375 43.453125 \r\nQ 18.21875 41.5 16.796875 37.734375 \r\nQ 15.375 33.984375 15.375 26.90625 \r\nL 15.375 0 \r\nz\r\n\" id=\"ArialMT-109\"/>\r\n      <path d=\"M 6.59375 0 \r\nL 6.59375 51.859375 \r\nL 14.5 51.859375 \r\nL 14.5 44.484375 \r\nQ 20.21875 53.03125 31 53.03125 \r\nQ 35.6875 53.03125 39.625 51.34375 \r\nQ 43.5625 49.65625 45.515625 46.921875 \r\nQ 47.46875 44.1875 48.25 40.4375 \r\nQ 48.734375 37.984375 48.734375 31.890625 \r\nL 48.734375 0 \r\nL 39.9375 0 \r\nL 39.9375 31.546875 \r\nQ 39.9375 36.921875 38.90625 39.578125 \r\nQ 37.890625 42.234375 35.28125 43.8125 \r\nQ 32.671875 45.40625 29.15625 45.40625 \r\nQ 23.53125 45.40625 19.453125 41.84375 \r\nQ 15.375 38.28125 15.375 28.328125 \r\nL 15.375 0 \r\nz\r\n\" id=\"ArialMT-110\"/>\r\n     </defs>\r\n     <use xlink:href=\"#ArialMT-84\"/>\r\n     <use x=\"61.083984\" xlink:href=\"#ArialMT-104\"/>\r\n     <use x=\"116.699219\" xlink:href=\"#ArialMT-101\"/>\r\n     <use x=\"172.314453\" xlink:href=\"#ArialMT-32\"/>\r\n     <use x=\"200.097656\" xlink:href=\"#ArialMT-78\"/>\r\n     <use x=\"272.314453\" xlink:href=\"#ArialMT-111\"/>\r\n     <use x=\"327.929688\" xlink:href=\"#ArialMT-45\"/>\r\n     <use x=\"361.230469\" xlink:href=\"#ArialMT-65\"/>\r\n     <use x=\"427.929688\" xlink:href=\"#ArialMT-114\"/>\r\n     <use x=\"461.230469\" xlink:href=\"#ArialMT-98\"/>\r\n     <use x=\"516.845703\" xlink:href=\"#ArialMT-105\"/>\r\n     <use x=\"539.0625\" xlink:href=\"#ArialMT-116\"/>\r\n     <use x=\"566.845703\" xlink:href=\"#ArialMT-114\"/>\r\n     <use x=\"600.146484\" xlink:href=\"#ArialMT-97\"/>\r\n     <use x=\"655.761719\" xlink:href=\"#ArialMT-103\"/>\r\n     <use x=\"711.376953\" xlink:href=\"#ArialMT-101\"/>\r\n     <use x=\"766.992188\" xlink:href=\"#ArialMT-32\"/>\r\n     <use x=\"794.775391\" xlink:href=\"#ArialMT-97\"/>\r\n     <use x=\"850.390625\" xlink:href=\"#ArialMT-114\"/>\r\n     <use x=\"883.691406\" xlink:href=\"#ArialMT-103\"/>\r\n     <use x=\"939.306641\" xlink:href=\"#ArialMT-117\"/>\r\n     <use x=\"994.921875\" xlink:href=\"#ArialMT-109\"/>\r\n     <use x=\"1078.222656\" xlink:href=\"#ArialMT-101\"/>\r\n     <use x=\"1133.837891\" xlink:href=\"#ArialMT-110\"/>\r\n     <use x=\"1189.453125\" xlink:href=\"#ArialMT-116\"/>\r\n    </g>\r\n   </g>\r\n  </g>\r\n </g>\r\n <defs>\r\n  <clipPath id=\"p86942abe3d\">\r\n   <rect height=\"489.24\" width=\"502.2\" x=\"59.361562\" y=\"71.476364\"/>\r\n  </clipPath>\r\n </defs>\r\n</svg>\r\n",
      "image/png": "[encoded data removed]"
     },
     "metadata": {}
    }
   ],
   "source": [
    "arb_plot(c0g=40, I=100, p=1)"
   ]
  },
  {
   "cell_type": "markdown",
   "metadata": {},
   "source": [
    "In the next cell control plot parameters with sliders (will only display if running with live kernel)"
   ]
  },
  {
   "cell_type": "code",
   "execution_count": 6,
   "metadata": {
    "slideshow": {
     "slide_type": "-"
    }
   },
   "outputs": [
    {
     "output_type": "display_data",
     "data": {
      "text/plain": "interactive(children=(FloatSlider(value=50.0, description='c0g', min=1.0), IntSlider(value=100, description='I…",
      "application/vnd.jupyter.widget-view+json": {
       "version_major": 2,
       "version_minor": 0,
       "model_id": "09d64060b7e342fab53127ef2d962cfb"
      }
     },
     "metadata": {}
    }
   ],
   "source": [
    "interact(arb_plot, c0g=(1,I,0.1), I=(50,150,10), p=fixed(1));"
   ]
  },
  {
   "cell_type": "markdown",
   "metadata": {
    "slideshow": {
     "slide_type": "slide"
    }
   },
   "source": [
    "# Numerical constrained optimization\n",
    "\n",
    "The problem we have been solving can be easily solved analytically (i.e. we can derive formulas for Marshallian demands) but it's useful to also see how this type of constrained optimization problem can be solved numerically using the `scipy.opimize` library."
   ]
  },
  {
   "cell_type": "markdown",
   "metadata": {},
   "source": [
    "If we choose good one to be the numeraire (i.e. set $p_1=1$) then the budget constraint \n",
    "\n",
    "$$p_0 x_0 + p_1 x_1 = I $$\n",
    "\n",
    "can be rewritten \n",
    "\n",
    "$$p x_0 + x_1 = I $$\n",
    "\n",
    "where $p=\\frac{p_0}{p_1}$ is the relative price of good 0 (i.e. how many units of good 1 must be exchange for one unit of good 0).  \n",
    "\n",
    "The `minimize` function will want us to pass in constraints expressed in a way similar to the way we use them inside a Lagrangian. In our case the problem is:\n",
    "\n",
    "$$\\max L(x_0, x_1, I, \\lambda) = u(x_0, x_1) + \\lambda (p x_0 + x_1 - I) $$\n",
    "\n",
    "The budget function defines the constraint as a function of $x=(x_0, x_1)$.  What we actually pass to the `minimize` function is a small dictionary with 'type' and 'fun' keys.  The 'type refers to whether it is an equality or inequality constraint and the 'fun' points to the budget function we've defined."
   ]
  },
  {
   "cell_type": "markdown",
   "metadata": {},
   "source": [
    "We are going to wrap all of this inside a function `optimum(p, I)` to allow us to find an optimum for any given price vector $p$ and income  $I$"
   ]
  },
  {
   "cell_type": "code",
   "execution_count": 7,
   "metadata": {},
   "outputs": [],
   "source": [
    "def demands(p, I, a= alpha):\n",
    "    \n",
    "    def budget(x):\n",
    "        return np.array([p*x[0] + x[1] - I])\n",
    "    \n",
    "    def negU(x):\n",
    "        return -U(x, a)\n",
    "\n",
    "    x = np.array([(I/2)/p, (I/2)])  # initial guess - spend half I on each good\n",
    "    \n",
    "    ux = minimize(negU, x, constraints = ({'type': 'eq', 'fun' : budget }) )\n",
    "    \n",
    "    return ux.x\n",
    "    "
   ]
  },
  {
   "cell_type": "markdown",
   "metadata": {},
   "source": [
    "It looks like it works. Suppose $p=1, I=100$ and the Cobb-Douglass share parameter is $\\alpha = 0.7$), then demand for $x_0$ and x_1$ are found to be:"
   ]
  },
  {
   "cell_type": "code",
   "execution_count": 8,
   "metadata": {
    "slideshow": {
     "slide_type": "subslide"
    }
   },
   "outputs": [
    {
     "output_type": "error",
     "ename": "NameError",
     "evalue": "name 'U' is not defined",
     "traceback": [
      "\u001b[1;31m---------------------------------------------------------------------------\u001b[0m",
      "\u001b[1;31mNameError\u001b[0m                                 Traceback (most recent call last)",
      "\u001b[1;32m<ipython-input-8-61a5d531916a>\u001b[0m in \u001b[0;36m<module>\u001b[1;34m\u001b[0m\n\u001b[1;32m----> 1\u001b[1;33m \u001b[1;33m[\u001b[0m\u001b[0mx0opt\u001b[0m\u001b[1;33m,\u001b[0m \u001b[0mx1opt\u001b[0m\u001b[1;33m]\u001b[0m \u001b[1;33m=\u001b[0m \u001b[0mdemands\u001b[0m\u001b[1;33m(\u001b[0m\u001b[1;36m1\u001b[0m\u001b[1;33m,\u001b[0m \u001b[1;36m100\u001b[0m\u001b[1;33m,\u001b[0m \u001b[1;36m0.4\u001b[0m\u001b[1;33m)\u001b[0m\u001b[1;33m\u001b[0m\u001b[1;33m\u001b[0m\u001b[0m\n\u001b[0m\u001b[0;32m      2\u001b[0m \u001b[1;33m\u001b[0m\u001b[0m\n\u001b[0;32m      3\u001b[0m \u001b[0mx0opt\u001b[0m\u001b[1;33m,\u001b[0m \u001b[0mx1opt\u001b[0m\u001b[1;33m,\u001b[0m \u001b[0mU\u001b[0m\u001b[1;33m(\u001b[0m\u001b[1;33m[\u001b[0m\u001b[0mx0opt\u001b[0m\u001b[1;33m,\u001b[0m \u001b[0mx1opt\u001b[0m\u001b[1;33m]\u001b[0m\u001b[1;33m,\u001b[0m \u001b[1;36m0.4\u001b[0m\u001b[1;33m)\u001b[0m\u001b[1;33m\u001b[0m\u001b[1;33m\u001b[0m\u001b[0m\n",
      "\u001b[1;32m<ipython-input-7-abb54d7aea75>\u001b[0m in \u001b[0;36mdemands\u001b[1;34m(p, I, a)\u001b[0m\n\u001b[0;32m      9\u001b[0m     \u001b[0mx\u001b[0m \u001b[1;33m=\u001b[0m \u001b[0mnp\u001b[0m\u001b[1;33m.\u001b[0m\u001b[0marray\u001b[0m\u001b[1;33m(\u001b[0m\u001b[1;33m[\u001b[0m\u001b[1;33m(\u001b[0m\u001b[0mI\u001b[0m\u001b[1;33m/\u001b[0m\u001b[1;36m2\u001b[0m\u001b[1;33m)\u001b[0m\u001b[1;33m/\u001b[0m\u001b[0mp\u001b[0m\u001b[1;33m,\u001b[0m \u001b[1;33m(\u001b[0m\u001b[0mI\u001b[0m\u001b[1;33m/\u001b[0m\u001b[1;36m2\u001b[0m\u001b[1;33m)\u001b[0m\u001b[1;33m]\u001b[0m\u001b[1;33m)\u001b[0m  \u001b[1;31m# initial guess - spend half I on each good\u001b[0m\u001b[1;33m\u001b[0m\u001b[1;33m\u001b[0m\u001b[0m\n\u001b[0;32m     10\u001b[0m \u001b[1;33m\u001b[0m\u001b[0m\n\u001b[1;32m---> 11\u001b[1;33m     \u001b[0mux\u001b[0m \u001b[1;33m=\u001b[0m \u001b[0mminimize\u001b[0m\u001b[1;33m(\u001b[0m\u001b[0mnegU\u001b[0m\u001b[1;33m,\u001b[0m \u001b[0mx\u001b[0m\u001b[1;33m,\u001b[0m \u001b[0mconstraints\u001b[0m \u001b[1;33m=\u001b[0m \u001b[1;33m(\u001b[0m\u001b[1;33m{\u001b[0m\u001b[1;34m'type'\u001b[0m\u001b[1;33m:\u001b[0m \u001b[1;34m'eq'\u001b[0m\u001b[1;33m,\u001b[0m \u001b[1;34m'fun'\u001b[0m \u001b[1;33m:\u001b[0m \u001b[0mbudget\u001b[0m \u001b[1;33m}\u001b[0m\u001b[1;33m)\u001b[0m \u001b[1;33m)\u001b[0m\u001b[1;33m\u001b[0m\u001b[1;33m\u001b[0m\u001b[0m\n\u001b[0m\u001b[0;32m     12\u001b[0m \u001b[1;33m\u001b[0m\u001b[0m\n\u001b[0;32m     13\u001b[0m     \u001b[1;32mreturn\u001b[0m \u001b[0mux\u001b[0m\u001b[1;33m.\u001b[0m\u001b[0mx\u001b[0m\u001b[1;33m\u001b[0m\u001b[1;33m\u001b[0m\u001b[0m\n",
      "\u001b[1;32m~\\anaconda3\\lib\\site-packages\\scipy\\optimize\\_minimize.py\u001b[0m in \u001b[0;36mminimize\u001b[1;34m(fun, x0, args, method, jac, hess, hessp, bounds, constraints, tol, callback, options)\u001b[0m\n\u001b[0;32m    624\u001b[0m     \u001b[1;32melif\u001b[0m \u001b[0mmeth\u001b[0m \u001b[1;33m==\u001b[0m \u001b[1;34m'slsqp'\u001b[0m\u001b[1;33m:\u001b[0m\u001b[1;33m\u001b[0m\u001b[1;33m\u001b[0m\u001b[0m\n\u001b[0;32m    625\u001b[0m         return _minimize_slsqp(fun, x0, args, jac, bounds,\n\u001b[1;32m--> 626\u001b[1;33m                                constraints, callback=callback, **options)\n\u001b[0m\u001b[0;32m    627\u001b[0m     \u001b[1;32melif\u001b[0m \u001b[0mmeth\u001b[0m \u001b[1;33m==\u001b[0m \u001b[1;34m'trust-constr'\u001b[0m\u001b[1;33m:\u001b[0m\u001b[1;33m\u001b[0m\u001b[1;33m\u001b[0m\u001b[0m\n\u001b[0;32m    628\u001b[0m         return _minimize_trustregion_constr(fun, x0, args, jac, hess, hessp,\n",
      "\u001b[1;32m~\\anaconda3\\lib\\site-packages\\scipy\\optimize\\slsqp.py\u001b[0m in \u001b[0;36m_minimize_slsqp\u001b[1;34m(func, x0, args, jac, bounds, constraints, maxiter, ftol, iprint, disp, eps, callback, finite_diff_rel_step, **unknown_options)\u001b[0m\n\u001b[0;32m    368\u001b[0m     sf = _prepare_scalar_function(func, x, jac=jac, args=args, epsilon=eps,\n\u001b[0;32m    369\u001b[0m                                   \u001b[0mfinite_diff_rel_step\u001b[0m\u001b[1;33m=\u001b[0m\u001b[0mfinite_diff_rel_step\u001b[0m\u001b[1;33m,\u001b[0m\u001b[1;33m\u001b[0m\u001b[1;33m\u001b[0m\u001b[0m\n\u001b[1;32m--> 370\u001b[1;33m                                   bounds=new_bounds)\n\u001b[0m\u001b[0;32m    371\u001b[0m \u001b[1;33m\u001b[0m\u001b[0m\n\u001b[0;32m    372\u001b[0m     \u001b[1;31m# Initialize the iteration counter and the mode value\u001b[0m\u001b[1;33m\u001b[0m\u001b[1;33m\u001b[0m\u001b[1;33m\u001b[0m\u001b[0m\n",
      "\u001b[1;32m~\\anaconda3\\lib\\site-packages\\scipy\\optimize\\optimize.py\u001b[0m in \u001b[0;36m_prepare_scalar_function\u001b[1;34m(fun, x0, jac, args, bounds, epsilon, finite_diff_rel_step, hess)\u001b[0m\n\u001b[0;32m    260\u001b[0m     \u001b[1;31m# calculation reduces overall function evaluations.\u001b[0m\u001b[1;33m\u001b[0m\u001b[1;33m\u001b[0m\u001b[1;33m\u001b[0m\u001b[0m\n\u001b[0;32m    261\u001b[0m     sf = ScalarFunction(fun, x0, args, grad, hess,\n\u001b[1;32m--> 262\u001b[1;33m                         finite_diff_rel_step, bounds, epsilon=epsilon)\n\u001b[0m\u001b[0;32m    263\u001b[0m \u001b[1;33m\u001b[0m\u001b[0m\n\u001b[0;32m    264\u001b[0m     \u001b[1;32mreturn\u001b[0m \u001b[0msf\u001b[0m\u001b[1;33m\u001b[0m\u001b[1;33m\u001b[0m\u001b[0m\n",
      "\u001b[1;32m~\\anaconda3\\lib\\site-packages\\scipy\\optimize\\_differentiable_functions.py\u001b[0m in \u001b[0;36m__init__\u001b[1;34m(self, fun, x0, args, grad, hess, finite_diff_rel_step, finite_diff_bounds, epsilon)\u001b[0m\n\u001b[0;32m     74\u001b[0m \u001b[1;33m\u001b[0m\u001b[0m\n\u001b[0;32m     75\u001b[0m         \u001b[0mself\u001b[0m\u001b[1;33m.\u001b[0m\u001b[0m_update_fun_impl\u001b[0m \u001b[1;33m=\u001b[0m \u001b[0mupdate_fun\u001b[0m\u001b[1;33m\u001b[0m\u001b[1;33m\u001b[0m\u001b[0m\n\u001b[1;32m---> 76\u001b[1;33m         \u001b[0mself\u001b[0m\u001b[1;33m.\u001b[0m\u001b[0m_update_fun\u001b[0m\u001b[1;33m(\u001b[0m\u001b[1;33m)\u001b[0m\u001b[1;33m\u001b[0m\u001b[1;33m\u001b[0m\u001b[0m\n\u001b[0m\u001b[0;32m     77\u001b[0m \u001b[1;33m\u001b[0m\u001b[0m\n\u001b[0;32m     78\u001b[0m         \u001b[1;31m# Gradient evaluation\u001b[0m\u001b[1;33m\u001b[0m\u001b[1;33m\u001b[0m\u001b[1;33m\u001b[0m\u001b[0m\n",
      "\u001b[1;32m~\\anaconda3\\lib\\site-packages\\scipy\\optimize\\_differentiable_functions.py\u001b[0m in \u001b[0;36m_update_fun\u001b[1;34m(self)\u001b[0m\n\u001b[0;32m    164\u001b[0m     \u001b[1;32mdef\u001b[0m \u001b[0m_update_fun\u001b[0m\u001b[1;33m(\u001b[0m\u001b[0mself\u001b[0m\u001b[1;33m)\u001b[0m\u001b[1;33m:\u001b[0m\u001b[1;33m\u001b[0m\u001b[1;33m\u001b[0m\u001b[0m\n\u001b[0;32m    165\u001b[0m         \u001b[1;32mif\u001b[0m \u001b[1;32mnot\u001b[0m \u001b[0mself\u001b[0m\u001b[1;33m.\u001b[0m\u001b[0mf_updated\u001b[0m\u001b[1;33m:\u001b[0m\u001b[1;33m\u001b[0m\u001b[1;33m\u001b[0m\u001b[0m\n\u001b[1;32m--> 166\u001b[1;33m             \u001b[0mself\u001b[0m\u001b[1;33m.\u001b[0m\u001b[0m_update_fun_impl\u001b[0m\u001b[1;33m(\u001b[0m\u001b[1;33m)\u001b[0m\u001b[1;33m\u001b[0m\u001b[1;33m\u001b[0m\u001b[0m\n\u001b[0m\u001b[0;32m    167\u001b[0m             \u001b[0mself\u001b[0m\u001b[1;33m.\u001b[0m\u001b[0mf_updated\u001b[0m \u001b[1;33m=\u001b[0m \u001b[1;32mTrue\u001b[0m\u001b[1;33m\u001b[0m\u001b[1;33m\u001b[0m\u001b[0m\n\u001b[0;32m    168\u001b[0m \u001b[1;33m\u001b[0m\u001b[0m\n",
      "\u001b[1;32m~\\anaconda3\\lib\\site-packages\\scipy\\optimize\\_differentiable_functions.py\u001b[0m in \u001b[0;36mupdate_fun\u001b[1;34m()\u001b[0m\n\u001b[0;32m     71\u001b[0m \u001b[1;33m\u001b[0m\u001b[0m\n\u001b[0;32m     72\u001b[0m         \u001b[1;32mdef\u001b[0m \u001b[0mupdate_fun\u001b[0m\u001b[1;33m(\u001b[0m\u001b[1;33m)\u001b[0m\u001b[1;33m:\u001b[0m\u001b[1;33m\u001b[0m\u001b[1;33m\u001b[0m\u001b[0m\n\u001b[1;32m---> 73\u001b[1;33m             \u001b[0mself\u001b[0m\u001b[1;33m.\u001b[0m\u001b[0mf\u001b[0m \u001b[1;33m=\u001b[0m \u001b[0mfun_wrapped\u001b[0m\u001b[1;33m(\u001b[0m\u001b[0mself\u001b[0m\u001b[1;33m.\u001b[0m\u001b[0mx\u001b[0m\u001b[1;33m)\u001b[0m\u001b[1;33m\u001b[0m\u001b[1;33m\u001b[0m\u001b[0m\n\u001b[0m\u001b[0;32m     74\u001b[0m \u001b[1;33m\u001b[0m\u001b[0m\n\u001b[0;32m     75\u001b[0m         \u001b[0mself\u001b[0m\u001b[1;33m.\u001b[0m\u001b[0m_update_fun_impl\u001b[0m \u001b[1;33m=\u001b[0m \u001b[0mupdate_fun\u001b[0m\u001b[1;33m\u001b[0m\u001b[1;33m\u001b[0m\u001b[0m\n",
      "\u001b[1;32m~\\anaconda3\\lib\\site-packages\\scipy\\optimize\\_differentiable_functions.py\u001b[0m in \u001b[0;36mfun_wrapped\u001b[1;34m(x)\u001b[0m\n\u001b[0;32m     68\u001b[0m         \u001b[1;32mdef\u001b[0m \u001b[0mfun_wrapped\u001b[0m\u001b[1;33m(\u001b[0m\u001b[0mx\u001b[0m\u001b[1;33m)\u001b[0m\u001b[1;33m:\u001b[0m\u001b[1;33m\u001b[0m\u001b[1;33m\u001b[0m\u001b[0m\n\u001b[0;32m     69\u001b[0m             \u001b[0mself\u001b[0m\u001b[1;33m.\u001b[0m\u001b[0mnfev\u001b[0m \u001b[1;33m+=\u001b[0m \u001b[1;36m1\u001b[0m\u001b[1;33m\u001b[0m\u001b[1;33m\u001b[0m\u001b[0m\n\u001b[1;32m---> 70\u001b[1;33m             \u001b[1;32mreturn\u001b[0m \u001b[0mfun\u001b[0m\u001b[1;33m(\u001b[0m\u001b[0mx\u001b[0m\u001b[1;33m,\u001b[0m \u001b[1;33m*\u001b[0m\u001b[0margs\u001b[0m\u001b[1;33m)\u001b[0m\u001b[1;33m\u001b[0m\u001b[1;33m\u001b[0m\u001b[0m\n\u001b[0m\u001b[0;32m     71\u001b[0m \u001b[1;33m\u001b[0m\u001b[0m\n\u001b[0;32m     72\u001b[0m         \u001b[1;32mdef\u001b[0m \u001b[0mupdate_fun\u001b[0m\u001b[1;33m(\u001b[0m\u001b[1;33m)\u001b[0m\u001b[1;33m:\u001b[0m\u001b[1;33m\u001b[0m\u001b[1;33m\u001b[0m\u001b[0m\n",
      "\u001b[1;32m<ipython-input-7-abb54d7aea75>\u001b[0m in \u001b[0;36mnegU\u001b[1;34m(x)\u001b[0m\n\u001b[0;32m      5\u001b[0m \u001b[1;33m\u001b[0m\u001b[0m\n\u001b[0;32m      6\u001b[0m     \u001b[1;32mdef\u001b[0m \u001b[0mnegU\u001b[0m\u001b[1;33m(\u001b[0m\u001b[0mx\u001b[0m\u001b[1;33m)\u001b[0m\u001b[1;33m:\u001b[0m\u001b[1;33m\u001b[0m\u001b[1;33m\u001b[0m\u001b[0m\n\u001b[1;32m----> 7\u001b[1;33m         \u001b[1;32mreturn\u001b[0m \u001b[1;33m-\u001b[0m\u001b[0mU\u001b[0m\u001b[1;33m(\u001b[0m\u001b[0mx\u001b[0m\u001b[1;33m,\u001b[0m \u001b[0ma\u001b[0m\u001b[1;33m)\u001b[0m\u001b[1;33m\u001b[0m\u001b[1;33m\u001b[0m\u001b[0m\n\u001b[0m\u001b[0;32m      8\u001b[0m \u001b[1;33m\u001b[0m\u001b[0m\n\u001b[0;32m      9\u001b[0m     \u001b[0mx\u001b[0m \u001b[1;33m=\u001b[0m \u001b[0mnp\u001b[0m\u001b[1;33m.\u001b[0m\u001b[0marray\u001b[0m\u001b[1;33m(\u001b[0m\u001b[1;33m[\u001b[0m\u001b[1;33m(\u001b[0m\u001b[0mI\u001b[0m\u001b[1;33m/\u001b[0m\u001b[1;36m2\u001b[0m\u001b[1;33m)\u001b[0m\u001b[1;33m/\u001b[0m\u001b[0mp\u001b[0m\u001b[1;33m,\u001b[0m \u001b[1;33m(\u001b[0m\u001b[0mI\u001b[0m\u001b[1;33m/\u001b[0m\u001b[1;36m2\u001b[0m\u001b[1;33m)\u001b[0m\u001b[1;33m]\u001b[0m\u001b[1;33m)\u001b[0m  \u001b[1;31m# initial guess - spend half I on each good\u001b[0m\u001b[1;33m\u001b[0m\u001b[1;33m\u001b[0m\u001b[0m\n",
      "\u001b[1;31mNameError\u001b[0m: name 'U' is not defined"
     ]
    }
   ],
   "source": [
    "[x0opt, x1opt] = demands(1, 100, 0.4)\n",
    "\n",
    "x0opt, x1opt, U([x0opt, x1opt], 0.4)"
   ]
  },
  {
   "cell_type": "markdown",
   "metadata": {},
   "source": [
    "This is very close to the exact analytical solution but the solver sometimes stops just short of the true optimum (if we wanted to we could get much closer by setting a higher tolerance threshold in the minimize solver)"
   ]
  },
  {
   "cell_type": "code",
   "execution_count": 22,
   "metadata": {},
   "outputs": [
    {
     "output_type": "execute_result",
     "data": {
      "text/plain": [
       "([40.0, 60.0], 51.01698002503163)"
      ]
     },
     "metadata": {},
     "execution_count": 22
    }
   ],
   "source": [
    "ademands(1,100, 0.4)"
   ]
  },
  {
   "cell_type": "markdown",
   "metadata": {},
   "source": [
    "Finally let's setup a simple widget to let us see the consumer optimum changes with parameters.\n",
    "\n",
    "Will only display if run with a live kernel."
   ]
  },
  {
   "cell_type": "code",
   "execution_count": 23,
   "metadata": {},
   "outputs": [
    {
     "output_type": "display_data",
     "data": {
      "text/plain": "interactive(children=(FloatSlider(value=1.1, description='p', max=2.0, min=0.2), IntSlider(value=120, descript…",
      "application/vnd.jupyter.widget-view+json": {
       "version_major": 2,
       "version_minor": 0,
       "model_id": "ba7112d230494efe8a8a741eb016deba"
      }
     },
     "metadata": {}
    }
   ],
   "source": [
    "interact(demands, p=(0.2,2,0.1), I = (50, 200, 10), a =(0.2, 0.8, 0.1));"
   ]
  },
  {
   "cell_type": "markdown",
   "metadata": {},
   "source": [
    "## Code Section\n",
    "Run code below first to re-render the graphs above"
   ]
  },
  {
   "cell_type": "code",
   "execution_count": 10,
   "metadata": {},
   "outputs": [],
   "source": [
    "%matplotlib inline\n",
    "import matplotlib.pyplot as plt\n",
    "plt.style.use('seaborn-whitegrid')\n",
    "from mpl_toolkits.mplot3d import *\n",
    "from matplotlib import cm\n",
    "\n",
    "import numpy as np\n",
    "from scipy.optimize import minimize\n",
    "\n",
    "from ipywidgets import interact"
   ]
  },
  {
   "cell_type": "markdown",
   "metadata": {},
   "source": [
    "Default parameters:"
   ]
  },
  {
   "cell_type": "code",
   "execution_count": 11,
   "metadata": {
    "slideshow": {
     "slide_type": "skip"
    }
   },
   "outputs": [],
   "source": [
    "alpha = 0.6\n",
    "p = 1\n",
    "I = 100"
   ]
  },
  {
   "cell_type": "markdown",
   "metadata": {
    "slideshow": {
     "slide_type": "skip"
    }
   },
   "source": [
    "Now define the utility function and budget constraint and other helpful functions."
   ]
  },
  {
   "cell_type": "code",
   "execution_count": 12,
   "metadata": {
    "slideshow": {
     "slide_type": "subslide"
    }
   },
   "outputs": [],
   "source": [
    "# useful for plots and calculations\n",
    "def budgetc(c0,p,I):\n",
    "    '''c1 as a function of c0 along budget line'''\n",
    "    return I - p*c0\n",
    "\n",
    "def U(c, a=alpha):\n",
    "    '''Utility at c=(c[0], c[1])'''\n",
    "    return (c[0]**a)*(c[1]**(1-a))\n",
    "\n",
    "def MU0(c, a=alpha):\n",
    "    '''MU of Cobb-Douglas'''\n",
    "    return  a*U(c,a)/c[0] \n",
    "\n",
    "def MU1(c, a=alpha):\n",
    "    return  (1-a)*U(c,a)/c[1]\n",
    "\n",
    "def indif(c0, ubar, a=alpha):\n",
    "    '''c1 as function of c0, implicitly defined by U(c0, c1) = ubar'''\n",
    "    return (ubar/(c0**a))**(1/(1-a))"
   ]
  },
  {
   "cell_type": "code",
   "execution_count": 13,
   "metadata": {
    "slideshow": {
     "slide_type": "skip"
    }
   },
   "outputs": [],
   "source": [
    "def ademands(p,I,a =alpha):\n",
    "    '''Analytic solution for interior optimum'''\n",
    "    c0 = a * I/p\n",
    "    c1 = (1-a)*I\n",
    "    c = [c0,c1]\n",
    "    uopt = U(c,a)\n",
    "    return c, uopt"
   ]
  },
  {
   "cell_type": "markdown",
   "metadata": {},
   "source": [
    "#### Plotting functions\n",
    "First define some reasonable outer graph limits."
   ]
  },
  {
   "cell_type": "code",
   "execution_count": 14,
   "metadata": {
    "slideshow": {
     "slide_type": "skip"
    }
   },
   "outputs": [],
   "source": [
    "pmin, pmax = 1, 4\n",
    "Imin, Imax = 10, 200\n",
    "cmax = (3/4)*Imax/pmin\n",
    "c0 = np.linspace(0.1,cmax,num=100)"
   ]
  },
  {
   "cell_type": "code",
   "execution_count": 15,
   "metadata": {
    "slideshow": {
     "slide_type": "skip"
    }
   },
   "outputs": [],
   "source": [
    "def consume_plot(p, I, a=alpha):\n",
    "    ce, uebar = ademands(p, I, a)\n",
    "    fig, ax = plt.subplots(figsize=(9,9))\n",
    "    ax.plot(c0, budgetc(c0, p, I), lw=2.5)\n",
    "    ax.fill_between(c0, budgetc(c0, p, I), alpha = 0.2)\n",
    "    ax.plot(c0, indif(c0, uebar, a), lw=2.5)\n",
    "    ax.vlines(ce[0],0,ce[1], linestyles=\"dashed\")\n",
    "    ax.hlines(ce[1],0,ce[0], linestyles=\"dashed\")\n",
    "    ax.plot(ce[0],ce[1],'ob')\n",
    "    ax.set_xlim(0, cmax)\n",
    "    ax.set_ylim(0, cmax)\n",
    "    ax.set_xlabel(r'$c_0$', fontsize=16)\n",
    "    ax.set_ylabel('$c_1$', fontsize=16)\n",
    "    ax.spines['right'].set_visible(False)\n",
    "    ax.spines['top'].set_visible(False)\n",
    "    plt.show()"
   ]
  },
  {
   "cell_type": "code",
   "execution_count": 16,
   "metadata": {
    "slideshow": {
     "slide_type": "skip"
    }
   },
   "outputs": [],
   "source": [
    "def arb_plot(c0g):\n",
    "    cg = [c0g,I-c0g]\n",
    "    '''Display characteristics of a guess along the constraint'''\n",
    "    fig, ax = plt.subplots(figsize=(9,9))\n",
    "    ax.plot(c0, budgetc(c0, p, I), lw=1)\n",
    "    ax.fill_between(c0, budgetc(c0, p, I), alpha = 0.2)\n",
    "    ax.plot(c0, indif(c0, U(cg)), lw=2.5)\n",
    "    ax.vlines(cg[0],0,cg[1], linestyles=\"dashed\")\n",
    "    ax.hlines(cg[1],0,cg[0], linestyles=\"dashed\")\n",
    "    ax.plot(cg[0],cg[1],'ob')\n",
    "    mu0pd, mu1pd = MU0(cg), MU1(cg)/p\n",
    "    if mu0pd > mu1pd:\n",
    "        inq = r'$>$'\n",
    "    elif mu0pd < mu1pd:\n",
    "        inq = r'$<$'\n",
    "    else:\n",
    "        inq =r'$=$'\n",
    "    ax.text(60, 120, r'$\\frac{MU_0}{p_0}$'+inq+r'$\\frac{MU_1}{p_1}$',fontsize=20)\n",
    "    utext = r'$({:5.1f}, {:5.1f}) \\ \\ U={:5.3f}$'.format(cg[0], cg[1], U(cg))\n",
    "    ax.text(60, 100, utext, fontsize=12)\n",
    "    ax.set_xlim(0, cmax)\n",
    "    ax.set_ylim(0, cmax)\n",
    "    ax.set_xlabel(r'$c_0$', fontsize=16)\n",
    "    ax.set_ylabel('$c_1$', fontsize=16)\n",
    "    ax.spines['right'].set_visible(False)\n",
    "    ax.spines['top'].set_visible(False)\n",
    "    ax.set_title('The No-Arbitrage argument')\n",
    "    plt.show()"
   ]
  },
  {
   "cell_type": "code",
   "execution_count": null,
   "metadata": {},
   "outputs": [],
   "source": []
  }
 ],
 "metadata": {
  "hide_input": false,
  "kernelspec": {
   "display_name": "Python 3",
   "language": "python",
   "name": "python3"
  },
  "language_info": {
   "codemirror_mode": {
    "name": "ipython",
    "version": 3
   },
   "file_extension": ".py",
   "mimetype": "text/x-python",
   "name": "python",
   "nbconvert_exporter": "python",
   "pygments_lexer": "ipython3",
   "version": "3.7.9-final"
  },
  "toc": {
   "colors": {
    "hover_highlight": "#DAA520",
    "navigate_num": "#000000",
    "navigate_text": "#333333",
    "running_highlight": "#FF0000",
    "selected_highlight": "#FFD700",
    "sidebar_border": "#EEEEEE",
    "wrapper_background": "#FFFFFF"
   },
   "moveMenuLeft": true,
   "nav_menu": {
    "height": "119px",
    "width": "252px"
   },
   "navigate_menu": true,
   "number_sections": true,
   "sideBar": true,
   "threshold": 4,
   "toc_cell": false,
   "toc_section_display": "block",
   "toc_window_display": false,
   "widenNotebook": false
  },
  "varInspector": {
   "cols": {
    "lenName": 16,
    "lenType": 16,
    "lenVar": 40
   },
   "kernels_config": {
    "python": {
     "delete_cmd_postfix": "",
     "delete_cmd_prefix": "del ",
     "library": "var_list.py",
     "varRefreshCmd": "print(var_dic_list())"
    },
    "r": {
     "delete_cmd_postfix": ") ",
     "delete_cmd_prefix": "rm(",
     "library": "var_list.r",
     "varRefreshCmd": "cat(var_dic_list()) "
    }
   },
   "types_to_exclude": [
    "module",
    "function",
    "builtin_function_or_method",
    "instance",
    "_Feature"
   ],
   "window_display": false
  },
  "widgets": {
   "application/vnd.jupyter.widget-state+json": {
    "state": {
     "03cf926a2e084f34b5f6873f58d242b3": {
      "model_module": "jupyter-js-widgets",
      "model_module_version": "~2.1.4",
      "model_name": "LayoutModel",
      "state": {
       "_model_module_version": "~2.1.4",
       "_view_module_version": "~2.1.4"
      }
     },
     "064ea9c85662449fae9d916fe97b640f": {
      "model_module": "jupyter-js-widgets",
      "model_module_version": "~2.1.4",
      "model_name": "VBoxModel",
      "state": {
       "_dom_classes": [
        "widget-interact"
       ],
       "_model_module_version": "~2.1.4",
       "_view_module_version": "~2.1.4",
       "children": [
        "IPY_MODEL_138ac116283c4e7d929b5a3b0f57bcb3",
        "IPY_MODEL_67f811b376b54581bdee45155f6a7ef2",
        "IPY_MODEL_2cfa115b2d774d1eb2ce9039b8989fd7",
        "IPY_MODEL_9013467863504b97b9711cf41e3f29ea"
       ],
       "layout": "IPY_MODEL_1d75d273bba2449d8af7e37cd6b499d7"
      }
     },
     "094f470f4f6649c68f88b6b27bbb7b60": {
      "model_module": "jupyter-js-widgets",
      "model_module_version": "~2.1.4",
      "model_name": "IntSliderModel",
      "state": {
       "_model_module_version": "~2.1.4",
       "_view_module_version": "~2.1.4",
       "description": "I",
       "layout": "IPY_MODEL_4a9df9e37204415dba79f72d4afaca98",
       "max": 200,
       "min": 50,
       "step": 10,
       "style": "IPY_MODEL_6f251514fbe4475e96960afb9c5a9902",
       "value": 150
      }
     },
     "138ac116283c4e7d929b5a3b0f57bcb3": {
      "model_module": "jupyter-js-widgets",
      "model_module_version": "~2.1.4",
      "model_name": "FloatSliderModel",
      "state": {
       "_model_module_version": "~2.1.4",
       "_view_module_version": "~2.1.4",
       "description": "p",
       "layout": "IPY_MODEL_59605589006947548638b65d013388b5",
       "max": 2,
       "min": 0.2,
       "step": 0.1,
       "value": 1.1
      }
     },
     "1d75d273bba2449d8af7e37cd6b499d7": {
      "model_module": "jupyter-js-widgets",
      "model_module_version": "~2.1.4",
      "model_name": "LayoutModel",
      "state": {
       "_model_module_version": "~2.1.4",
       "_view_module_version": "~2.1.4"
      }
     },
     "20aaaeac7698408db5f08c6f8a71fe8d": {
      "model_module": "jupyter-js-widgets",
      "model_module_version": "~2.1.4",
      "model_name": "OutputModel",
      "state": {
       "_dom_classes": [],
       "_model_module": "jupyter-js-widgets",
       "_model_module_version": "~2.1.4",
       "_view_module": "jupyter-js-widgets",
       "_view_module_version": "~2.1.4",
       "layout": "IPY_MODEL_a0cb99ec5fd14b629c15faf23061138d",
       "msg_throttle": 1
      }
     },
     "24eb067952ba4aacbf45d9bcc873287f": {
      "model_module": "jupyter-js-widgets",
      "model_module_version": "~2.1.4",
      "model_name": "OutputModel",
      "state": {
       "_dom_classes": [],
       "_model_module": "jupyter-js-widgets",
       "_model_module_version": "~2.1.4",
       "_view_module": "jupyter-js-widgets",
       "_view_module_version": "~2.1.4",
       "layout": "IPY_MODEL_789ca9bdfab0453a9d7680fcf940beb3",
       "msg_throttle": 1
      }
     },
     "2c60942d35e844369c4a89cd5c931519": {
      "model_module": "jupyter-js-widgets",
      "model_module_version": "~2.1.4",
      "model_name": "SliderStyleModel",
      "state": {
       "_model_module_version": "~2.1.4",
       "_view_module_version": "~2.1.4"
      }
     },
     "2cfa115b2d774d1eb2ce9039b8989fd7": {
      "model_module": "jupyter-js-widgets",
      "model_module_version": "~2.1.4",
      "model_name": "FloatSliderModel",
      "state": {
       "_model_module_version": "~2.1.4",
       "_view_module_version": "~2.1.4",
       "description": "a",
       "layout": "IPY_MODEL_303c5b488f6440b9868629c8a1ebf0c6",
       "max": 0.8,
       "min": 0.2,
       "step": 0.1,
       "value": 0.6
      }
     },
     "303c5b488f6440b9868629c8a1ebf0c6": {
      "model_module": "jupyter-js-widgets",
      "model_module_version": "~2.1.4",
      "model_name": "LayoutModel",
      "state": {
       "_model_module_version": "~2.1.4",
       "_view_module_version": "~2.1.4"
      }
     },
     "33e77c1ec0f64526b75ab13c4c38c708": {
      "model_module": "jupyter-js-widgets",
      "model_module_version": "~2.1.4",
      "model_name": "VBoxModel",
      "state": {
       "_dom_classes": [
        "widget-interact"
       ],
       "_model_module_version": "~2.1.4",
       "_view_module_version": "~2.1.4",
       "children": [
        "IPY_MODEL_9e676ba9885f4011a70e9cfa1d4814c5",
        "IPY_MODEL_dfe64a110cb446ee94636d474a470cd1"
       ],
       "layout": "IPY_MODEL_36e740ef7f4a461c9e952de8b98004c1"
      }
     },
     "356e4b9845a04111aaf32ede5c0bb742": {
      "model_module": "jupyter-js-widgets",
      "model_module_version": "~2.1.4",
      "model_name": "FloatSliderModel",
      "state": {
       "_model_module_version": "~2.1.4",
       "_view_module_version": "~2.1.4",
       "description": "a",
       "layout": "IPY_MODEL_8c3f851e06424a60972a7d39db228ec8",
       "max": 0.9,
       "min": 0.1,
       "step": 0.1,
       "value": 0.5
      }
     },
     "36e740ef7f4a461c9e952de8b98004c1": {
      "model_module": "jupyter-js-widgets",
      "model_module_version": "~2.1.4",
      "model_name": "LayoutModel",
      "state": {
       "_model_module_version": "~2.1.4",
       "_view_module_version": "~2.1.4"
      }
     },
     "394c09a8a68f48fbae8e234a22ff28b3": {
      "model_module": "jupyter-js-widgets",
      "model_module_version": "~2.1.4",
      "model_name": "LayoutModel",
      "state": {
       "_model_module_version": "~2.1.4",
       "_view_module_version": "~2.1.4"
      }
     },
     "3b47733435424f6bbfe981bafec7cc7b": {
      "model_module": "jupyter-js-widgets",
      "model_module_version": "~2.1.4",
      "model_name": "SliderStyleModel",
      "state": {
       "_model_module_version": "~2.1.4",
       "_view_module_version": "~2.1.4"
      }
     },
     "3cc82ab9728647ed9fd526cb957de4ce": {
      "model_module": "jupyter-js-widgets",
      "model_module_version": "~2.1.4",
      "model_name": "LayoutModel",
      "state": {
       "_model_module_version": "~2.1.4",
       "_view_module_version": "~2.1.4"
      }
     },
     "47e1c488f3a14ac4bca317a47f0dda9d": {
      "model_module": "jupyter-js-widgets",
      "model_module_version": "~2.1.4",
      "model_name": "VBoxModel",
      "state": {
       "_dom_classes": [
        "widget-interact"
       ],
       "_model_module_version": "~2.1.4",
       "_view_module_version": "~2.1.4",
       "children": [
        "IPY_MODEL_a56a2656ffee40a9a8ef27cf6be6a5e9",
        "IPY_MODEL_eafcba014c0049528042824b9ae7ae2e"
       ],
       "layout": "IPY_MODEL_6995674287c246cc9b554ab42fedb30e"
      }
     },
     "4a9df9e37204415dba79f72d4afaca98": {
      "model_module": "jupyter-js-widgets",
      "model_module_version": "~2.1.4",
      "model_name": "LayoutModel",
      "state": {
       "_model_module_version": "~2.1.4",
       "_view_module_version": "~2.1.4"
      }
     },
     "4aeb78e887604375841ef96f9a7728db": {
      "model_module": "jupyter-js-widgets",
      "model_module_version": "~2.1.4",
      "model_name": "LayoutModel",
      "state": {
       "_model_module_version": "~2.1.4",
       "_view_module_version": "~2.1.4"
      }
     },
     "59605589006947548638b65d013388b5": {
      "model_module": "jupyter-js-widgets",
      "model_module_version": "~2.1.4",
      "model_name": "LayoutModel",
      "state": {
       "_model_module_version": "~2.1.4",
       "_view_module_version": "~2.1.4"
      }
     },
     "5a61a5aa775c4883b4f4a863c653b312": {
      "model_module": "jupyter-js-widgets",
      "model_module_version": "~2.1.4",
      "model_name": "LayoutModel",
      "state": {
       "_model_module_version": "~2.1.4",
       "_view_module_version": "~2.1.4"
      }
     },
     "5c48505d651b4eb186ed55c5fcc2c735": {
      "model_module": "jupyter-js-widgets",
      "model_module_version": "~2.1.4",
      "model_name": "IntSliderModel",
      "state": {
       "_model_module_version": "~2.1.4",
       "_view_module_version": "~2.1.4",
       "description": "I",
       "layout": "IPY_MODEL_dab93e5de107484fa107729cdbca4473",
       "max": 150,
       "min": 50,
       "step": 10,
       "style": "IPY_MODEL_2c60942d35e844369c4a89cd5c931519",
       "value": 150
      }
     },
     "5e5e4486f5bb4841adbeaf0636572275": {
      "model_module": "jupyter-js-widgets",
      "model_module_version": "~2.1.4",
      "model_name": "LayoutModel",
      "state": {
       "_model_module_version": "~2.1.4",
       "_view_module_version": "~2.1.4"
      }
     },
     "67f811b376b54581bdee45155f6a7ef2": {
      "model_module": "jupyter-js-widgets",
      "model_module_version": "~2.1.4",
      "model_name": "IntSliderModel",
      "state": {
       "_model_module_version": "~2.1.4",
       "_view_module_version": "~2.1.4",
       "description": "I",
       "layout": "IPY_MODEL_c26b25c962a349acbcb325368e268a2e",
       "max": 200,
       "min": 50,
       "step": 10,
       "style": "IPY_MODEL_a7f748292e1949698e9ba68324e1cf1e",
       "value": 120
      }
     },
     "6995674287c246cc9b554ab42fedb30e": {
      "model_module": "jupyter-js-widgets",
      "model_module_version": "~2.1.4",
      "model_name": "LayoutModel",
      "state": {
       "_model_module_version": "~2.1.4",
       "_view_module_version": "~2.1.4"
      }
     },
     "6f251514fbe4475e96960afb9c5a9902": {
      "model_module": "jupyter-js-widgets",
      "model_module_version": "~2.1.4",
      "model_name": "SliderStyleModel",
      "state": {
       "_model_module_version": "~2.1.4",
       "_view_module_version": "~2.1.4"
      }
     },
     "6f3e6ebbb5b14de5b4741f27c30af70d": {
      "model_module": "jupyter-js-widgets",
      "model_module_version": "~2.1.4",
      "model_name": "LayoutModel",
      "state": {
       "_model_module_version": "~2.1.4",
       "_view_module_version": "~2.1.4"
      }
     },
     "789ca9bdfab0453a9d7680fcf940beb3": {
      "model_module": "jupyter-js-widgets",
      "model_module_version": "~2.1.4",
      "model_name": "LayoutModel",
      "state": {
       "_model_module_version": "~2.1.4",
       "_view_module_version": "~2.1.4"
      }
     },
     "7b155e43bbc646d3b7909e0914db0e5c": {
      "model_module": "jupyter-js-widgets",
      "model_module_version": "~2.1.4",
      "model_name": "FloatSliderModel",
      "state": {
       "_model_module_version": "~2.1.4",
       "_view_module_version": "~2.1.4",
       "description": "p",
       "layout": "IPY_MODEL_84d739eedf4b4addab570f0a9bc3a954",
       "max": 2,
       "min": 0.2,
       "step": 0.1,
       "value": 1.6
      }
     },
     "7b97f59127f24b8c9e7a69bc6c57f29c": {
      "model_module": "jupyter-js-widgets",
      "model_module_version": "~2.1.4",
      "model_name": "LayoutModel",
      "state": {
       "_model_module_version": "~2.1.4",
       "_view_module_version": "~2.1.4"
      }
     },
     "7d60aa3a65ec4e8f915255270e21264c": {
      "model_module": "jupyter-js-widgets",
      "model_module_version": "~2.1.4",
      "model_name": "LayoutModel",
      "state": {
       "_model_module_version": "~2.1.4",
       "_view_module_version": "~2.1.4"
      }
     },
     "82813221b24c42a3859cce8776acd85e": {
      "model_module": "jupyter-js-widgets",
      "model_module_version": "~2.1.4",
      "model_name": "LayoutModel",
      "state": {
       "_model_module_version": "~2.1.4",
       "_view_module_version": "~2.1.4"
      }
     },
     "841d8792d23d4017be6147a0f3475752": {
      "model_module": "jupyter-js-widgets",
      "model_module_version": "~2.1.4",
      "model_name": "LayoutModel",
      "state": {
       "_model_module_version": "~2.1.4",
       "_view_module_version": "~2.1.4"
      }
     },
     "84d739eedf4b4addab570f0a9bc3a954": {
      "model_module": "jupyter-js-widgets",
      "model_module_version": "~2.1.4",
      "model_name": "LayoutModel",
      "state": {
       "_model_module_version": "~2.1.4",
       "_view_module_version": "~2.1.4"
      }
     },
     "86c6d45fee634ab4bae92e8078aa708d": {
      "model_module": "jupyter-js-widgets",
      "model_module_version": "~2.1.4",
      "model_name": "LayoutModel",
      "state": {
       "_model_module_version": "~2.1.4",
       "_view_module_version": "~2.1.4"
      }
     },
     "8c3f851e06424a60972a7d39db228ec8": {
      "model_module": "jupyter-js-widgets",
      "model_module_version": "~2.1.4",
      "model_name": "LayoutModel",
      "state": {
       "_model_module_version": "~2.1.4",
       "_view_module_version": "~2.1.4"
      }
     },
     "9013467863504b97b9711cf41e3f29ea": {
      "model_module": "jupyter-js-widgets",
      "model_module_version": "~2.1.4",
      "model_name": "OutputModel",
      "state": {
       "_dom_classes": [],
       "_model_module": "jupyter-js-widgets",
       "_model_module_version": "~2.1.4",
       "_view_module": "jupyter-js-widgets",
       "_view_module_version": "~2.1.4",
       "layout": "IPY_MODEL_c71b656a09e34e07b21dffbf7f7a8c32",
       "msg_throttle": 1
      }
     },
     "909e6610225e4820a97ed5e37f6dbaff": {
      "model_module": "jupyter-js-widgets",
      "model_module_version": "~2.1.4",
      "model_name": "LayoutModel",
      "state": {
       "_model_module_version": "~2.1.4",
       "_view_module_version": "~2.1.4"
      }
     },
     "96255db2342349738bbed1f9405e1476": {
      "model_module": "jupyter-js-widgets",
      "model_module_version": "~2.1.4",
      "model_name": "FloatSliderModel",
      "state": {
       "_model_module_version": "~2.1.4",
       "_view_module_version": "~2.1.4",
       "description": "p",
       "layout": "IPY_MODEL_82813221b24c42a3859cce8776acd85e",
       "max": 2,
       "min": 0.2,
       "step": 0.1,
       "value": 1.1
      }
     },
     "97fac39e6cd7495d88e3916ce199081f": {
      "model_module": "jupyter-js-widgets",
      "model_module_version": "~2.1.4",
      "model_name": "FloatSliderModel",
      "state": {
       "_model_module_version": "~2.1.4",
       "_view_module_version": "~2.1.4",
       "description": "a",
       "layout": "IPY_MODEL_86c6d45fee634ab4bae92e8078aa708d",
       "max": 0.9,
       "min": 0.1,
       "step": 0.1,
       "value": 0.6
      }
     },
     "987e9ffda86e47b9951be0d8d0c07a4b": {
      "model_module": "jupyter-js-widgets",
      "model_module_version": "~2.1.4",
      "model_name": "VBoxModel",
      "state": {
       "_dom_classes": [
        "widget-interact"
       ],
       "_model_module_version": "~2.1.4",
       "_view_module_version": "~2.1.4",
       "children": [
        "IPY_MODEL_ee282882f97849fba4b9859bfdb95465",
        "IPY_MODEL_5c48505d651b4eb186ed55c5fcc2c735",
        "IPY_MODEL_356e4b9845a04111aaf32ede5c0bb742",
        "IPY_MODEL_da75b08390004e2c8317cedf50737056"
       ],
       "layout": "IPY_MODEL_ccd858f84dff48108cfa82478a8a90ac"
      }
     },
     "9e676ba9885f4011a70e9cfa1d4814c5": {
      "model_module": "jupyter-js-widgets",
      "model_module_version": "~2.1.4",
      "model_name": "FloatSliderModel",
      "state": {
       "_model_module_version": "~2.1.4",
       "_view_module_version": "~2.1.4",
       "description": "c0g",
       "layout": "IPY_MODEL_f131949f999542018f247d2cdb7dc291",
       "min": 1,
       "step": 0.1,
       "value": 71.1
      }
     },
     "a0cb99ec5fd14b629c15faf23061138d": {
      "model_module": "jupyter-js-widgets",
      "model_module_version": "~2.1.4",
      "model_name": "LayoutModel",
      "state": {
       "_model_module_version": "~2.1.4",
       "_view_module_version": "~2.1.4"
      }
     },
     "a56a2656ffee40a9a8ef27cf6be6a5e9": {
      "model_module": "jupyter-js-widgets",
      "model_module_version": "~2.1.4",
      "model_name": "FloatSliderModel",
      "state": {
       "_model_module_version": "~2.1.4",
       "_view_module_version": "~2.1.4",
       "description": "c0g",
       "layout": "IPY_MODEL_e43df0c97964468f9bc4f1a38d1665da",
       "min": 1,
       "step": 0.1,
       "value": 50
      }
     },
     "a5b7ef60f25d437692b5ba63c5bebe5a": {
      "model_module": "jupyter-js-widgets",
      "model_module_version": "~2.1.4",
      "model_name": "FloatSliderModel",
      "state": {
       "_model_module_version": "~2.1.4",
       "_view_module_version": "~2.1.4",
       "description": "p",
       "layout": "IPY_MODEL_03cf926a2e084f34b5f6873f58d242b3",
       "max": 2,
       "min": 0.5,
       "step": 0.1,
       "value": 1.2000000000000002
      }
     },
     "a7f748292e1949698e9ba68324e1cf1e": {
      "model_module": "jupyter-js-widgets",
      "model_module_version": "~2.1.4",
      "model_name": "SliderStyleModel",
      "state": {
       "_model_module_version": "~2.1.4",
       "_view_module_version": "~2.1.4"
      }
     },
     "aaa611f14ca9464f965b12eee8171e99": {
      "model_module": "jupyter-js-widgets",
      "model_module_version": "~2.1.4",
      "model_name": "LayoutModel",
      "state": {
       "_model_module_version": "~2.1.4",
       "_view_module_version": "~2.1.4"
      }
     },
     "ac5de043ed794de9a4c139b9afec8bd4": {
      "model_module": "jupyter-js-widgets",
      "model_module_version": "~2.1.4",
      "model_name": "FloatSliderModel",
      "state": {
       "_model_module_version": "~2.1.4",
       "_view_module_version": "~2.1.4",
       "description": "a",
       "layout": "IPY_MODEL_841d8792d23d4017be6147a0f3475752",
       "max": 0.8,
       "min": 0.2,
       "step": 0.1,
       "value": 0.6
      }
     },
     "b189074f0fdd461f953a0987ef1e42f8": {
      "model_module": "jupyter-js-widgets",
      "model_module_version": "~2.1.4",
      "model_name": "VBoxModel",
      "state": {
       "_dom_classes": [
        "widget-interact"
       ],
       "_model_module_version": "~2.1.4",
       "_view_module_version": "~2.1.4",
       "children": [
        "IPY_MODEL_96255db2342349738bbed1f9405e1476",
        "IPY_MODEL_094f470f4f6649c68f88b6b27bbb7b60",
        "IPY_MODEL_d352a293d105466b81ee43216f957be2",
        "IPY_MODEL_24eb067952ba4aacbf45d9bcc873287f"
       ],
       "layout": "IPY_MODEL_5a61a5aa775c4883b4f4a863c653b312"
      }
     },
     "b7a75605705c4b3ab2744ce9decdc135": {
      "model_module": "jupyter-js-widgets",
      "model_module_version": "~2.1.4",
      "model_name": "VBoxModel",
      "state": {
       "_dom_classes": [
        "widget-interact"
       ],
       "_model_module_version": "~2.1.4",
       "_view_module_version": "~2.1.4",
       "children": [
        "IPY_MODEL_7b155e43bbc646d3b7909e0914db0e5c",
        "IPY_MODEL_d1c38f0064334042850c38a6db4c4fc4",
        "IPY_MODEL_ac5de043ed794de9a4c139b9afec8bd4",
        "IPY_MODEL_fa401d2be8de4b88adc42e05a5af1148"
       ],
       "layout": "IPY_MODEL_ba597629c2d541d9b92b725621bd3a70"
      }
     },
     "ba597629c2d541d9b92b725621bd3a70": {
      "model_module": "jupyter-js-widgets",
      "model_module_version": "~2.1.4",
      "model_name": "LayoutModel",
      "state": {
       "_model_module_version": "~2.1.4",
       "_view_module_version": "~2.1.4"
      }
     },
     "c26b25c962a349acbcb325368e268a2e": {
      "model_module": "jupyter-js-widgets",
      "model_module_version": "~2.1.4",
      "model_name": "LayoutModel",
      "state": {
       "_model_module_version": "~2.1.4",
       "_view_module_version": "~2.1.4"
      }
     },
     "c71b656a09e34e07b21dffbf7f7a8c32": {
      "model_module": "jupyter-js-widgets",
      "model_module_version": "~2.1.4",
      "model_name": "LayoutModel",
      "state": {
       "_model_module_version": "~2.1.4",
       "_view_module_version": "~2.1.4"
      }
     },
     "ccd858f84dff48108cfa82478a8a90ac": {
      "model_module": "jupyter-js-widgets",
      "model_module_version": "~2.1.4",
      "model_name": "LayoutModel",
      "state": {
       "_model_module_version": "~2.1.4",
       "_view_module_version": "~2.1.4"
      }
     },
     "d1c38f0064334042850c38a6db4c4fc4": {
      "model_module": "jupyter-js-widgets",
      "model_module_version": "~2.1.4",
      "model_name": "IntSliderModel",
      "state": {
       "_model_module_version": "~2.1.4",
       "_view_module_version": "~2.1.4",
       "description": "I",
       "layout": "IPY_MODEL_7d60aa3a65ec4e8f915255270e21264c",
       "max": 200,
       "min": 50,
       "step": 10,
       "style": "IPY_MODEL_3b47733435424f6bbfe981bafec7cc7b",
       "value": 170
      }
     },
     "d352a293d105466b81ee43216f957be2": {
      "model_module": "jupyter-js-widgets",
      "model_module_version": "~2.1.4",
      "model_name": "FloatSliderModel",
      "state": {
       "_model_module_version": "~2.1.4",
       "_view_module_version": "~2.1.4",
       "description": "a",
       "layout": "IPY_MODEL_3cc82ab9728647ed9fd526cb957de4ce",
       "max": 0.8,
       "min": 0.2,
       "step": 0.1,
       "value": 0.6
      }
     },
     "da75b08390004e2c8317cedf50737056": {
      "model_module": "jupyter-js-widgets",
      "model_module_version": "~2.1.4",
      "model_name": "OutputModel",
      "state": {
       "_dom_classes": [],
       "_model_module": "jupyter-js-widgets",
       "_model_module_version": "~2.1.4",
       "_view_module": "jupyter-js-widgets",
       "_view_module_version": "~2.1.4",
       "layout": "IPY_MODEL_6f3e6ebbb5b14de5b4741f27c30af70d",
       "msg_throttle": 1
      }
     },
     "dab93e5de107484fa107729cdbca4473": {
      "model_module": "jupyter-js-widgets",
      "model_module_version": "~2.1.4",
      "model_name": "LayoutModel",
      "state": {
       "_model_module_version": "~2.1.4",
       "_view_module_version": "~2.1.4"
      }
     },
     "dfe64a110cb446ee94636d474a470cd1": {
      "model_module": "jupyter-js-widgets",
      "model_module_version": "~2.1.4",
      "model_name": "OutputModel",
      "state": {
       "_dom_classes": [],
       "_model_module": "jupyter-js-widgets",
       "_model_module_version": "~2.1.4",
       "_view_module": "jupyter-js-widgets",
       "_view_module_version": "~2.1.4",
       "layout": "IPY_MODEL_4aeb78e887604375841ef96f9a7728db",
       "msg_throttle": 1
      }
     },
     "e28378ee5bf84286b498a7f6db9e67b8": {
      "model_module": "jupyter-js-widgets",
      "model_module_version": "~2.1.4",
      "model_name": "IntSliderModel",
      "state": {
       "_model_module_version": "~2.1.4",
       "_view_module_version": "~2.1.4",
       "description": "I",
       "layout": "IPY_MODEL_aaa611f14ca9464f965b12eee8171e99",
       "max": 150,
       "min": 50,
       "step": 10,
       "style": "IPY_MODEL_fc6d99b57cdb4a4194e75803db7f15b5",
       "value": 100
      }
     },
     "e43df0c97964468f9bc4f1a38d1665da": {
      "model_module": "jupyter-js-widgets",
      "model_module_version": "~2.1.4",
      "model_name": "LayoutModel",
      "state": {
       "_model_module_version": "~2.1.4",
       "_view_module_version": "~2.1.4"
      }
     },
     "eafcba014c0049528042824b9ae7ae2e": {
      "model_module": "jupyter-js-widgets",
      "model_module_version": "~2.1.4",
      "model_name": "OutputModel",
      "state": {
       "_dom_classes": [],
       "_model_module": "jupyter-js-widgets",
       "_model_module_version": "~2.1.4",
       "_view_module": "jupyter-js-widgets",
       "_view_module_version": "~2.1.4",
       "layout": "IPY_MODEL_7b97f59127f24b8c9e7a69bc6c57f29c",
       "msg_throttle": 1
      }
     },
     "ee282882f97849fba4b9859bfdb95465": {
      "model_module": "jupyter-js-widgets",
      "model_module_version": "~2.1.4",
      "model_name": "FloatSliderModel",
      "state": {
       "_model_module_version": "~2.1.4",
       "_view_module_version": "~2.1.4",
       "description": "p",
       "layout": "IPY_MODEL_394c09a8a68f48fbae8e234a22ff28b3",
       "max": 2,
       "min": 0.5,
       "step": 0.1,
       "value": 1.6
      }
     },
     "f131949f999542018f247d2cdb7dc291": {
      "model_module": "jupyter-js-widgets",
      "model_module_version": "~2.1.4",
      "model_name": "LayoutModel",
      "state": {
       "_model_module_version": "~2.1.4",
       "_view_module_version": "~2.1.4"
      }
     },
     "fa401d2be8de4b88adc42e05a5af1148": {
      "model_module": "jupyter-js-widgets",
      "model_module_version": "~2.1.4",
      "model_name": "OutputModel",
      "state": {
       "_dom_classes": [],
       "_model_module": "jupyter-js-widgets",
       "_model_module_version": "~2.1.4",
       "_view_module": "jupyter-js-widgets",
       "_view_module_version": "~2.1.4",
       "layout": "IPY_MODEL_5e5e4486f5bb4841adbeaf0636572275",
       "msg_throttle": 1
      }
     },
     "fc6d99b57cdb4a4194e75803db7f15b5": {
      "model_module": "jupyter-js-widgets",
      "model_module_version": "~2.1.4",
      "model_name": "SliderStyleModel",
      "state": {
       "_model_module_version": "~2.1.4",
       "_view_module_version": "~2.1.4"
      }
     },
     "fd0f770bb0a249a4a4be718eb0e3cddf": {
      "model_module": "jupyter-js-widgets",
      "model_module_version": "~2.1.4",
      "model_name": "VBoxModel",
      "state": {
       "_dom_classes": [
        "widget-interact"
       ],
       "_model_module_version": "~2.1.4",
       "_view_module_version": "~2.1.4",
       "children": [
        "IPY_MODEL_a5b7ef60f25d437692b5ba63c5bebe5a",
        "IPY_MODEL_e28378ee5bf84286b498a7f6db9e67b8",
        "IPY_MODEL_97fac39e6cd7495d88e3916ce199081f",
        "IPY_MODEL_20aaaeac7698408db5f08c6f8a71fe8d"
       ],
       "layout": "IPY_MODEL_909e6610225e4820a97ed5e37f6dbaff"
      }
     }
    },
    "version_major": 1,
    "version_minor": 0
   }
  }
 },
 "nbformat": 4,
 "nbformat_minor": 2
}