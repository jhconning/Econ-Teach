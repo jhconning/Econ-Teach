{
 "cells": [
  {
   "cell_type": "markdown",
   "metadata": {},
   "source": [
    "## Eco 100 diagrams"
   ]
  },
  {
   "cell_type": "code",
   "execution_count": 1,
   "metadata": {},
   "outputs": [],
   "source": [
    "import matplotlib.pyplot as plt\n",
    "from ipywidgets import interact, interact_manual, fixed\n",
    "import numpy as np\n",
    "\n",
    "\n",
    "plt.style.use('bmh')\n",
    "plt.rcParams[\"figure.figsize\"] = [7,7]\n",
    "plt.rcParams[\"axes.spines.right\"] = False\n",
    "plt.rcParams[\"axes.spines.top\"] = False\n",
    "plt.rcParams[\"font.size\"] = 18\n"
   ]
  },
  {
   "cell_type": "code",
   "execution_count": 2,
   "metadata": {},
   "outputs": [],
   "source": [
    " Q = np.linspace(0.1,100,num=100)\n",
    "F=10\n",
    "P = 10\n",
    "c = 0.1\n",
    "b = 2"
   ]
  },
  {
   "cell_type": "code",
   "execution_count": 3,
   "metadata": {},
   "outputs": [],
   "source": [
    "def TC(Q,F=F,c=c):\n",
    "    return F + c*Q**b\n",
    "\n",
    "def MC(Q,F=F,c=c):\n",
    "    return b*c*Q**(b-1)\n",
    "\n",
    "def profit(P,Q,F=F,c=c):\n",
    "    return P*Q - TC(Q,F,c)"
   ]
  },
  {
   "cell_type": "code",
   "execution_count": 4,
   "metadata": {},
   "outputs": [],
   "source": [
    "def firm(P,F):\n",
    "    qc = (P/(b*c))**(1/(b-1))\n",
    "    print(r'Qc = {:.2f},    Profit  = {:.2f}'.format(qc,profit(P,qc,F,c)))\n",
    "    fig, ax = plt.subplots(3,1,figsize=(8,12))\n",
    "    ax[0].plot(Q,P*Q)\n",
    "    ax[0].plot(Q, TC(Q,F), lw=2.5)\n",
    "    ax[0].text(90, TC(80), r'$TC$', fontsize=15)\n",
    "    ax[0].text(60, P*80, r'$TR=P\\cdot Q$', fontsize=15)\n",
    "    ax[0].axvline(qc,linestyle='dashed')\n",
    "\n",
    "    ax[1].plot(Q, P*Q - TC(Q,F,c))\n",
    "    ax[1].axhline(0,linestyle='dashed')\n",
    "    ax[1].axvline(qc,linestyle='dashed')\n",
    "    ax[2].axvline(qc,linestyle='dashed')\n",
    "    ax[1].set_ylim(-100,300)\n",
    "  \n",
    "    ax[2].axhline(P)\n",
    "    ax[2].set_ylim(0,25)\n",
    "    ax[2].plot(Q,MC(Q),'red')\n",
    "    ax[2].set_xlabel('Q -- quantity')\n",
    "    ax[2].set_ylabel('Price')\n",
    "    ax[2].text(90, MC(80), r'MC', fontsize=15)"
   ]
  },
  {
   "cell_type": "code",
   "execution_count": 5,
   "metadata": {},
   "outputs": [
    {
     "data": {
      "application/vnd.jupyter.widget-view+json": {
       "model_id": "cd618d0832734573860f65d5f78a307f",
       "version_major": 2,
       "version_minor": 0
      },
      "text/plain": [
       "interactive(children=(IntSlider(value=8, description='P', max=15, min=2), IntSlider(value=200, description='F'…"
      ]
     },
     "metadata": {},
     "output_type": "display_data"
    },
    {
     "data": {
      "text/plain": [
       "<function __main__.firm(P, F)>"
      ]
     },
     "execution_count": 5,
     "metadata": {},
     "output_type": "execute_result"
    }
   ],
   "source": [
    "interact(firm,P=(2,15,1),F=(0,400,50))"
   ]
  },
  {
   "cell_type": "code",
   "execution_count": null,
   "metadata": {},
   "outputs": [],
   "source": []
  },
  {
   "cell_type": "code",
   "execution_count": null,
   "metadata": {},
   "outputs": [],
   "source": []
  }
 ],
 "metadata": {
  "kernelspec": {
   "display_name": "Python 3",
   "language": "python",
   "name": "python3"
  },
  "language_info": {
   "codemirror_mode": {
    "name": "ipython",
    "version": 3
   },
   "file_extension": ".py",
   "mimetype": "text/x-python",
   "name": "python",
   "nbconvert_exporter": "python",
   "pygments_lexer": "ipython3",
   "version": "3.6.6"
  },
  "varInspector": {
   "cols": {
    "lenName": 16,
    "lenType": 16,
    "lenVar": 40
   },
   "kernels_config": {
    "python": {
     "delete_cmd_postfix": "",
     "delete_cmd_prefix": "del ",
     "library": "var_list.py",
     "varRefreshCmd": "print(var_dic_list())"
    },
    "r": {
     "delete_cmd_postfix": ") ",
     "delete_cmd_prefix": "rm(",
     "library": "var_list.r",
     "varRefreshCmd": "cat(var_dic_list()) "
    }
   },
   "types_to_exclude": [
    "module",
    "function",
    "builtin_function_or_method",
    "instance",
    "_Feature"
   ],
   "window_display": false
  }
 },
 "nbformat": 4,
 "nbformat_minor": 2
}
