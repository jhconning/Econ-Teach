{
 "cells": [
  {
   "cell_type": "markdown",
   "metadata": {},
   "source": [
    "# Open Access"
   ]
  },
  {
   "cell_type": "markdown",
   "metadata": {},
   "source": [
    "Built around an example from Chapter 2 of the book:\n",
    ">Baland, Jean-Marie, and Jean-Philippe Platteau. 1996. Halting Degradation of Natural Resources: Is There a Role for Rural Communities? Oxford and FAO.\n",
    "\n"
   ]
  },
  {
   "cell_type": "code",
   "execution_count": 1,
   "metadata": {},
   "outputs": [],
   "source": [
    "import numpy as np\n",
    "import matplotlib.pyplot as plt\n",
    "from ipywidgets import interact"
   ]
  },
  {
   "cell_type": "code",
   "execution_count": 2,
   "metadata": {},
   "outputs": [],
   "source": [
    "def Y(n,a=20, b=0.2):\n",
    "    return a*n - b*n**2\n",
    "\n",
    "def AP(n,a=12, b=0.5):\n",
    "    return Y(n,a,b)/n\n",
    "\n",
    "def MP(n,a=12, b=0.5):\n",
    "    return a - 2*b*n\n"
   ]
  },
  {
   "cell_type": "code",
   "execution_count": 3,
   "metadata": {},
   "outputs": [],
   "source": [
    "p = 3\n",
    "a = 20\n",
    "b = 0.2\n",
    "xmax = 10"
   ]
  },
  {
   "cell_type": "code",
   "execution_count": 4,
   "metadata": {},
   "outputs": [],
   "source": [
    "def oaccess(p, a, b):\n",
    "    nn = np.linspace(0.01,10,50)\n",
    "    fig, ax = plt.subplots()\n",
    "\n",
    "    ax.plot(nn, Y(nn,a,b))\n",
    "    ax.plot(nn, p*nn)\n",
    "    ax.plot(nn, AP(nn,a,b))\n",
    "    ax.plot(nn, MP(nn,a,b))\n",
    "\n",
    "    \n",
    "    xmax = a/b\n",
    "    ax.hlines(p,xmin=0,xmax=xmax)\n",
    "    ymax = Y(a/(2*b),a,b)*1.1\n",
    "    nopt = (a-p)/(2*b)    # optimal extraction p =Y'(n)\n",
    "    noa = (a-p)/(b)       # open access extraction p=Y/n \n",
    "    ax.vlines(nopt,ymin=0,ymax=Y(nopt,a,b),linestyle=':')\n",
    "    ax.vlines(noa,ymin=0,ymax=Y(noa,a,b),linestyle=':')\n",
    "    ax.set_xlabel(r'$n$')\n",
    "    ax.set_ylabel(r'$Y, p$')\n",
    "    ax.set_xlim(0,xmax)\n",
    "    ax.set_ylim(0,ymax)"
   ]
  },
  {
   "cell_type": "markdown",
   "metadata": {},
   "source": [
    "- $p$ -- price of the resource\n",
    "- $Y(n,a,b) = a \\cdot n - b \\cdot n^2$\n",
    "- $M"
   ]
  },
  {
   "cell_type": "code",
   "execution_count": 6,
   "metadata": {},
   "outputs": [
    {
     "data": {
      "application/vnd.jupyter.widget-view+json": {
       "model_id": "dcb03997353f4092b7ce1586ebddd02b",
       "version_major": 2,
       "version_minor": 0
      },
      "text/plain": [
       "interactive(children=(FloatSlider(value=1.7000000000000002, description='p', max=3.0, min=0.5), IntSlider(valu…"
      ]
     },
     "metadata": {},
     "output_type": "display_data"
    }
   ],
   "source": [
    "interact(oaccess, p = (0.5,3,0.1), a= (5,10,1), b=(0.1,2,0.05));"
   ]
  },
  {
   "cell_type": "markdown",
   "metadata": {},
   "source": [
    "###\n",
    "\n",
    "Baland and Platteau:\n",
    "\n",
    "\"The source of the inefficiency in open access situations clearly lies in trhe fact that people must mobilize non-free production factors (factors carrying a positive opportunity cost) where they are not required for production purposes.\"\n",
    "\n",
    "\"analogous to that of sharing a pie where, to have access to a share of the pie, agents have to pay an entry fee at some positive cost.\"\n",
    "\n",
    "In diagram above, harvesters enter until average product equals price.  All rents dissipated (at open access equilibrium, $p \\cdot n = Y(n)$\n",
    "\n",
    "\n",
    "The encloser can be thought of fencing and then raising the price of access from p to something higher.  Just like a monopolist!"
   ]
  },
  {
   "cell_type": "code",
   "execution_count": null,
   "metadata": {},
   "outputs": [],
   "source": []
  }
 ],
 "metadata": {
  "kernelspec": {
   "display_name": "Python 3",
   "language": "python",
   "name": "python3"
  },
  "language_info": {
   "codemirror_mode": {
    "name": "ipython",
    "version": 3
   },
   "file_extension": ".py",
   "mimetype": "text/x-python",
   "name": "python",
   "nbconvert_exporter": "python",
   "pygments_lexer": "ipython3",
   "version": "3.7.3"
  },
  "varInspector": {
   "cols": {
    "lenName": 16,
    "lenType": 16,
    "lenVar": 40
   },
   "kernels_config": {
    "python": {
     "delete_cmd_postfix": "",
     "delete_cmd_prefix": "del ",
     "library": "var_list.py",
     "varRefreshCmd": "print(var_dic_list())"
    },
    "r": {
     "delete_cmd_postfix": ") ",
     "delete_cmd_prefix": "rm(",
     "library": "var_list.r",
     "varRefreshCmd": "cat(var_dic_list()) "
    }
   },
   "types_to_exclude": [
    "module",
    "function",
    "builtin_function_or_method",
    "instance",
    "_Feature"
   ],
   "window_display": false
  }
 },
 "nbformat": 4,
 "nbformat_minor": 4
}
